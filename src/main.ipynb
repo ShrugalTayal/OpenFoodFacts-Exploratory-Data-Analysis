{
 "cells": [
  {
   "cell_type": "markdown",
   "metadata": {},
   "source": [
    "# Open Food Facts Exploratory Data Analysis (EDA)"
   ]
  },
  {
   "cell_type": "markdown",
   "metadata": {},
   "source": [
    "## 1. Context\n",
    "\n",
    "Exploratory Data Analysis (EDA) serves as a vital starting point in the analysis of OpenFoodFacts data. Its primary aim is to thoroughly grasp the dataset, uncover patterns, spot anomalies, and generate hypotheses. Below are the essential steps typically involved in conducting EDA:"
   ]
  },
  {
   "cell_type": "markdown",
   "metadata": {},
   "source": [
    "## 2. Collect data\n",
    "Open Food Facts is a free, open, collbarative database of food products from around the world, with ingredients, allergens, nutrition facts and all the tidbits of information we can find on product labels.\n",
    "\n",
    "Link: https://world.openfoodfacts.org/data"
   ]
  },
  {
   "cell_type": "markdown",
   "metadata": {},
   "source": [
    "## 3. Load data\n",
    "Import the data into your analysis environment.\n",
    "\n",
    "Note: update the file path 'en.openfoodfacts.org.products.tsv' with the appropriate path to your tab-separated file. This script is configured to read the file in segments of the specified size, monitor the progress, and merge these segments into a cohesive DataFrame called df."
   ]
  },
  {
   "cell_type": "code",
   "execution_count": 11,
   "metadata": {},
   "outputs": [],
   "source": [
    "import random\n",
    "import numpy as np\n",
    "import pandas as pd\n",
    "import scipy.stats as stats\n",
    "import seaborn as sns\n",
    "import matplotlib.pyplot as plt\n",
    "import os\n",
    "import pickle\n",
    "\n",
    "%matplotlib inline\n",
    "sns.set(style='white')"
   ]
  },
  {
   "cell_type": "code",
   "execution_count": 9,
   "metadata": {},
   "outputs": [],
   "source": [
    "# load the .tsv file by specifying the tab separator and to not load the file by chunks (avoid mixed type inference)\n",
    "file_path = r'..\\res\\en.openfoodfacts.org.products.csv'"
   ]
  },
  {
   "cell_type": "code",
   "execution_count": 10,
   "metadata": {},
   "outputs": [
    {
     "name": "stderr",
     "output_type": "stream",
     "text": [
      "C:\\Users\\HP\\AppData\\Local\\Temp\\ipykernel_5308\\3610018773.py:15: DtypeWarning: Columns (72) have mixed types. Specify dtype option on import or set low_memory=False.\n",
      "  for chunk in pd.read_csv(file_path, sep='\\t', encoding='utf-8', chunksize=chunk_size):\n"
     ]
    },
    {
     "name": "stdout",
     "output_type": "stream",
     "text": [
      "Progress: 0.32%\n"
     ]
    },
    {
     "name": "stderr",
     "output_type": "stream",
     "text": [
      "C:\\Users\\HP\\AppData\\Local\\Temp\\ipykernel_5308\\3610018773.py:15: DtypeWarning: Columns (17) have mixed types. Specify dtype option on import or set low_memory=False.\n",
      "  for chunk in pd.read_csv(file_path, sep='\\t', encoding='utf-8', chunksize=chunk_size):\n"
     ]
    },
    {
     "name": "stdout",
     "output_type": "stream",
     "text": [
      "Progress: 0.65%\n"
     ]
    },
    {
     "name": "stderr",
     "output_type": "stream",
     "text": [
      "C:\\Users\\HP\\AppData\\Local\\Temp\\ipykernel_5308\\3610018773.py:15: DtypeWarning: Columns (0,11,33,35,72) have mixed types. Specify dtype option on import or set low_memory=False.\n",
      "  for chunk in pd.read_csv(file_path, sep='\\t', encoding='utf-8', chunksize=chunk_size):\n"
     ]
    },
    {
     "name": "stdout",
     "output_type": "stream",
     "text": [
      "Progress: 0.97%\n"
     ]
    },
    {
     "name": "stderr",
     "output_type": "stream",
     "text": [
      "C:\\Users\\HP\\AppData\\Local\\Temp\\ipykernel_5308\\3610018773.py:15: DtypeWarning: Columns (33,35) have mixed types. Specify dtype option on import or set low_memory=False.\n",
      "  for chunk in pd.read_csv(file_path, sep='\\t', encoding='utf-8', chunksize=chunk_size):\n"
     ]
    },
    {
     "name": "stdout",
     "output_type": "stream",
     "text": [
      "Progress: 1.30%\n"
     ]
    },
    {
     "name": "stderr",
     "output_type": "stream",
     "text": [
      "C:\\Users\\HP\\AppData\\Local\\Temp\\ipykernel_5308\\3610018773.py:15: DtypeWarning: Columns (0,17,33,35) have mixed types. Specify dtype option on import or set low_memory=False.\n",
      "  for chunk in pd.read_csv(file_path, sep='\\t', encoding='utf-8', chunksize=chunk_size):\n"
     ]
    },
    {
     "name": "stdout",
     "output_type": "stream",
     "text": [
      "Progress: 1.62%\n"
     ]
    },
    {
     "name": "stderr",
     "output_type": "stream",
     "text": [
      "C:\\Users\\HP\\AppData\\Local\\Temp\\ipykernel_5308\\3610018773.py:15: DtypeWarning: Columns (0,31,32,33,35) have mixed types. Specify dtype option on import or set low_memory=False.\n",
      "  for chunk in pd.read_csv(file_path, sep='\\t', encoding='utf-8', chunksize=chunk_size):\n"
     ]
    },
    {
     "name": "stdout",
     "output_type": "stream",
     "text": [
      "Progress: 1.95%\n"
     ]
    },
    {
     "name": "stderr",
     "output_type": "stream",
     "text": [
      "C:\\Users\\HP\\AppData\\Local\\Temp\\ipykernel_5308\\3610018773.py:15: DtypeWarning: Columns (33,35) have mixed types. Specify dtype option on import or set low_memory=False.\n",
      "  for chunk in pd.read_csv(file_path, sep='\\t', encoding='utf-8', chunksize=chunk_size):\n"
     ]
    },
    {
     "name": "stdout",
     "output_type": "stream",
     "text": [
      "Progress: 2.27%\n"
     ]
    },
    {
     "name": "stderr",
     "output_type": "stream",
     "text": [
      "C:\\Users\\HP\\AppData\\Local\\Temp\\ipykernel_5308\\3610018773.py:15: DtypeWarning: Columns (33,35) have mixed types. Specify dtype option on import or set low_memory=False.\n",
      "  for chunk in pd.read_csv(file_path, sep='\\t', encoding='utf-8', chunksize=chunk_size):\n"
     ]
    },
    {
     "name": "stdout",
     "output_type": "stream",
     "text": [
      "Progress: 2.59%\n"
     ]
    },
    {
     "name": "stderr",
     "output_type": "stream",
     "text": [
      "C:\\Users\\HP\\AppData\\Local\\Temp\\ipykernel_5308\\3610018773.py:15: DtypeWarning: Columns (0,17,23,24,25,26,27,31,32,33,35,36,51) have mixed types. Specify dtype option on import or set low_memory=False.\n",
      "  for chunk in pd.read_csv(file_path, sep='\\t', encoding='utf-8', chunksize=chunk_size):\n"
     ]
    },
    {
     "name": "stdout",
     "output_type": "stream",
     "text": [
      "Progress: 2.92%\n"
     ]
    },
    {
     "name": "stderr",
     "output_type": "stream",
     "text": [
      "C:\\Users\\HP\\AppData\\Local\\Temp\\ipykernel_5308\\3610018773.py:15: DtypeWarning: Columns (0,33,35,72) have mixed types. Specify dtype option on import or set low_memory=False.\n",
      "  for chunk in pd.read_csv(file_path, sep='\\t', encoding='utf-8', chunksize=chunk_size):\n"
     ]
    },
    {
     "name": "stdout",
     "output_type": "stream",
     "text": [
      "Progress: 3.24%\n"
     ]
    },
    {
     "name": "stderr",
     "output_type": "stream",
     "text": [
      "C:\\Users\\HP\\AppData\\Local\\Temp\\ipykernel_5308\\3610018773.py:15: DtypeWarning: Columns (31,32,33,35,72) have mixed types. Specify dtype option on import or set low_memory=False.\n",
      "  for chunk in pd.read_csv(file_path, sep='\\t', encoding='utf-8', chunksize=chunk_size):\n"
     ]
    },
    {
     "name": "stdout",
     "output_type": "stream",
     "text": [
      "Progress: 3.57%\n",
      "Progress: 3.89%\n"
     ]
    },
    {
     "name": "stderr",
     "output_type": "stream",
     "text": [
      "C:\\Users\\HP\\AppData\\Local\\Temp\\ipykernel_5308\\3610018773.py:15: DtypeWarning: Columns (0,11,33,35,72) have mixed types. Specify dtype option on import or set low_memory=False.\n",
      "  for chunk in pd.read_csv(file_path, sep='\\t', encoding='utf-8', chunksize=chunk_size):\n"
     ]
    },
    {
     "name": "stdout",
     "output_type": "stream",
     "text": [
      "Progress: 4.22%\n"
     ]
    },
    {
     "name": "stderr",
     "output_type": "stream",
     "text": [
      "C:\\Users\\HP\\AppData\\Local\\Temp\\ipykernel_5308\\3610018773.py:15: DtypeWarning: Columns (31,32,33,35) have mixed types. Specify dtype option on import or set low_memory=False.\n",
      "  for chunk in pd.read_csv(file_path, sep='\\t', encoding='utf-8', chunksize=chunk_size):\n"
     ]
    },
    {
     "name": "stdout",
     "output_type": "stream",
     "text": [
      "Progress: 4.54%\n"
     ]
    },
    {
     "name": "stderr",
     "output_type": "stream",
     "text": [
      "C:\\Users\\HP\\AppData\\Local\\Temp\\ipykernel_5308\\3610018773.py:15: DtypeWarning: Columns (17,23,24,25,31,32,33,35) have mixed types. Specify dtype option on import or set low_memory=False.\n",
      "  for chunk in pd.read_csv(file_path, sep='\\t', encoding='utf-8', chunksize=chunk_size):\n"
     ]
    },
    {
     "name": "stdout",
     "output_type": "stream",
     "text": [
      "Progress: 4.86%\n"
     ]
    },
    {
     "name": "stderr",
     "output_type": "stream",
     "text": [
      "C:\\Users\\HP\\AppData\\Local\\Temp\\ipykernel_5308\\3610018773.py:15: DtypeWarning: Columns (31,32) have mixed types. Specify dtype option on import or set low_memory=False.\n",
      "  for chunk in pd.read_csv(file_path, sep='\\t', encoding='utf-8', chunksize=chunk_size):\n"
     ]
    },
    {
     "name": "stdout",
     "output_type": "stream",
     "text": [
      "Progress: 5.19%\n"
     ]
    },
    {
     "name": "stderr",
     "output_type": "stream",
     "text": [
      "C:\\Users\\HP\\AppData\\Local\\Temp\\ipykernel_5308\\3610018773.py:15: DtypeWarning: Columns (31,32,35) have mixed types. Specify dtype option on import or set low_memory=False.\n",
      "  for chunk in pd.read_csv(file_path, sep='\\t', encoding='utf-8', chunksize=chunk_size):\n"
     ]
    },
    {
     "name": "stdout",
     "output_type": "stream",
     "text": [
      "Progress: 5.51%\n"
     ]
    },
    {
     "name": "stderr",
     "output_type": "stream",
     "text": [
      "C:\\Users\\HP\\AppData\\Local\\Temp\\ipykernel_5308\\3610018773.py:15: DtypeWarning: Columns (0,33,35,72) have mixed types. Specify dtype option on import or set low_memory=False.\n",
      "  for chunk in pd.read_csv(file_path, sep='\\t', encoding='utf-8', chunksize=chunk_size):\n"
     ]
    },
    {
     "name": "stdout",
     "output_type": "stream",
     "text": [
      "Progress: 5.84%\n"
     ]
    },
    {
     "name": "stderr",
     "output_type": "stream",
     "text": [
      "C:\\Users\\HP\\AppData\\Local\\Temp\\ipykernel_5308\\3610018773.py:15: DtypeWarning: Columns (0,11,33,35,72) have mixed types. Specify dtype option on import or set low_memory=False.\n",
      "  for chunk in pd.read_csv(file_path, sep='\\t', encoding='utf-8', chunksize=chunk_size):\n"
     ]
    },
    {
     "name": "stdout",
     "output_type": "stream",
     "text": [
      "Progress: 6.16%\n"
     ]
    },
    {
     "name": "stderr",
     "output_type": "stream",
     "text": [
      "C:\\Users\\HP\\AppData\\Local\\Temp\\ipykernel_5308\\3610018773.py:15: DtypeWarning: Columns (33,35) have mixed types. Specify dtype option on import or set low_memory=False.\n",
      "  for chunk in pd.read_csv(file_path, sep='\\t', encoding='utf-8', chunksize=chunk_size):\n"
     ]
    },
    {
     "name": "stdout",
     "output_type": "stream",
     "text": [
      "Progress: 6.48%\n"
     ]
    },
    {
     "name": "stderr",
     "output_type": "stream",
     "text": [
      "C:\\Users\\HP\\AppData\\Local\\Temp\\ipykernel_5308\\3610018773.py:15: DtypeWarning: Columns (17,33,35) have mixed types. Specify dtype option on import or set low_memory=False.\n",
      "  for chunk in pd.read_csv(file_path, sep='\\t', encoding='utf-8', chunksize=chunk_size):\n"
     ]
    },
    {
     "name": "stdout",
     "output_type": "stream",
     "text": [
      "Progress: 6.81%\n",
      "Progress: 7.13%\n"
     ]
    },
    {
     "name": "stderr",
     "output_type": "stream",
     "text": [
      "C:\\Users\\HP\\AppData\\Local\\Temp\\ipykernel_5308\\3610018773.py:15: DtypeWarning: Columns (0,17,33,35) have mixed types. Specify dtype option on import or set low_memory=False.\n",
      "  for chunk in pd.read_csv(file_path, sep='\\t', encoding='utf-8', chunksize=chunk_size):\n"
     ]
    },
    {
     "name": "stdout",
     "output_type": "stream",
     "text": [
      "Progress: 7.46%\n"
     ]
    },
    {
     "name": "stderr",
     "output_type": "stream",
     "text": [
      "C:\\Users\\HP\\AppData\\Local\\Temp\\ipykernel_5308\\3610018773.py:15: DtypeWarning: Columns (33,35,67,72) have mixed types. Specify dtype option on import or set low_memory=False.\n",
      "  for chunk in pd.read_csv(file_path, sep='\\t', encoding='utf-8', chunksize=chunk_size):\n"
     ]
    },
    {
     "name": "stdout",
     "output_type": "stream",
     "text": [
      "Progress: 7.78%\n"
     ]
    },
    {
     "name": "stderr",
     "output_type": "stream",
     "text": [
      "C:\\Users\\HP\\AppData\\Local\\Temp\\ipykernel_5308\\3610018773.py:15: DtypeWarning: Columns (0,33,35) have mixed types. Specify dtype option on import or set low_memory=False.\n",
      "  for chunk in pd.read_csv(file_path, sep='\\t', encoding='utf-8', chunksize=chunk_size):\n"
     ]
    },
    {
     "name": "stdout",
     "output_type": "stream",
     "text": [
      "Progress: 8.11%\n"
     ]
    },
    {
     "name": "stderr",
     "output_type": "stream",
     "text": [
      "C:\\Users\\HP\\AppData\\Local\\Temp\\ipykernel_5308\\3610018773.py:15: DtypeWarning: Columns (33,35) have mixed types. Specify dtype option on import or set low_memory=False.\n",
      "  for chunk in pd.read_csv(file_path, sep='\\t', encoding='utf-8', chunksize=chunk_size):\n"
     ]
    },
    {
     "name": "stdout",
     "output_type": "stream",
     "text": [
      "Progress: 8.43%\n"
     ]
    },
    {
     "name": "stderr",
     "output_type": "stream",
     "text": [
      "C:\\Users\\HP\\AppData\\Local\\Temp\\ipykernel_5308\\3610018773.py:15: DtypeWarning: Columns (33,35) have mixed types. Specify dtype option on import or set low_memory=False.\n",
      "  for chunk in pd.read_csv(file_path, sep='\\t', encoding='utf-8', chunksize=chunk_size):\n"
     ]
    },
    {
     "name": "stdout",
     "output_type": "stream",
     "text": [
      "Progress: 8.75%\n"
     ]
    },
    {
     "name": "stderr",
     "output_type": "stream",
     "text": [
      "C:\\Users\\HP\\AppData\\Local\\Temp\\ipykernel_5308\\3610018773.py:15: DtypeWarning: Columns (17,33,35) have mixed types. Specify dtype option on import or set low_memory=False.\n",
      "  for chunk in pd.read_csv(file_path, sep='\\t', encoding='utf-8', chunksize=chunk_size):\n"
     ]
    },
    {
     "name": "stdout",
     "output_type": "stream",
     "text": [
      "Progress: 9.08%\n"
     ]
    },
    {
     "name": "stderr",
     "output_type": "stream",
     "text": [
      "C:\\Users\\HP\\AppData\\Local\\Temp\\ipykernel_5308\\3610018773.py:15: DtypeWarning: Columns (33,35) have mixed types. Specify dtype option on import or set low_memory=False.\n",
      "  for chunk in pd.read_csv(file_path, sep='\\t', encoding='utf-8', chunksize=chunk_size):\n"
     ]
    },
    {
     "name": "stdout",
     "output_type": "stream",
     "text": [
      "Progress: 9.40%\n"
     ]
    },
    {
     "name": "stderr",
     "output_type": "stream",
     "text": [
      "C:\\Users\\HP\\AppData\\Local\\Temp\\ipykernel_5308\\3610018773.py:15: DtypeWarning: Columns (31,32) have mixed types. Specify dtype option on import or set low_memory=False.\n",
      "  for chunk in pd.read_csv(file_path, sep='\\t', encoding='utf-8', chunksize=chunk_size):\n"
     ]
    },
    {
     "name": "stdout",
     "output_type": "stream",
     "text": [
      "Progress: 9.73%\n"
     ]
    },
    {
     "name": "stderr",
     "output_type": "stream",
     "text": [
      "C:\\Users\\HP\\AppData\\Local\\Temp\\ipykernel_5308\\3610018773.py:15: DtypeWarning: Columns (31,32,33,35) have mixed types. Specify dtype option on import or set low_memory=False.\n",
      "  for chunk in pd.read_csv(file_path, sep='\\t', encoding='utf-8', chunksize=chunk_size):\n"
     ]
    },
    {
     "name": "stdout",
     "output_type": "stream",
     "text": [
      "Progress: 10.05%\n"
     ]
    },
    {
     "name": "stderr",
     "output_type": "stream",
     "text": [
      "C:\\Users\\HP\\AppData\\Local\\Temp\\ipykernel_5308\\3610018773.py:15: DtypeWarning: Columns (17,31,32) have mixed types. Specify dtype option on import or set low_memory=False.\n",
      "  for chunk in pd.read_csv(file_path, sep='\\t', encoding='utf-8', chunksize=chunk_size):\n"
     ]
    },
    {
     "name": "stdout",
     "output_type": "stream",
     "text": [
      "Progress: 10.38%\n"
     ]
    },
    {
     "name": "stderr",
     "output_type": "stream",
     "text": [
      "C:\\Users\\HP\\AppData\\Local\\Temp\\ipykernel_5308\\3610018773.py:15: DtypeWarning: Columns (17,33,35) have mixed types. Specify dtype option on import or set low_memory=False.\n",
      "  for chunk in pd.read_csv(file_path, sep='\\t', encoding='utf-8', chunksize=chunk_size):\n"
     ]
    },
    {
     "name": "stdout",
     "output_type": "stream",
     "text": [
      "Progress: 10.70%\n"
     ]
    },
    {
     "name": "stderr",
     "output_type": "stream",
     "text": [
      "C:\\Users\\HP\\AppData\\Local\\Temp\\ipykernel_5308\\3610018773.py:15: DtypeWarning: Columns (31,32) have mixed types. Specify dtype option on import or set low_memory=False.\n",
      "  for chunk in pd.read_csv(file_path, sep='\\t', encoding='utf-8', chunksize=chunk_size):\n"
     ]
    },
    {
     "name": "stdout",
     "output_type": "stream",
     "text": [
      "Progress: 11.02%\n"
     ]
    },
    {
     "name": "stderr",
     "output_type": "stream",
     "text": [
      "C:\\Users\\HP\\AppData\\Local\\Temp\\ipykernel_5308\\3610018773.py:15: DtypeWarning: Columns (11,17,33,35,72) have mixed types. Specify dtype option on import or set low_memory=False.\n",
      "  for chunk in pd.read_csv(file_path, sep='\\t', encoding='utf-8', chunksize=chunk_size):\n"
     ]
    },
    {
     "name": "stdout",
     "output_type": "stream",
     "text": [
      "Progress: 11.35%\n"
     ]
    },
    {
     "name": "stderr",
     "output_type": "stream",
     "text": [
      "C:\\Users\\HP\\AppData\\Local\\Temp\\ipykernel_5308\\3610018773.py:15: DtypeWarning: Columns (17,33,35) have mixed types. Specify dtype option on import or set low_memory=False.\n",
      "  for chunk in pd.read_csv(file_path, sep='\\t', encoding='utf-8', chunksize=chunk_size):\n"
     ]
    },
    {
     "name": "stdout",
     "output_type": "stream",
     "text": [
      "Progress: 11.67%\n",
      "Progress: 12.00%\n"
     ]
    },
    {
     "name": "stderr",
     "output_type": "stream",
     "text": [
      "C:\\Users\\HP\\AppData\\Local\\Temp\\ipykernel_5308\\3610018773.py:15: DtypeWarning: Columns (33,35) have mixed types. Specify dtype option on import or set low_memory=False.\n",
      "  for chunk in pd.read_csv(file_path, sep='\\t', encoding='utf-8', chunksize=chunk_size):\n"
     ]
    },
    {
     "name": "stdout",
     "output_type": "stream",
     "text": [
      "Progress: 12.32%\n"
     ]
    },
    {
     "name": "stderr",
     "output_type": "stream",
     "text": [
      "C:\\Users\\HP\\AppData\\Local\\Temp\\ipykernel_5308\\3610018773.py:15: DtypeWarning: Columns (17,26,27) have mixed types. Specify dtype option on import or set low_memory=False.\n",
      "  for chunk in pd.read_csv(file_path, sep='\\t', encoding='utf-8', chunksize=chunk_size):\n"
     ]
    },
    {
     "name": "stdout",
     "output_type": "stream",
     "text": [
      "Progress: 12.65%\n"
     ]
    },
    {
     "name": "stderr",
     "output_type": "stream",
     "text": [
      "C:\\Users\\HP\\AppData\\Local\\Temp\\ipykernel_5308\\3610018773.py:15: DtypeWarning: Columns (33,35) have mixed types. Specify dtype option on import or set low_memory=False.\n",
      "  for chunk in pd.read_csv(file_path, sep='\\t', encoding='utf-8', chunksize=chunk_size):\n"
     ]
    },
    {
     "name": "stdout",
     "output_type": "stream",
     "text": [
      "Progress: 12.97%\n"
     ]
    },
    {
     "name": "stderr",
     "output_type": "stream",
     "text": [
      "C:\\Users\\HP\\AppData\\Local\\Temp\\ipykernel_5308\\3610018773.py:15: DtypeWarning: Columns (72) have mixed types. Specify dtype option on import or set low_memory=False.\n",
      "  for chunk in pd.read_csv(file_path, sep='\\t', encoding='utf-8', chunksize=chunk_size):\n"
     ]
    },
    {
     "name": "stdout",
     "output_type": "stream",
     "text": [
      "Progress: 13.29%\n",
      "Progress: 13.62%\n"
     ]
    },
    {
     "name": "stderr",
     "output_type": "stream",
     "text": [
      "C:\\Users\\HP\\AppData\\Local\\Temp\\ipykernel_5308\\3610018773.py:15: DtypeWarning: Columns (17) have mixed types. Specify dtype option on import or set low_memory=False.\n",
      "  for chunk in pd.read_csv(file_path, sep='\\t', encoding='utf-8', chunksize=chunk_size):\n"
     ]
    },
    {
     "name": "stdout",
     "output_type": "stream",
     "text": [
      "Progress: 13.94%\n"
     ]
    },
    {
     "name": "stderr",
     "output_type": "stream",
     "text": [
      "C:\\Users\\HP\\AppData\\Local\\Temp\\ipykernel_5308\\3610018773.py:15: DtypeWarning: Columns (0) have mixed types. Specify dtype option on import or set low_memory=False.\n",
      "  for chunk in pd.read_csv(file_path, sep='\\t', encoding='utf-8', chunksize=chunk_size):\n"
     ]
    },
    {
     "name": "stdout",
     "output_type": "stream",
     "text": [
      "Progress: 14.27%\n",
      "Progress: 14.59%\n"
     ]
    },
    {
     "name": "stderr",
     "output_type": "stream",
     "text": [
      "C:\\Users\\HP\\AppData\\Local\\Temp\\ipykernel_5308\\3610018773.py:15: DtypeWarning: Columns (0) have mixed types. Specify dtype option on import or set low_memory=False.\n",
      "  for chunk in pd.read_csv(file_path, sep='\\t', encoding='utf-8', chunksize=chunk_size):\n"
     ]
    },
    {
     "name": "stdout",
     "output_type": "stream",
     "text": [
      "Progress: 14.92%\n"
     ]
    },
    {
     "name": "stderr",
     "output_type": "stream",
     "text": [
      "C:\\Users\\HP\\AppData\\Local\\Temp\\ipykernel_5308\\3610018773.py:15: DtypeWarning: Columns (0) have mixed types. Specify dtype option on import or set low_memory=False.\n",
      "  for chunk in pd.read_csv(file_path, sep='\\t', encoding='utf-8', chunksize=chunk_size):\n"
     ]
    },
    {
     "name": "stdout",
     "output_type": "stream",
     "text": [
      "Progress: 15.24%\n",
      "Progress: 15.56%\n"
     ]
    },
    {
     "name": "stderr",
     "output_type": "stream",
     "text": [
      "C:\\Users\\HP\\AppData\\Local\\Temp\\ipykernel_5308\\3610018773.py:15: DtypeWarning: Columns (0) have mixed types. Specify dtype option on import or set low_memory=False.\n",
      "  for chunk in pd.read_csv(file_path, sep='\\t', encoding='utf-8', chunksize=chunk_size):\n"
     ]
    },
    {
     "name": "stdout",
     "output_type": "stream",
     "text": [
      "Progress: 15.89%\n"
     ]
    },
    {
     "name": "stderr",
     "output_type": "stream",
     "text": [
      "C:\\Users\\HP\\AppData\\Local\\Temp\\ipykernel_5308\\3610018773.py:15: DtypeWarning: Columns (0) have mixed types. Specify dtype option on import or set low_memory=False.\n",
      "  for chunk in pd.read_csv(file_path, sep='\\t', encoding='utf-8', chunksize=chunk_size):\n"
     ]
    },
    {
     "name": "stdout",
     "output_type": "stream",
     "text": [
      "Progress: 16.21%\n"
     ]
    },
    {
     "name": "stderr",
     "output_type": "stream",
     "text": [
      "C:\\Users\\HP\\AppData\\Local\\Temp\\ipykernel_5308\\3610018773.py:15: DtypeWarning: Columns (0,17) have mixed types. Specify dtype option on import or set low_memory=False.\n",
      "  for chunk in pd.read_csv(file_path, sep='\\t', encoding='utf-8', chunksize=chunk_size):\n"
     ]
    },
    {
     "name": "stdout",
     "output_type": "stream",
     "text": [
      "Progress: 16.54%\n",
      "Progress: 16.86%\n"
     ]
    },
    {
     "name": "stderr",
     "output_type": "stream",
     "text": [
      "C:\\Users\\HP\\AppData\\Local\\Temp\\ipykernel_5308\\3610018773.py:15: DtypeWarning: Columns (17) have mixed types. Specify dtype option on import or set low_memory=False.\n",
      "  for chunk in pd.read_csv(file_path, sep='\\t', encoding='utf-8', chunksize=chunk_size):\n"
     ]
    },
    {
     "name": "stdout",
     "output_type": "stream",
     "text": [
      "Progress: 17.18%\n"
     ]
    },
    {
     "name": "stderr",
     "output_type": "stream",
     "text": [
      "C:\\Users\\HP\\AppData\\Local\\Temp\\ipykernel_5308\\3610018773.py:15: DtypeWarning: Columns (0,72) have mixed types. Specify dtype option on import or set low_memory=False.\n",
      "  for chunk in pd.read_csv(file_path, sep='\\t', encoding='utf-8', chunksize=chunk_size):\n"
     ]
    },
    {
     "name": "stdout",
     "output_type": "stream",
     "text": [
      "Progress: 17.51%\n"
     ]
    },
    {
     "name": "stderr",
     "output_type": "stream",
     "text": [
      "C:\\Users\\HP\\AppData\\Local\\Temp\\ipykernel_5308\\3610018773.py:15: DtypeWarning: Columns (17,33,35) have mixed types. Specify dtype option on import or set low_memory=False.\n",
      "  for chunk in pd.read_csv(file_path, sep='\\t', encoding='utf-8', chunksize=chunk_size):\n"
     ]
    },
    {
     "name": "stdout",
     "output_type": "stream",
     "text": [
      "Progress: 17.83%\n"
     ]
    },
    {
     "name": "stderr",
     "output_type": "stream",
     "text": [
      "C:\\Users\\HP\\AppData\\Local\\Temp\\ipykernel_5308\\3610018773.py:15: DtypeWarning: Columns (0) have mixed types. Specify dtype option on import or set low_memory=False.\n",
      "  for chunk in pd.read_csv(file_path, sep='\\t', encoding='utf-8', chunksize=chunk_size):\n"
     ]
    },
    {
     "name": "stdout",
     "output_type": "stream",
     "text": [
      "Progress: 18.16%\n"
     ]
    },
    {
     "name": "stderr",
     "output_type": "stream",
     "text": [
      "C:\\Users\\HP\\AppData\\Local\\Temp\\ipykernel_5308\\3610018773.py:15: DtypeWarning: Columns (17) have mixed types. Specify dtype option on import or set low_memory=False.\n",
      "  for chunk in pd.read_csv(file_path, sep='\\t', encoding='utf-8', chunksize=chunk_size):\n"
     ]
    },
    {
     "name": "stdout",
     "output_type": "stream",
     "text": [
      "Progress: 18.48%\n"
     ]
    },
    {
     "name": "stderr",
     "output_type": "stream",
     "text": [
      "C:\\Users\\HP\\AppData\\Local\\Temp\\ipykernel_5308\\3610018773.py:15: DtypeWarning: Columns (72) have mixed types. Specify dtype option on import or set low_memory=False.\n",
      "  for chunk in pd.read_csv(file_path, sep='\\t', encoding='utf-8', chunksize=chunk_size):\n"
     ]
    },
    {
     "name": "stdout",
     "output_type": "stream",
     "text": [
      "Progress: 18.81%\n"
     ]
    },
    {
     "name": "stderr",
     "output_type": "stream",
     "text": [
      "C:\\Users\\HP\\AppData\\Local\\Temp\\ipykernel_5308\\3610018773.py:15: DtypeWarning: Columns (33,35,72) have mixed types. Specify dtype option on import or set low_memory=False.\n",
      "  for chunk in pd.read_csv(file_path, sep='\\t', encoding='utf-8', chunksize=chunk_size):\n"
     ]
    },
    {
     "name": "stdout",
     "output_type": "stream",
     "text": [
      "Progress: 19.13%\n"
     ]
    },
    {
     "name": "stderr",
     "output_type": "stream",
     "text": [
      "C:\\Users\\HP\\AppData\\Local\\Temp\\ipykernel_5308\\3610018773.py:15: DtypeWarning: Columns (17,33,35) have mixed types. Specify dtype option on import or set low_memory=False.\n",
      "  for chunk in pd.read_csv(file_path, sep='\\t', encoding='utf-8', chunksize=chunk_size):\n"
     ]
    },
    {
     "name": "stdout",
     "output_type": "stream",
     "text": [
      "Progress: 19.45%\n"
     ]
    },
    {
     "name": "stderr",
     "output_type": "stream",
     "text": [
      "C:\\Users\\HP\\AppData\\Local\\Temp\\ipykernel_5308\\3610018773.py:15: DtypeWarning: Columns (0,72) have mixed types. Specify dtype option on import or set low_memory=False.\n",
      "  for chunk in pd.read_csv(file_path, sep='\\t', encoding='utf-8', chunksize=chunk_size):\n"
     ]
    },
    {
     "name": "stdout",
     "output_type": "stream",
     "text": [
      "Progress: 19.78%\n"
     ]
    },
    {
     "name": "stderr",
     "output_type": "stream",
     "text": [
      "C:\\Users\\HP\\AppData\\Local\\Temp\\ipykernel_5308\\3610018773.py:15: DtypeWarning: Columns (33,35) have mixed types. Specify dtype option on import or set low_memory=False.\n",
      "  for chunk in pd.read_csv(file_path, sep='\\t', encoding='utf-8', chunksize=chunk_size):\n"
     ]
    },
    {
     "name": "stdout",
     "output_type": "stream",
     "text": [
      "Progress: 20.10%\n"
     ]
    },
    {
     "name": "stderr",
     "output_type": "stream",
     "text": [
      "C:\\Users\\HP\\AppData\\Local\\Temp\\ipykernel_5308\\3610018773.py:15: DtypeWarning: Columns (0,17,33,35,72) have mixed types. Specify dtype option on import or set low_memory=False.\n",
      "  for chunk in pd.read_csv(file_path, sep='\\t', encoding='utf-8', chunksize=chunk_size):\n"
     ]
    },
    {
     "name": "stdout",
     "output_type": "stream",
     "text": [
      "Progress: 20.43%\n"
     ]
    },
    {
     "name": "stderr",
     "output_type": "stream",
     "text": [
      "C:\\Users\\HP\\AppData\\Local\\Temp\\ipykernel_5308\\3610018773.py:15: DtypeWarning: Columns (0,17,72) have mixed types. Specify dtype option on import or set low_memory=False.\n",
      "  for chunk in pd.read_csv(file_path, sep='\\t', encoding='utf-8', chunksize=chunk_size):\n"
     ]
    },
    {
     "name": "stdout",
     "output_type": "stream",
     "text": [
      "Progress: 20.75%\n"
     ]
    },
    {
     "name": "stderr",
     "output_type": "stream",
     "text": [
      "C:\\Users\\HP\\AppData\\Local\\Temp\\ipykernel_5308\\3610018773.py:15: DtypeWarning: Columns (11,72) have mixed types. Specify dtype option on import or set low_memory=False.\n",
      "  for chunk in pd.read_csv(file_path, sep='\\t', encoding='utf-8', chunksize=chunk_size):\n"
     ]
    },
    {
     "name": "stdout",
     "output_type": "stream",
     "text": [
      "Progress: 21.08%\n",
      "Progress: 21.40%\n"
     ]
    },
    {
     "name": "stderr",
     "output_type": "stream",
     "text": [
      "C:\\Users\\HP\\AppData\\Local\\Temp\\ipykernel_5308\\3610018773.py:15: DtypeWarning: Columns (17,33,35,72) have mixed types. Specify dtype option on import or set low_memory=False.\n",
      "  for chunk in pd.read_csv(file_path, sep='\\t', encoding='utf-8', chunksize=chunk_size):\n"
     ]
    },
    {
     "name": "stdout",
     "output_type": "stream",
     "text": [
      "Progress: 21.72%\n"
     ]
    },
    {
     "name": "stderr",
     "output_type": "stream",
     "text": [
      "C:\\Users\\HP\\AppData\\Local\\Temp\\ipykernel_5308\\3610018773.py:15: DtypeWarning: Columns (0,17,72) have mixed types. Specify dtype option on import or set low_memory=False.\n",
      "  for chunk in pd.read_csv(file_path, sep='\\t', encoding='utf-8', chunksize=chunk_size):\n"
     ]
    },
    {
     "name": "stdout",
     "output_type": "stream",
     "text": [
      "Progress: 22.05%\n"
     ]
    },
    {
     "name": "stderr",
     "output_type": "stream",
     "text": [
      "C:\\Users\\HP\\AppData\\Local\\Temp\\ipykernel_5308\\3610018773.py:15: DtypeWarning: Columns (72) have mixed types. Specify dtype option on import or set low_memory=False.\n",
      "  for chunk in pd.read_csv(file_path, sep='\\t', encoding='utf-8', chunksize=chunk_size):\n"
     ]
    },
    {
     "name": "stdout",
     "output_type": "stream",
     "text": [
      "Progress: 22.37%\n"
     ]
    },
    {
     "name": "stderr",
     "output_type": "stream",
     "text": [
      "C:\\Users\\HP\\AppData\\Local\\Temp\\ipykernel_5308\\3610018773.py:15: DtypeWarning: Columns (0,17,33,35,72) have mixed types. Specify dtype option on import or set low_memory=False.\n",
      "  for chunk in pd.read_csv(file_path, sep='\\t', encoding='utf-8', chunksize=chunk_size):\n"
     ]
    },
    {
     "name": "stdout",
     "output_type": "stream",
     "text": [
      "Progress: 22.70%\n"
     ]
    },
    {
     "name": "stderr",
     "output_type": "stream",
     "text": [
      "C:\\Users\\HP\\AppData\\Local\\Temp\\ipykernel_5308\\3610018773.py:15: DtypeWarning: Columns (33,35,72) have mixed types. Specify dtype option on import or set low_memory=False.\n",
      "  for chunk in pd.read_csv(file_path, sep='\\t', encoding='utf-8', chunksize=chunk_size):\n"
     ]
    },
    {
     "name": "stdout",
     "output_type": "stream",
     "text": [
      "Progress: 23.02%\n"
     ]
    },
    {
     "name": "stderr",
     "output_type": "stream",
     "text": [
      "C:\\Users\\HP\\AppData\\Local\\Temp\\ipykernel_5308\\3610018773.py:15: DtypeWarning: Columns (31,32,33,35) have mixed types. Specify dtype option on import or set low_memory=False.\n",
      "  for chunk in pd.read_csv(file_path, sep='\\t', encoding='utf-8', chunksize=chunk_size):\n"
     ]
    },
    {
     "name": "stdout",
     "output_type": "stream",
     "text": [
      "Progress: 23.35%\n"
     ]
    },
    {
     "name": "stderr",
     "output_type": "stream",
     "text": [
      "C:\\Users\\HP\\AppData\\Local\\Temp\\ipykernel_5308\\3610018773.py:15: DtypeWarning: Columns (17,33,72) have mixed types. Specify dtype option on import or set low_memory=False.\n",
      "  for chunk in pd.read_csv(file_path, sep='\\t', encoding='utf-8', chunksize=chunk_size):\n"
     ]
    },
    {
     "name": "stdout",
     "output_type": "stream",
     "text": [
      "Progress: 23.67%\n"
     ]
    },
    {
     "name": "stderr",
     "output_type": "stream",
     "text": [
      "C:\\Users\\HP\\AppData\\Local\\Temp\\ipykernel_5308\\3610018773.py:15: DtypeWarning: Columns (72) have mixed types. Specify dtype option on import or set low_memory=False.\n",
      "  for chunk in pd.read_csv(file_path, sep='\\t', encoding='utf-8', chunksize=chunk_size):\n"
     ]
    },
    {
     "name": "stdout",
     "output_type": "stream",
     "text": [
      "Progress: 23.99%\n"
     ]
    },
    {
     "name": "stderr",
     "output_type": "stream",
     "text": [
      "C:\\Users\\HP\\AppData\\Local\\Temp\\ipykernel_5308\\3610018773.py:15: DtypeWarning: Columns (17,33,35,51,67,72) have mixed types. Specify dtype option on import or set low_memory=False.\n",
      "  for chunk in pd.read_csv(file_path, sep='\\t', encoding='utf-8', chunksize=chunk_size):\n"
     ]
    },
    {
     "name": "stdout",
     "output_type": "stream",
     "text": [
      "Progress: 24.32%\n"
     ]
    },
    {
     "name": "stderr",
     "output_type": "stream",
     "text": [
      "C:\\Users\\HP\\AppData\\Local\\Temp\\ipykernel_5308\\3610018773.py:15: DtypeWarning: Columns (31,32,72) have mixed types. Specify dtype option on import or set low_memory=False.\n",
      "  for chunk in pd.read_csv(file_path, sep='\\t', encoding='utf-8', chunksize=chunk_size):\n"
     ]
    },
    {
     "name": "stdout",
     "output_type": "stream",
     "text": [
      "Progress: 24.64%\n"
     ]
    },
    {
     "name": "stderr",
     "output_type": "stream",
     "text": [
      "C:\\Users\\HP\\AppData\\Local\\Temp\\ipykernel_5308\\3610018773.py:15: DtypeWarning: Columns (17,72) have mixed types. Specify dtype option on import or set low_memory=False.\n",
      "  for chunk in pd.read_csv(file_path, sep='\\t', encoding='utf-8', chunksize=chunk_size):\n"
     ]
    },
    {
     "name": "stdout",
     "output_type": "stream",
     "text": [
      "Progress: 24.97%\n"
     ]
    },
    {
     "name": "stderr",
     "output_type": "stream",
     "text": [
      "C:\\Users\\HP\\AppData\\Local\\Temp\\ipykernel_5308\\3610018773.py:15: DtypeWarning: Columns (17,33,35) have mixed types. Specify dtype option on import or set low_memory=False.\n",
      "  for chunk in pd.read_csv(file_path, sep='\\t', encoding='utf-8', chunksize=chunk_size):\n"
     ]
    },
    {
     "name": "stdout",
     "output_type": "stream",
     "text": [
      "Progress: 25.29%\n"
     ]
    },
    {
     "name": "stderr",
     "output_type": "stream",
     "text": [
      "C:\\Users\\HP\\AppData\\Local\\Temp\\ipykernel_5308\\3610018773.py:15: DtypeWarning: Columns (17,31,32) have mixed types. Specify dtype option on import or set low_memory=False.\n",
      "  for chunk in pd.read_csv(file_path, sep='\\t', encoding='utf-8', chunksize=chunk_size):\n"
     ]
    },
    {
     "name": "stdout",
     "output_type": "stream",
     "text": [
      "Progress: 25.61%\n"
     ]
    },
    {
     "name": "stderr",
     "output_type": "stream",
     "text": [
      "C:\\Users\\HP\\AppData\\Local\\Temp\\ipykernel_5308\\3610018773.py:15: DtypeWarning: Columns (0,17,33,35) have mixed types. Specify dtype option on import or set low_memory=False.\n",
      "  for chunk in pd.read_csv(file_path, sep='\\t', encoding='utf-8', chunksize=chunk_size):\n"
     ]
    },
    {
     "name": "stdout",
     "output_type": "stream",
     "text": [
      "Progress: 25.94%\n"
     ]
    },
    {
     "name": "stderr",
     "output_type": "stream",
     "text": [
      "C:\\Users\\HP\\AppData\\Local\\Temp\\ipykernel_5308\\3610018773.py:15: DtypeWarning: Columns (17) have mixed types. Specify dtype option on import or set low_memory=False.\n",
      "  for chunk in pd.read_csv(file_path, sep='\\t', encoding='utf-8', chunksize=chunk_size):\n"
     ]
    },
    {
     "name": "stdout",
     "output_type": "stream",
     "text": [
      "Progress: 26.26%\n"
     ]
    },
    {
     "name": "stderr",
     "output_type": "stream",
     "text": [
      "C:\\Users\\HP\\AppData\\Local\\Temp\\ipykernel_5308\\3610018773.py:15: DtypeWarning: Columns (0) have mixed types. Specify dtype option on import or set low_memory=False.\n",
      "  for chunk in pd.read_csv(file_path, sep='\\t', encoding='utf-8', chunksize=chunk_size):\n"
     ]
    },
    {
     "name": "stdout",
     "output_type": "stream",
     "text": [
      "Progress: 26.59%\n",
      "Progress: 26.91%\n",
      "Progress: 27.24%\n"
     ]
    },
    {
     "name": "stderr",
     "output_type": "stream",
     "text": [
      "C:\\Users\\HP\\AppData\\Local\\Temp\\ipykernel_5308\\3610018773.py:15: DtypeWarning: Columns (11) have mixed types. Specify dtype option on import or set low_memory=False.\n",
      "  for chunk in pd.read_csv(file_path, sep='\\t', encoding='utf-8', chunksize=chunk_size):\n"
     ]
    },
    {
     "name": "stdout",
     "output_type": "stream",
     "text": [
      "Progress: 27.56%\n",
      "Progress: 27.88%\n"
     ]
    },
    {
     "name": "stderr",
     "output_type": "stream",
     "text": [
      "C:\\Users\\HP\\AppData\\Local\\Temp\\ipykernel_5308\\3610018773.py:15: DtypeWarning: Columns (0,11,67) have mixed types. Specify dtype option on import or set low_memory=False.\n",
      "  for chunk in pd.read_csv(file_path, sep='\\t', encoding='utf-8', chunksize=chunk_size):\n"
     ]
    },
    {
     "name": "stdout",
     "output_type": "stream",
     "text": [
      "Progress: 28.21%\n"
     ]
    },
    {
     "name": "stderr",
     "output_type": "stream",
     "text": [
      "C:\\Users\\HP\\AppData\\Local\\Temp\\ipykernel_5308\\3610018773.py:15: DtypeWarning: Columns (0) have mixed types. Specify dtype option on import or set low_memory=False.\n",
      "  for chunk in pd.read_csv(file_path, sep='\\t', encoding='utf-8', chunksize=chunk_size):\n"
     ]
    },
    {
     "name": "stdout",
     "output_type": "stream",
     "text": [
      "Progress: 28.53%\n"
     ]
    },
    {
     "name": "stderr",
     "output_type": "stream",
     "text": [
      "C:\\Users\\HP\\AppData\\Local\\Temp\\ipykernel_5308\\3610018773.py:15: DtypeWarning: Columns (0) have mixed types. Specify dtype option on import or set low_memory=False.\n",
      "  for chunk in pd.read_csv(file_path, sep='\\t', encoding='utf-8', chunksize=chunk_size):\n"
     ]
    },
    {
     "name": "stdout",
     "output_type": "stream",
     "text": [
      "Progress: 28.86%\n"
     ]
    },
    {
     "name": "stderr",
     "output_type": "stream",
     "text": [
      "C:\\Users\\HP\\AppData\\Local\\Temp\\ipykernel_5308\\3610018773.py:15: DtypeWarning: Columns (0,67) have mixed types. Specify dtype option on import or set low_memory=False.\n",
      "  for chunk in pd.read_csv(file_path, sep='\\t', encoding='utf-8', chunksize=chunk_size):\n"
     ]
    },
    {
     "name": "stdout",
     "output_type": "stream",
     "text": [
      "Progress: 29.18%\n"
     ]
    },
    {
     "name": "stderr",
     "output_type": "stream",
     "text": [
      "C:\\Users\\HP\\AppData\\Local\\Temp\\ipykernel_5308\\3610018773.py:15: DtypeWarning: Columns (72) have mixed types. Specify dtype option on import or set low_memory=False.\n",
      "  for chunk in pd.read_csv(file_path, sep='\\t', encoding='utf-8', chunksize=chunk_size):\n"
     ]
    },
    {
     "name": "stdout",
     "output_type": "stream",
     "text": [
      "Progress: 29.51%\n",
      "Progress: 29.83%\n"
     ]
    },
    {
     "name": "stderr",
     "output_type": "stream",
     "text": [
      "C:\\Users\\HP\\AppData\\Local\\Temp\\ipykernel_5308\\3610018773.py:15: DtypeWarning: Columns (0,67) have mixed types. Specify dtype option on import or set low_memory=False.\n",
      "  for chunk in pd.read_csv(file_path, sep='\\t', encoding='utf-8', chunksize=chunk_size):\n"
     ]
    },
    {
     "name": "stdout",
     "output_type": "stream",
     "text": [
      "Progress: 30.15%\n"
     ]
    },
    {
     "name": "stderr",
     "output_type": "stream",
     "text": [
      "C:\\Users\\HP\\AppData\\Local\\Temp\\ipykernel_5308\\3610018773.py:15: DtypeWarning: Columns (11,67) have mixed types. Specify dtype option on import or set low_memory=False.\n",
      "  for chunk in pd.read_csv(file_path, sep='\\t', encoding='utf-8', chunksize=chunk_size):\n"
     ]
    },
    {
     "name": "stdout",
     "output_type": "stream",
     "text": [
      "Progress: 30.48%\n"
     ]
    },
    {
     "name": "stderr",
     "output_type": "stream",
     "text": [
      "C:\\Users\\HP\\AppData\\Local\\Temp\\ipykernel_5308\\3610018773.py:15: DtypeWarning: Columns (67) have mixed types. Specify dtype option on import or set low_memory=False.\n",
      "  for chunk in pd.read_csv(file_path, sep='\\t', encoding='utf-8', chunksize=chunk_size):\n"
     ]
    },
    {
     "name": "stdout",
     "output_type": "stream",
     "text": [
      "Progress: 30.80%\n",
      "Progress: 31.13%\n"
     ]
    },
    {
     "name": "stderr",
     "output_type": "stream",
     "text": [
      "C:\\Users\\HP\\AppData\\Local\\Temp\\ipykernel_5308\\3610018773.py:15: DtypeWarning: Columns (0,17) have mixed types. Specify dtype option on import or set low_memory=False.\n",
      "  for chunk in pd.read_csv(file_path, sep='\\t', encoding='utf-8', chunksize=chunk_size):\n"
     ]
    },
    {
     "name": "stdout",
     "output_type": "stream",
     "text": [
      "Progress: 31.45%\n"
     ]
    },
    {
     "name": "stderr",
     "output_type": "stream",
     "text": [
      "C:\\Users\\HP\\AppData\\Local\\Temp\\ipykernel_5308\\3610018773.py:15: DtypeWarning: Columns (0) have mixed types. Specify dtype option on import or set low_memory=False.\n",
      "  for chunk in pd.read_csv(file_path, sep='\\t', encoding='utf-8', chunksize=chunk_size):\n"
     ]
    },
    {
     "name": "stdout",
     "output_type": "stream",
     "text": [
      "Progress: 31.78%\n"
     ]
    },
    {
     "name": "stderr",
     "output_type": "stream",
     "text": [
      "C:\\Users\\HP\\AppData\\Local\\Temp\\ipykernel_5308\\3610018773.py:15: DtypeWarning: Columns (0,72) have mixed types. Specify dtype option on import or set low_memory=False.\n",
      "  for chunk in pd.read_csv(file_path, sep='\\t', encoding='utf-8', chunksize=chunk_size):\n"
     ]
    },
    {
     "name": "stdout",
     "output_type": "stream",
     "text": [
      "Progress: 32.10%\n",
      "Progress: 32.42%\n"
     ]
    },
    {
     "name": "stderr",
     "output_type": "stream",
     "text": [
      "C:\\Users\\HP\\AppData\\Local\\Temp\\ipykernel_5308\\3610018773.py:15: DtypeWarning: Columns (33,35,46,47,48,67,72) have mixed types. Specify dtype option on import or set low_memory=False.\n",
      "  for chunk in pd.read_csv(file_path, sep='\\t', encoding='utf-8', chunksize=chunk_size):\n"
     ]
    },
    {
     "name": "stdout",
     "output_type": "stream",
     "text": [
      "Progress: 32.75%\n",
      "Progress: 33.07%\n"
     ]
    },
    {
     "name": "stderr",
     "output_type": "stream",
     "text": [
      "C:\\Users\\HP\\AppData\\Local\\Temp\\ipykernel_5308\\3610018773.py:15: DtypeWarning: Columns (0) have mixed types. Specify dtype option on import or set low_memory=False.\n",
      "  for chunk in pd.read_csv(file_path, sep='\\t', encoding='utf-8', chunksize=chunk_size):\n"
     ]
    },
    {
     "name": "stdout",
     "output_type": "stream",
     "text": [
      "Progress: 33.40%\n",
      "Progress: 33.72%\n"
     ]
    },
    {
     "name": "stderr",
     "output_type": "stream",
     "text": [
      "C:\\Users\\HP\\AppData\\Local\\Temp\\ipykernel_5308\\3610018773.py:15: DtypeWarning: Columns (0) have mixed types. Specify dtype option on import or set low_memory=False.\n",
      "  for chunk in pd.read_csv(file_path, sep='\\t', encoding='utf-8', chunksize=chunk_size):\n"
     ]
    },
    {
     "name": "stdout",
     "output_type": "stream",
     "text": [
      "Progress: 34.05%\n"
     ]
    },
    {
     "name": "stderr",
     "output_type": "stream",
     "text": [
      "C:\\Users\\HP\\AppData\\Local\\Temp\\ipykernel_5308\\3610018773.py:15: DtypeWarning: Columns (0,72) have mixed types. Specify dtype option on import or set low_memory=False.\n",
      "  for chunk in pd.read_csv(file_path, sep='\\t', encoding='utf-8', chunksize=chunk_size):\n"
     ]
    },
    {
     "name": "stdout",
     "output_type": "stream",
     "text": [
      "Progress: 34.37%\n"
     ]
    },
    {
     "name": "stderr",
     "output_type": "stream",
     "text": [
      "C:\\Users\\HP\\AppData\\Local\\Temp\\ipykernel_5308\\3610018773.py:15: DtypeWarning: Columns (0,67) have mixed types. Specify dtype option on import or set low_memory=False.\n",
      "  for chunk in pd.read_csv(file_path, sep='\\t', encoding='utf-8', chunksize=chunk_size):\n"
     ]
    },
    {
     "name": "stdout",
     "output_type": "stream",
     "text": [
      "Progress: 34.69%\n"
     ]
    },
    {
     "name": "stderr",
     "output_type": "stream",
     "text": [
      "C:\\Users\\HP\\AppData\\Local\\Temp\\ipykernel_5308\\3610018773.py:15: DtypeWarning: Columns (0,17,67) have mixed types. Specify dtype option on import or set low_memory=False.\n",
      "  for chunk in pd.read_csv(file_path, sep='\\t', encoding='utf-8', chunksize=chunk_size):\n"
     ]
    },
    {
     "name": "stdout",
     "output_type": "stream",
     "text": [
      "Progress: 35.02%\n"
     ]
    },
    {
     "name": "stderr",
     "output_type": "stream",
     "text": [
      "C:\\Users\\HP\\AppData\\Local\\Temp\\ipykernel_5308\\3610018773.py:15: DtypeWarning: Columns (67) have mixed types. Specify dtype option on import or set low_memory=False.\n",
      "  for chunk in pd.read_csv(file_path, sep='\\t', encoding='utf-8', chunksize=chunk_size):\n"
     ]
    },
    {
     "name": "stdout",
     "output_type": "stream",
     "text": [
      "Progress: 35.34%\n"
     ]
    },
    {
     "name": "stderr",
     "output_type": "stream",
     "text": [
      "C:\\Users\\HP\\AppData\\Local\\Temp\\ipykernel_5308\\3610018773.py:15: DtypeWarning: Columns (67) have mixed types. Specify dtype option on import or set low_memory=False.\n",
      "  for chunk in pd.read_csv(file_path, sep='\\t', encoding='utf-8', chunksize=chunk_size):\n"
     ]
    },
    {
     "name": "stdout",
     "output_type": "stream",
     "text": [
      "Progress: 35.67%\n"
     ]
    },
    {
     "name": "stderr",
     "output_type": "stream",
     "text": [
      "C:\\Users\\HP\\AppData\\Local\\Temp\\ipykernel_5308\\3610018773.py:15: DtypeWarning: Columns (0,67,72) have mixed types. Specify dtype option on import or set low_memory=False.\n",
      "  for chunk in pd.read_csv(file_path, sep='\\t', encoding='utf-8', chunksize=chunk_size):\n"
     ]
    },
    {
     "name": "stdout",
     "output_type": "stream",
     "text": [
      "Progress: 35.99%\n"
     ]
    },
    {
     "name": "stderr",
     "output_type": "stream",
     "text": [
      "C:\\Users\\HP\\AppData\\Local\\Temp\\ipykernel_5308\\3610018773.py:15: DtypeWarning: Columns (0,67) have mixed types. Specify dtype option on import or set low_memory=False.\n",
      "  for chunk in pd.read_csv(file_path, sep='\\t', encoding='utf-8', chunksize=chunk_size):\n"
     ]
    },
    {
     "name": "stdout",
     "output_type": "stream",
     "text": [
      "Progress: 36.31%\n"
     ]
    },
    {
     "name": "stderr",
     "output_type": "stream",
     "text": [
      "C:\\Users\\HP\\AppData\\Local\\Temp\\ipykernel_5308\\3610018773.py:15: DtypeWarning: Columns (0,11,67) have mixed types. Specify dtype option on import or set low_memory=False.\n",
      "  for chunk in pd.read_csv(file_path, sep='\\t', encoding='utf-8', chunksize=chunk_size):\n"
     ]
    },
    {
     "name": "stdout",
     "output_type": "stream",
     "text": [
      "Progress: 36.64%\n"
     ]
    },
    {
     "name": "stderr",
     "output_type": "stream",
     "text": [
      "C:\\Users\\HP\\AppData\\Local\\Temp\\ipykernel_5308\\3610018773.py:15: DtypeWarning: Columns (67) have mixed types. Specify dtype option on import or set low_memory=False.\n",
      "  for chunk in pd.read_csv(file_path, sep='\\t', encoding='utf-8', chunksize=chunk_size):\n"
     ]
    },
    {
     "name": "stdout",
     "output_type": "stream",
     "text": [
      "Progress: 36.96%\n"
     ]
    },
    {
     "name": "stderr",
     "output_type": "stream",
     "text": [
      "C:\\Users\\HP\\AppData\\Local\\Temp\\ipykernel_5308\\3610018773.py:15: DtypeWarning: Columns (0,67) have mixed types. Specify dtype option on import or set low_memory=False.\n",
      "  for chunk in pd.read_csv(file_path, sep='\\t', encoding='utf-8', chunksize=chunk_size):\n"
     ]
    },
    {
     "name": "stdout",
     "output_type": "stream",
     "text": [
      "Progress: 37.29%\n"
     ]
    },
    {
     "name": "stderr",
     "output_type": "stream",
     "text": [
      "C:\\Users\\HP\\AppData\\Local\\Temp\\ipykernel_5308\\3610018773.py:15: DtypeWarning: Columns (0,11,67) have mixed types. Specify dtype option on import or set low_memory=False.\n",
      "  for chunk in pd.read_csv(file_path, sep='\\t', encoding='utf-8', chunksize=chunk_size):\n"
     ]
    },
    {
     "name": "stdout",
     "output_type": "stream",
     "text": [
      "Progress: 37.61%\n"
     ]
    },
    {
     "name": "stderr",
     "output_type": "stream",
     "text": [
      "C:\\Users\\HP\\AppData\\Local\\Temp\\ipykernel_5308\\3610018773.py:15: DtypeWarning: Columns (0,67) have mixed types. Specify dtype option on import or set low_memory=False.\n",
      "  for chunk in pd.read_csv(file_path, sep='\\t', encoding='utf-8', chunksize=chunk_size):\n"
     ]
    },
    {
     "name": "stdout",
     "output_type": "stream",
     "text": [
      "Progress: 37.94%\n"
     ]
    },
    {
     "name": "stderr",
     "output_type": "stream",
     "text": [
      "C:\\Users\\HP\\AppData\\Local\\Temp\\ipykernel_5308\\3610018773.py:15: DtypeWarning: Columns (0,11) have mixed types. Specify dtype option on import or set low_memory=False.\n",
      "  for chunk in pd.read_csv(file_path, sep='\\t', encoding='utf-8', chunksize=chunk_size):\n"
     ]
    },
    {
     "name": "stdout",
     "output_type": "stream",
     "text": [
      "Progress: 38.26%\n"
     ]
    },
    {
     "name": "stderr",
     "output_type": "stream",
     "text": [
      "C:\\Users\\HP\\AppData\\Local\\Temp\\ipykernel_5308\\3610018773.py:15: DtypeWarning: Columns (0) have mixed types. Specify dtype option on import or set low_memory=False.\n",
      "  for chunk in pd.read_csv(file_path, sep='\\t', encoding='utf-8', chunksize=chunk_size):\n"
     ]
    },
    {
     "name": "stdout",
     "output_type": "stream",
     "text": [
      "Progress: 38.58%\n"
     ]
    },
    {
     "name": "stderr",
     "output_type": "stream",
     "text": [
      "C:\\Users\\HP\\AppData\\Local\\Temp\\ipykernel_5308\\3610018773.py:15: DtypeWarning: Columns (11,67) have mixed types. Specify dtype option on import or set low_memory=False.\n",
      "  for chunk in pd.read_csv(file_path, sep='\\t', encoding='utf-8', chunksize=chunk_size):\n"
     ]
    },
    {
     "name": "stdout",
     "output_type": "stream",
     "text": [
      "Progress: 38.91%\n"
     ]
    },
    {
     "name": "stderr",
     "output_type": "stream",
     "text": [
      "C:\\Users\\HP\\AppData\\Local\\Temp\\ipykernel_5308\\3610018773.py:15: DtypeWarning: Columns (0,67) have mixed types. Specify dtype option on import or set low_memory=False.\n",
      "  for chunk in pd.read_csv(file_path, sep='\\t', encoding='utf-8', chunksize=chunk_size):\n"
     ]
    },
    {
     "name": "stdout",
     "output_type": "stream",
     "text": [
      "Progress: 39.23%\n"
     ]
    },
    {
     "name": "stderr",
     "output_type": "stream",
     "text": [
      "C:\\Users\\HP\\AppData\\Local\\Temp\\ipykernel_5308\\3610018773.py:15: DtypeWarning: Columns (67) have mixed types. Specify dtype option on import or set low_memory=False.\n",
      "  for chunk in pd.read_csv(file_path, sep='\\t', encoding='utf-8', chunksize=chunk_size):\n"
     ]
    },
    {
     "name": "stdout",
     "output_type": "stream",
     "text": [
      "Progress: 39.56%\n"
     ]
    },
    {
     "name": "stderr",
     "output_type": "stream",
     "text": [
      "C:\\Users\\HP\\AppData\\Local\\Temp\\ipykernel_5308\\3610018773.py:15: DtypeWarning: Columns (11,67) have mixed types. Specify dtype option on import or set low_memory=False.\n",
      "  for chunk in pd.read_csv(file_path, sep='\\t', encoding='utf-8', chunksize=chunk_size):\n"
     ]
    },
    {
     "name": "stdout",
     "output_type": "stream",
     "text": [
      "Progress: 39.88%\n"
     ]
    },
    {
     "name": "stderr",
     "output_type": "stream",
     "text": [
      "C:\\Users\\HP\\AppData\\Local\\Temp\\ipykernel_5308\\3610018773.py:15: DtypeWarning: Columns (11) have mixed types. Specify dtype option on import or set low_memory=False.\n",
      "  for chunk in pd.read_csv(file_path, sep='\\t', encoding='utf-8', chunksize=chunk_size):\n"
     ]
    },
    {
     "name": "stdout",
     "output_type": "stream",
     "text": [
      "Progress: 40.21%\n"
     ]
    },
    {
     "name": "stderr",
     "output_type": "stream",
     "text": [
      "C:\\Users\\HP\\AppData\\Local\\Temp\\ipykernel_5308\\3610018773.py:15: DtypeWarning: Columns (11) have mixed types. Specify dtype option on import or set low_memory=False.\n",
      "  for chunk in pd.read_csv(file_path, sep='\\t', encoding='utf-8', chunksize=chunk_size):\n"
     ]
    },
    {
     "name": "stdout",
     "output_type": "stream",
     "text": [
      "Progress: 40.53%\n"
     ]
    },
    {
     "name": "stderr",
     "output_type": "stream",
     "text": [
      "C:\\Users\\HP\\AppData\\Local\\Temp\\ipykernel_5308\\3610018773.py:15: DtypeWarning: Columns (11,67) have mixed types. Specify dtype option on import or set low_memory=False.\n",
      "  for chunk in pd.read_csv(file_path, sep='\\t', encoding='utf-8', chunksize=chunk_size):\n"
     ]
    },
    {
     "name": "stdout",
     "output_type": "stream",
     "text": [
      "Progress: 40.85%\n"
     ]
    },
    {
     "name": "stderr",
     "output_type": "stream",
     "text": [
      "C:\\Users\\HP\\AppData\\Local\\Temp\\ipykernel_5308\\3610018773.py:15: DtypeWarning: Columns (11,67) have mixed types. Specify dtype option on import or set low_memory=False.\n",
      "  for chunk in pd.read_csv(file_path, sep='\\t', encoding='utf-8', chunksize=chunk_size):\n"
     ]
    },
    {
     "name": "stdout",
     "output_type": "stream",
     "text": [
      "Progress: 41.18%\n"
     ]
    },
    {
     "name": "stderr",
     "output_type": "stream",
     "text": [
      "C:\\Users\\HP\\AppData\\Local\\Temp\\ipykernel_5308\\3610018773.py:15: DtypeWarning: Columns (11,67) have mixed types. Specify dtype option on import or set low_memory=False.\n",
      "  for chunk in pd.read_csv(file_path, sep='\\t', encoding='utf-8', chunksize=chunk_size):\n"
     ]
    },
    {
     "name": "stdout",
     "output_type": "stream",
     "text": [
      "Progress: 41.50%\n"
     ]
    },
    {
     "name": "stderr",
     "output_type": "stream",
     "text": [
      "C:\\Users\\HP\\AppData\\Local\\Temp\\ipykernel_5308\\3610018773.py:15: DtypeWarning: Columns (0,11) have mixed types. Specify dtype option on import or set low_memory=False.\n",
      "  for chunk in pd.read_csv(file_path, sep='\\t', encoding='utf-8', chunksize=chunk_size):\n"
     ]
    },
    {
     "name": "stdout",
     "output_type": "stream",
     "text": [
      "Progress: 41.83%\n"
     ]
    },
    {
     "name": "stderr",
     "output_type": "stream",
     "text": [
      "C:\\Users\\HP\\AppData\\Local\\Temp\\ipykernel_5308\\3610018773.py:15: DtypeWarning: Columns (11,67,72) have mixed types. Specify dtype option on import or set low_memory=False.\n",
      "  for chunk in pd.read_csv(file_path, sep='\\t', encoding='utf-8', chunksize=chunk_size):\n"
     ]
    },
    {
     "name": "stdout",
     "output_type": "stream",
     "text": [
      "Progress: 42.15%\n"
     ]
    },
    {
     "name": "stderr",
     "output_type": "stream",
     "text": [
      "C:\\Users\\HP\\AppData\\Local\\Temp\\ipykernel_5308\\3610018773.py:15: DtypeWarning: Columns (0,11) have mixed types. Specify dtype option on import or set low_memory=False.\n",
      "  for chunk in pd.read_csv(file_path, sep='\\t', encoding='utf-8', chunksize=chunk_size):\n"
     ]
    },
    {
     "name": "stdout",
     "output_type": "stream",
     "text": [
      "Progress: 42.48%\n"
     ]
    },
    {
     "name": "stderr",
     "output_type": "stream",
     "text": [
      "C:\\Users\\HP\\AppData\\Local\\Temp\\ipykernel_5308\\3610018773.py:15: DtypeWarning: Columns (67) have mixed types. Specify dtype option on import or set low_memory=False.\n",
      "  for chunk in pd.read_csv(file_path, sep='\\t', encoding='utf-8', chunksize=chunk_size):\n"
     ]
    },
    {
     "name": "stdout",
     "output_type": "stream",
     "text": [
      "Progress: 42.80%\n"
     ]
    },
    {
     "name": "stderr",
     "output_type": "stream",
     "text": [
      "C:\\Users\\HP\\AppData\\Local\\Temp\\ipykernel_5308\\3610018773.py:15: DtypeWarning: Columns (11,67) have mixed types. Specify dtype option on import or set low_memory=False.\n",
      "  for chunk in pd.read_csv(file_path, sep='\\t', encoding='utf-8', chunksize=chunk_size):\n"
     ]
    },
    {
     "name": "stdout",
     "output_type": "stream",
     "text": [
      "Progress: 43.12%\n"
     ]
    },
    {
     "name": "stderr",
     "output_type": "stream",
     "text": [
      "C:\\Users\\HP\\AppData\\Local\\Temp\\ipykernel_5308\\3610018773.py:15: DtypeWarning: Columns (0) have mixed types. Specify dtype option on import or set low_memory=False.\n",
      "  for chunk in pd.read_csv(file_path, sep='\\t', encoding='utf-8', chunksize=chunk_size):\n"
     ]
    },
    {
     "name": "stdout",
     "output_type": "stream",
     "text": [
      "Progress: 43.45%\n"
     ]
    },
    {
     "name": "stderr",
     "output_type": "stream",
     "text": [
      "C:\\Users\\HP\\AppData\\Local\\Temp\\ipykernel_5308\\3610018773.py:15: DtypeWarning: Columns (11,67) have mixed types. Specify dtype option on import or set low_memory=False.\n",
      "  for chunk in pd.read_csv(file_path, sep='\\t', encoding='utf-8', chunksize=chunk_size):\n"
     ]
    },
    {
     "name": "stdout",
     "output_type": "stream",
     "text": [
      "Progress: 43.77%\n"
     ]
    },
    {
     "name": "stderr",
     "output_type": "stream",
     "text": [
      "C:\\Users\\HP\\AppData\\Local\\Temp\\ipykernel_5308\\3610018773.py:15: DtypeWarning: Columns (0,11,67) have mixed types. Specify dtype option on import or set low_memory=False.\n",
      "  for chunk in pd.read_csv(file_path, sep='\\t', encoding='utf-8', chunksize=chunk_size):\n"
     ]
    },
    {
     "name": "stdout",
     "output_type": "stream",
     "text": [
      "Progress: 44.10%\n"
     ]
    },
    {
     "name": "stderr",
     "output_type": "stream",
     "text": [
      "C:\\Users\\HP\\AppData\\Local\\Temp\\ipykernel_5308\\3610018773.py:15: DtypeWarning: Columns (0) have mixed types. Specify dtype option on import or set low_memory=False.\n",
      "  for chunk in pd.read_csv(file_path, sep='\\t', encoding='utf-8', chunksize=chunk_size):\n"
     ]
    },
    {
     "name": "stdout",
     "output_type": "stream",
     "text": [
      "Progress: 44.42%\n"
     ]
    },
    {
     "name": "stderr",
     "output_type": "stream",
     "text": [
      "C:\\Users\\HP\\AppData\\Local\\Temp\\ipykernel_5308\\3610018773.py:15: DtypeWarning: Columns (0,11,67) have mixed types. Specify dtype option on import or set low_memory=False.\n",
      "  for chunk in pd.read_csv(file_path, sep='\\t', encoding='utf-8', chunksize=chunk_size):\n"
     ]
    },
    {
     "name": "stdout",
     "output_type": "stream",
     "text": [
      "Progress: 44.75%\n",
      "Progress: 45.07%\n"
     ]
    },
    {
     "name": "stderr",
     "output_type": "stream",
     "text": [
      "C:\\Users\\HP\\AppData\\Local\\Temp\\ipykernel_5308\\3610018773.py:15: DtypeWarning: Columns (0,11,67) have mixed types. Specify dtype option on import or set low_memory=False.\n",
      "  for chunk in pd.read_csv(file_path, sep='\\t', encoding='utf-8', chunksize=chunk_size):\n"
     ]
    },
    {
     "name": "stdout",
     "output_type": "stream",
     "text": [
      "Progress: 45.39%\n"
     ]
    },
    {
     "name": "stderr",
     "output_type": "stream",
     "text": [
      "C:\\Users\\HP\\AppData\\Local\\Temp\\ipykernel_5308\\3610018773.py:15: DtypeWarning: Columns (0) have mixed types. Specify dtype option on import or set low_memory=False.\n",
      "  for chunk in pd.read_csv(file_path, sep='\\t', encoding='utf-8', chunksize=chunk_size):\n"
     ]
    },
    {
     "name": "stdout",
     "output_type": "stream",
     "text": [
      "Progress: 45.72%\n"
     ]
    },
    {
     "name": "stderr",
     "output_type": "stream",
     "text": [
      "C:\\Users\\HP\\AppData\\Local\\Temp\\ipykernel_5308\\3610018773.py:15: DtypeWarning: Columns (0,11) have mixed types. Specify dtype option on import or set low_memory=False.\n",
      "  for chunk in pd.read_csv(file_path, sep='\\t', encoding='utf-8', chunksize=chunk_size):\n"
     ]
    },
    {
     "name": "stdout",
     "output_type": "stream",
     "text": [
      "Progress: 46.04%\n"
     ]
    },
    {
     "name": "stderr",
     "output_type": "stream",
     "text": [
      "C:\\Users\\HP\\AppData\\Local\\Temp\\ipykernel_5308\\3610018773.py:15: DtypeWarning: Columns (0,11,67) have mixed types. Specify dtype option on import or set low_memory=False.\n",
      "  for chunk in pd.read_csv(file_path, sep='\\t', encoding='utf-8', chunksize=chunk_size):\n"
     ]
    },
    {
     "name": "stdout",
     "output_type": "stream",
     "text": [
      "Progress: 46.37%\n"
     ]
    },
    {
     "name": "stderr",
     "output_type": "stream",
     "text": [
      "C:\\Users\\HP\\AppData\\Local\\Temp\\ipykernel_5308\\3610018773.py:15: DtypeWarning: Columns (67) have mixed types. Specify dtype option on import or set low_memory=False.\n",
      "  for chunk in pd.read_csv(file_path, sep='\\t', encoding='utf-8', chunksize=chunk_size):\n"
     ]
    },
    {
     "name": "stdout",
     "output_type": "stream",
     "text": [
      "Progress: 46.69%\n",
      "Progress: 47.01%\n"
     ]
    },
    {
     "name": "stderr",
     "output_type": "stream",
     "text": [
      "C:\\Users\\HP\\AppData\\Local\\Temp\\ipykernel_5308\\3610018773.py:15: DtypeWarning: Columns (11) have mixed types. Specify dtype option on import or set low_memory=False.\n",
      "  for chunk in pd.read_csv(file_path, sep='\\t', encoding='utf-8', chunksize=chunk_size):\n"
     ]
    },
    {
     "name": "stdout",
     "output_type": "stream",
     "text": [
      "Progress: 47.34%\n"
     ]
    },
    {
     "name": "stderr",
     "output_type": "stream",
     "text": [
      "C:\\Users\\HP\\AppData\\Local\\Temp\\ipykernel_5308\\3610018773.py:15: DtypeWarning: Columns (0,11) have mixed types. Specify dtype option on import or set low_memory=False.\n",
      "  for chunk in pd.read_csv(file_path, sep='\\t', encoding='utf-8', chunksize=chunk_size):\n"
     ]
    },
    {
     "name": "stdout",
     "output_type": "stream",
     "text": [
      "Progress: 47.66%\n",
      "Progress: 47.99%\n"
     ]
    },
    {
     "name": "stderr",
     "output_type": "stream",
     "text": [
      "C:\\Users\\HP\\AppData\\Local\\Temp\\ipykernel_5308\\3610018773.py:15: DtypeWarning: Columns (34,52,56,67) have mixed types. Specify dtype option on import or set low_memory=False.\n",
      "  for chunk in pd.read_csv(file_path, sep='\\t', encoding='utf-8', chunksize=chunk_size):\n"
     ]
    },
    {
     "name": "stdout",
     "output_type": "stream",
     "text": [
      "Progress: 48.31%\n",
      "Progress: 48.64%\n"
     ]
    },
    {
     "name": "stderr",
     "output_type": "stream",
     "text": [
      "C:\\Users\\HP\\AppData\\Local\\Temp\\ipykernel_5308\\3610018773.py:15: DtypeWarning: Columns (0,11,67) have mixed types. Specify dtype option on import or set low_memory=False.\n",
      "  for chunk in pd.read_csv(file_path, sep='\\t', encoding='utf-8', chunksize=chunk_size):\n"
     ]
    },
    {
     "name": "stdout",
     "output_type": "stream",
     "text": [
      "Progress: 48.96%\n"
     ]
    },
    {
     "name": "stderr",
     "output_type": "stream",
     "text": [
      "C:\\Users\\HP\\AppData\\Local\\Temp\\ipykernel_5308\\3610018773.py:15: DtypeWarning: Columns (11) have mixed types. Specify dtype option on import or set low_memory=False.\n",
      "  for chunk in pd.read_csv(file_path, sep='\\t', encoding='utf-8', chunksize=chunk_size):\n"
     ]
    },
    {
     "name": "stdout",
     "output_type": "stream",
     "text": [
      "Progress: 49.28%\n"
     ]
    },
    {
     "name": "stderr",
     "output_type": "stream",
     "text": [
      "C:\\Users\\HP\\AppData\\Local\\Temp\\ipykernel_5308\\3610018773.py:15: DtypeWarning: Columns (67) have mixed types. Specify dtype option on import or set low_memory=False.\n",
      "  for chunk in pd.read_csv(file_path, sep='\\t', encoding='utf-8', chunksize=chunk_size):\n"
     ]
    },
    {
     "name": "stdout",
     "output_type": "stream",
     "text": [
      "Progress: 49.61%\n"
     ]
    },
    {
     "name": "stderr",
     "output_type": "stream",
     "text": [
      "C:\\Users\\HP\\AppData\\Local\\Temp\\ipykernel_5308\\3610018773.py:15: DtypeWarning: Columns (11,67) have mixed types. Specify dtype option on import or set low_memory=False.\n",
      "  for chunk in pd.read_csv(file_path, sep='\\t', encoding='utf-8', chunksize=chunk_size):\n"
     ]
    },
    {
     "name": "stdout",
     "output_type": "stream",
     "text": [
      "Progress: 49.93%\n"
     ]
    },
    {
     "name": "stderr",
     "output_type": "stream",
     "text": [
      "C:\\Users\\HP\\AppData\\Local\\Temp\\ipykernel_5308\\3610018773.py:15: DtypeWarning: Columns (0,11) have mixed types. Specify dtype option on import or set low_memory=False.\n",
      "  for chunk in pd.read_csv(file_path, sep='\\t', encoding='utf-8', chunksize=chunk_size):\n"
     ]
    },
    {
     "name": "stdout",
     "output_type": "stream",
     "text": [
      "Progress: 50.26%\n"
     ]
    },
    {
     "name": "stderr",
     "output_type": "stream",
     "text": [
      "C:\\Users\\HP\\AppData\\Local\\Temp\\ipykernel_5308\\3610018773.py:15: DtypeWarning: Columns (11) have mixed types. Specify dtype option on import or set low_memory=False.\n",
      "  for chunk in pd.read_csv(file_path, sep='\\t', encoding='utf-8', chunksize=chunk_size):\n"
     ]
    },
    {
     "name": "stdout",
     "output_type": "stream",
     "text": [
      "Progress: 50.58%\n"
     ]
    },
    {
     "name": "stderr",
     "output_type": "stream",
     "text": [
      "C:\\Users\\HP\\AppData\\Local\\Temp\\ipykernel_5308\\3610018773.py:15: DtypeWarning: Columns (11) have mixed types. Specify dtype option on import or set low_memory=False.\n",
      "  for chunk in pd.read_csv(file_path, sep='\\t', encoding='utf-8', chunksize=chunk_size):\n"
     ]
    },
    {
     "name": "stdout",
     "output_type": "stream",
     "text": [
      "Progress: 50.91%\n",
      "Progress: 51.23%\n"
     ]
    },
    {
     "name": "stderr",
     "output_type": "stream",
     "text": [
      "C:\\Users\\HP\\AppData\\Local\\Temp\\ipykernel_5308\\3610018773.py:15: DtypeWarning: Columns (11,67) have mixed types. Specify dtype option on import or set low_memory=False.\n",
      "  for chunk in pd.read_csv(file_path, sep='\\t', encoding='utf-8', chunksize=chunk_size):\n"
     ]
    },
    {
     "name": "stdout",
     "output_type": "stream",
     "text": [
      "Progress: 51.55%\n"
     ]
    },
    {
     "name": "stderr",
     "output_type": "stream",
     "text": [
      "C:\\Users\\HP\\AppData\\Local\\Temp\\ipykernel_5308\\3610018773.py:15: DtypeWarning: Columns (11,67) have mixed types. Specify dtype option on import or set low_memory=False.\n",
      "  for chunk in pd.read_csv(file_path, sep='\\t', encoding='utf-8', chunksize=chunk_size):\n"
     ]
    },
    {
     "name": "stdout",
     "output_type": "stream",
     "text": [
      "Progress: 51.88%\n"
     ]
    },
    {
     "name": "stderr",
     "output_type": "stream",
     "text": [
      "C:\\Users\\HP\\AppData\\Local\\Temp\\ipykernel_5308\\3610018773.py:15: DtypeWarning: Columns (11,67) have mixed types. Specify dtype option on import or set low_memory=False.\n",
      "  for chunk in pd.read_csv(file_path, sep='\\t', encoding='utf-8', chunksize=chunk_size):\n"
     ]
    },
    {
     "name": "stdout",
     "output_type": "stream",
     "text": [
      "Progress: 52.20%\n"
     ]
    },
    {
     "name": "stderr",
     "output_type": "stream",
     "text": [
      "C:\\Users\\HP\\AppData\\Local\\Temp\\ipykernel_5308\\3610018773.py:15: DtypeWarning: Columns (11,67) have mixed types. Specify dtype option on import or set low_memory=False.\n",
      "  for chunk in pd.read_csv(file_path, sep='\\t', encoding='utf-8', chunksize=chunk_size):\n"
     ]
    },
    {
     "name": "stdout",
     "output_type": "stream",
     "text": [
      "Progress: 52.53%\n"
     ]
    },
    {
     "name": "stderr",
     "output_type": "stream",
     "text": [
      "C:\\Users\\HP\\AppData\\Local\\Temp\\ipykernel_5308\\3610018773.py:15: DtypeWarning: Columns (11,67) have mixed types. Specify dtype option on import or set low_memory=False.\n",
      "  for chunk in pd.read_csv(file_path, sep='\\t', encoding='utf-8', chunksize=chunk_size):\n"
     ]
    },
    {
     "name": "stdout",
     "output_type": "stream",
     "text": [
      "Progress: 52.85%\n"
     ]
    },
    {
     "name": "stderr",
     "output_type": "stream",
     "text": [
      "C:\\Users\\HP\\AppData\\Local\\Temp\\ipykernel_5308\\3610018773.py:15: DtypeWarning: Columns (11,67) have mixed types. Specify dtype option on import or set low_memory=False.\n",
      "  for chunk in pd.read_csv(file_path, sep='\\t', encoding='utf-8', chunksize=chunk_size):\n"
     ]
    },
    {
     "name": "stdout",
     "output_type": "stream",
     "text": [
      "Progress: 53.18%\n"
     ]
    },
    {
     "name": "stderr",
     "output_type": "stream",
     "text": [
      "C:\\Users\\HP\\AppData\\Local\\Temp\\ipykernel_5308\\3610018773.py:15: DtypeWarning: Columns (0,11,33,35,72) have mixed types. Specify dtype option on import or set low_memory=False.\n",
      "  for chunk in pd.read_csv(file_path, sep='\\t', encoding='utf-8', chunksize=chunk_size):\n"
     ]
    },
    {
     "name": "stdout",
     "output_type": "stream",
     "text": [
      "Progress: 53.50%\n"
     ]
    },
    {
     "name": "stderr",
     "output_type": "stream",
     "text": [
      "C:\\Users\\HP\\AppData\\Local\\Temp\\ipykernel_5308\\3610018773.py:15: DtypeWarning: Columns (72) have mixed types. Specify dtype option on import or set low_memory=False.\n",
      "  for chunk in pd.read_csv(file_path, sep='\\t', encoding='utf-8', chunksize=chunk_size):\n"
     ]
    },
    {
     "name": "stdout",
     "output_type": "stream",
     "text": [
      "Progress: 53.82%\n"
     ]
    },
    {
     "name": "stderr",
     "output_type": "stream",
     "text": [
      "C:\\Users\\HP\\AppData\\Local\\Temp\\ipykernel_5308\\3610018773.py:15: DtypeWarning: Columns (0,11,33,35,67) have mixed types. Specify dtype option on import or set low_memory=False.\n",
      "  for chunk in pd.read_csv(file_path, sep='\\t', encoding='utf-8', chunksize=chunk_size):\n"
     ]
    },
    {
     "name": "stdout",
     "output_type": "stream",
     "text": [
      "Progress: 54.15%\n",
      "Progress: 54.47%\n"
     ]
    },
    {
     "name": "stderr",
     "output_type": "stream",
     "text": [
      "C:\\Users\\HP\\AppData\\Local\\Temp\\ipykernel_5308\\3610018773.py:15: DtypeWarning: Columns (11,33,35,67) have mixed types. Specify dtype option on import or set low_memory=False.\n",
      "  for chunk in pd.read_csv(file_path, sep='\\t', encoding='utf-8', chunksize=chunk_size):\n"
     ]
    },
    {
     "name": "stdout",
     "output_type": "stream",
     "text": [
      "Progress: 54.80%\n"
     ]
    },
    {
     "name": "stderr",
     "output_type": "stream",
     "text": [
      "C:\\Users\\HP\\AppData\\Local\\Temp\\ipykernel_5308\\3610018773.py:15: DtypeWarning: Columns (11) have mixed types. Specify dtype option on import or set low_memory=False.\n",
      "  for chunk in pd.read_csv(file_path, sep='\\t', encoding='utf-8', chunksize=chunk_size):\n"
     ]
    },
    {
     "name": "stdout",
     "output_type": "stream",
     "text": [
      "Progress: 55.12%\n"
     ]
    },
    {
     "name": "stderr",
     "output_type": "stream",
     "text": [
      "C:\\Users\\HP\\AppData\\Local\\Temp\\ipykernel_5308\\3610018773.py:15: DtypeWarning: Columns (33,35,67) have mixed types. Specify dtype option on import or set low_memory=False.\n",
      "  for chunk in pd.read_csv(file_path, sep='\\t', encoding='utf-8', chunksize=chunk_size):\n"
     ]
    },
    {
     "name": "stdout",
     "output_type": "stream",
     "text": [
      "Progress: 55.45%\n"
     ]
    },
    {
     "name": "stderr",
     "output_type": "stream",
     "text": [
      "C:\\Users\\HP\\AppData\\Local\\Temp\\ipykernel_5308\\3610018773.py:15: DtypeWarning: Columns (11,33,35,67,72) have mixed types. Specify dtype option on import or set low_memory=False.\n",
      "  for chunk in pd.read_csv(file_path, sep='\\t', encoding='utf-8', chunksize=chunk_size):\n"
     ]
    },
    {
     "name": "stdout",
     "output_type": "stream",
     "text": [
      "Progress: 55.77%\n"
     ]
    },
    {
     "name": "stderr",
     "output_type": "stream",
     "text": [
      "C:\\Users\\HP\\AppData\\Local\\Temp\\ipykernel_5308\\3610018773.py:15: DtypeWarning: Columns (33,35,67,72) have mixed types. Specify dtype option on import or set low_memory=False.\n",
      "  for chunk in pd.read_csv(file_path, sep='\\t', encoding='utf-8', chunksize=chunk_size):\n"
     ]
    },
    {
     "name": "stdout",
     "output_type": "stream",
     "text": [
      "Progress: 56.09%\n"
     ]
    },
    {
     "name": "stderr",
     "output_type": "stream",
     "text": [
      "C:\\Users\\HP\\AppData\\Local\\Temp\\ipykernel_5308\\3610018773.py:15: DtypeWarning: Columns (0,33,35,72) have mixed types. Specify dtype option on import or set low_memory=False.\n",
      "  for chunk in pd.read_csv(file_path, sep='\\t', encoding='utf-8', chunksize=chunk_size):\n"
     ]
    },
    {
     "name": "stdout",
     "output_type": "stream",
     "text": [
      "Progress: 56.42%\n"
     ]
    },
    {
     "name": "stderr",
     "output_type": "stream",
     "text": [
      "C:\\Users\\HP\\AppData\\Local\\Temp\\ipykernel_5308\\3610018773.py:15: DtypeWarning: Columns (67,72) have mixed types. Specify dtype option on import or set low_memory=False.\n",
      "  for chunk in pd.read_csv(file_path, sep='\\t', encoding='utf-8', chunksize=chunk_size):\n"
     ]
    },
    {
     "name": "stdout",
     "output_type": "stream",
     "text": [
      "Progress: 56.74%\n"
     ]
    },
    {
     "name": "stderr",
     "output_type": "stream",
     "text": [
      "C:\\Users\\HP\\AppData\\Local\\Temp\\ipykernel_5308\\3610018773.py:15: DtypeWarning: Columns (67,72) have mixed types. Specify dtype option on import or set low_memory=False.\n",
      "  for chunk in pd.read_csv(file_path, sep='\\t', encoding='utf-8', chunksize=chunk_size):\n"
     ]
    },
    {
     "name": "stdout",
     "output_type": "stream",
     "text": [
      "Progress: 57.07%\n"
     ]
    },
    {
     "name": "stderr",
     "output_type": "stream",
     "text": [
      "C:\\Users\\HP\\AppData\\Local\\Temp\\ipykernel_5308\\3610018773.py:15: DtypeWarning: Columns (67,72) have mixed types. Specify dtype option on import or set low_memory=False.\n",
      "  for chunk in pd.read_csv(file_path, sep='\\t', encoding='utf-8', chunksize=chunk_size):\n"
     ]
    },
    {
     "name": "stdout",
     "output_type": "stream",
     "text": [
      "Progress: 57.39%\n"
     ]
    },
    {
     "name": "stderr",
     "output_type": "stream",
     "text": [
      "C:\\Users\\HP\\AppData\\Local\\Temp\\ipykernel_5308\\3610018773.py:15: DtypeWarning: Columns (0,11,67,72) have mixed types. Specify dtype option on import or set low_memory=False.\n",
      "  for chunk in pd.read_csv(file_path, sep='\\t', encoding='utf-8', chunksize=chunk_size):\n"
     ]
    },
    {
     "name": "stdout",
     "output_type": "stream",
     "text": [
      "Progress: 57.71%\n"
     ]
    },
    {
     "name": "stderr",
     "output_type": "stream",
     "text": [
      "C:\\Users\\HP\\AppData\\Local\\Temp\\ipykernel_5308\\3610018773.py:15: DtypeWarning: Columns (33,35) have mixed types. Specify dtype option on import or set low_memory=False.\n",
      "  for chunk in pd.read_csv(file_path, sep='\\t', encoding='utf-8', chunksize=chunk_size):\n"
     ]
    },
    {
     "name": "stdout",
     "output_type": "stream",
     "text": [
      "Progress: 58.04%\n"
     ]
    },
    {
     "name": "stderr",
     "output_type": "stream",
     "text": [
      "C:\\Users\\HP\\AppData\\Local\\Temp\\ipykernel_5308\\3610018773.py:15: DtypeWarning: Columns (67) have mixed types. Specify dtype option on import or set low_memory=False.\n",
      "  for chunk in pd.read_csv(file_path, sep='\\t', encoding='utf-8', chunksize=chunk_size):\n"
     ]
    },
    {
     "name": "stdout",
     "output_type": "stream",
     "text": [
      "Progress: 58.36%\n"
     ]
    },
    {
     "name": "stderr",
     "output_type": "stream",
     "text": [
      "C:\\Users\\HP\\AppData\\Local\\Temp\\ipykernel_5308\\3610018773.py:15: DtypeWarning: Columns (11,33,35,72) have mixed types. Specify dtype option on import or set low_memory=False.\n",
      "  for chunk in pd.read_csv(file_path, sep='\\t', encoding='utf-8', chunksize=chunk_size):\n"
     ]
    },
    {
     "name": "stdout",
     "output_type": "stream",
     "text": [
      "Progress: 58.69%\n"
     ]
    },
    {
     "name": "stderr",
     "output_type": "stream",
     "text": [
      "C:\\Users\\HP\\AppData\\Local\\Temp\\ipykernel_5308\\3610018773.py:15: DtypeWarning: Columns (67,72) have mixed types. Specify dtype option on import or set low_memory=False.\n",
      "  for chunk in pd.read_csv(file_path, sep='\\t', encoding='utf-8', chunksize=chunk_size):\n"
     ]
    },
    {
     "name": "stdout",
     "output_type": "stream",
     "text": [
      "Progress: 59.01%\n"
     ]
    },
    {
     "name": "stderr",
     "output_type": "stream",
     "text": [
      "C:\\Users\\HP\\AppData\\Local\\Temp\\ipykernel_5308\\3610018773.py:15: DtypeWarning: Columns (0,33,35,67) have mixed types. Specify dtype option on import or set low_memory=False.\n",
      "  for chunk in pd.read_csv(file_path, sep='\\t', encoding='utf-8', chunksize=chunk_size):\n"
     ]
    },
    {
     "name": "stdout",
     "output_type": "stream",
     "text": [
      "Progress: 59.34%\n"
     ]
    },
    {
     "name": "stderr",
     "output_type": "stream",
     "text": [
      "C:\\Users\\HP\\AppData\\Local\\Temp\\ipykernel_5308\\3610018773.py:15: DtypeWarning: Columns (0,11,67) have mixed types. Specify dtype option on import or set low_memory=False.\n",
      "  for chunk in pd.read_csv(file_path, sep='\\t', encoding='utf-8', chunksize=chunk_size):\n"
     ]
    },
    {
     "name": "stdout",
     "output_type": "stream",
     "text": [
      "Progress: 59.66%\n"
     ]
    },
    {
     "name": "stderr",
     "output_type": "stream",
     "text": [
      "C:\\Users\\HP\\AppData\\Local\\Temp\\ipykernel_5308\\3610018773.py:15: DtypeWarning: Columns (33,35,67,72) have mixed types. Specify dtype option on import or set low_memory=False.\n",
      "  for chunk in pd.read_csv(file_path, sep='\\t', encoding='utf-8', chunksize=chunk_size):\n"
     ]
    },
    {
     "name": "stdout",
     "output_type": "stream",
     "text": [
      "Progress: 59.98%\n"
     ]
    },
    {
     "name": "stderr",
     "output_type": "stream",
     "text": [
      "C:\\Users\\HP\\AppData\\Local\\Temp\\ipykernel_5308\\3610018773.py:15: DtypeWarning: Columns (33,35,67,72) have mixed types. Specify dtype option on import or set low_memory=False.\n",
      "  for chunk in pd.read_csv(file_path, sep='\\t', encoding='utf-8', chunksize=chunk_size):\n"
     ]
    },
    {
     "name": "stdout",
     "output_type": "stream",
     "text": [
      "Progress: 60.31%\n"
     ]
    },
    {
     "name": "stderr",
     "output_type": "stream",
     "text": [
      "C:\\Users\\HP\\AppData\\Local\\Temp\\ipykernel_5308\\3610018773.py:15: DtypeWarning: Columns (33,35,67) have mixed types. Specify dtype option on import or set low_memory=False.\n",
      "  for chunk in pd.read_csv(file_path, sep='\\t', encoding='utf-8', chunksize=chunk_size):\n"
     ]
    },
    {
     "name": "stdout",
     "output_type": "stream",
     "text": [
      "Progress: 60.63%\n"
     ]
    },
    {
     "name": "stderr",
     "output_type": "stream",
     "text": [
      "C:\\Users\\HP\\AppData\\Local\\Temp\\ipykernel_5308\\3610018773.py:15: DtypeWarning: Columns (0,67) have mixed types. Specify dtype option on import or set low_memory=False.\n",
      "  for chunk in pd.read_csv(file_path, sep='\\t', encoding='utf-8', chunksize=chunk_size):\n"
     ]
    },
    {
     "name": "stdout",
     "output_type": "stream",
     "text": [
      "Progress: 60.96%\n"
     ]
    },
    {
     "name": "stderr",
     "output_type": "stream",
     "text": [
      "C:\\Users\\HP\\AppData\\Local\\Temp\\ipykernel_5308\\3610018773.py:15: DtypeWarning: Columns (0,67) have mixed types. Specify dtype option on import or set low_memory=False.\n",
      "  for chunk in pd.read_csv(file_path, sep='\\t', encoding='utf-8', chunksize=chunk_size):\n"
     ]
    },
    {
     "name": "stdout",
     "output_type": "stream",
     "text": [
      "Progress: 61.28%\n"
     ]
    },
    {
     "name": "stderr",
     "output_type": "stream",
     "text": [
      "C:\\Users\\HP\\AppData\\Local\\Temp\\ipykernel_5308\\3610018773.py:15: DtypeWarning: Columns (0) have mixed types. Specify dtype option on import or set low_memory=False.\n",
      "  for chunk in pd.read_csv(file_path, sep='\\t', encoding='utf-8', chunksize=chunk_size):\n"
     ]
    },
    {
     "name": "stdout",
     "output_type": "stream",
     "text": [
      "Progress: 61.61%\n"
     ]
    },
    {
     "name": "stderr",
     "output_type": "stream",
     "text": [
      "C:\\Users\\HP\\AppData\\Local\\Temp\\ipykernel_5308\\3610018773.py:15: DtypeWarning: Columns (0,11,67,72) have mixed types. Specify dtype option on import or set low_memory=False.\n",
      "  for chunk in pd.read_csv(file_path, sep='\\t', encoding='utf-8', chunksize=chunk_size):\n"
     ]
    },
    {
     "name": "stdout",
     "output_type": "stream",
     "text": [
      "Progress: 61.93%\n"
     ]
    },
    {
     "name": "stderr",
     "output_type": "stream",
     "text": [
      "C:\\Users\\HP\\AppData\\Local\\Temp\\ipykernel_5308\\3610018773.py:15: DtypeWarning: Columns (0,33,35,72) have mixed types. Specify dtype option on import or set low_memory=False.\n",
      "  for chunk in pd.read_csv(file_path, sep='\\t', encoding='utf-8', chunksize=chunk_size):\n"
     ]
    },
    {
     "name": "stdout",
     "output_type": "stream",
     "text": [
      "Progress: 62.25%\n"
     ]
    },
    {
     "name": "stderr",
     "output_type": "stream",
     "text": [
      "C:\\Users\\HP\\AppData\\Local\\Temp\\ipykernel_5308\\3610018773.py:15: DtypeWarning: Columns (0) have mixed types. Specify dtype option on import or set low_memory=False.\n",
      "  for chunk in pd.read_csv(file_path, sep='\\t', encoding='utf-8', chunksize=chunk_size):\n"
     ]
    },
    {
     "name": "stdout",
     "output_type": "stream",
     "text": [
      "Progress: 62.58%\n",
      "Progress: 62.90%\n"
     ]
    },
    {
     "name": "stderr",
     "output_type": "stream",
     "text": [
      "C:\\Users\\HP\\AppData\\Local\\Temp\\ipykernel_5308\\3610018773.py:15: DtypeWarning: Columns (0,11) have mixed types. Specify dtype option on import or set low_memory=False.\n",
      "  for chunk in pd.read_csv(file_path, sep='\\t', encoding='utf-8', chunksize=chunk_size):\n"
     ]
    },
    {
     "name": "stdout",
     "output_type": "stream",
     "text": [
      "Progress: 63.23%\n"
     ]
    },
    {
     "name": "stderr",
     "output_type": "stream",
     "text": [
      "C:\\Users\\HP\\AppData\\Local\\Temp\\ipykernel_5308\\3610018773.py:15: DtypeWarning: Columns (0,11,72) have mixed types. Specify dtype option on import or set low_memory=False.\n",
      "  for chunk in pd.read_csv(file_path, sep='\\t', encoding='utf-8', chunksize=chunk_size):\n"
     ]
    },
    {
     "name": "stdout",
     "output_type": "stream",
     "text": [
      "Progress: 63.55%\n"
     ]
    },
    {
     "name": "stderr",
     "output_type": "stream",
     "text": [
      "C:\\Users\\HP\\AppData\\Local\\Temp\\ipykernel_5308\\3610018773.py:15: DtypeWarning: Columns (11,67,72) have mixed types. Specify dtype option on import or set low_memory=False.\n",
      "  for chunk in pd.read_csv(file_path, sep='\\t', encoding='utf-8', chunksize=chunk_size):\n"
     ]
    },
    {
     "name": "stdout",
     "output_type": "stream",
     "text": [
      "Progress: 63.88%\n"
     ]
    },
    {
     "name": "stderr",
     "output_type": "stream",
     "text": [
      "C:\\Users\\HP\\AppData\\Local\\Temp\\ipykernel_5308\\3610018773.py:15: DtypeWarning: Columns (11,72) have mixed types. Specify dtype option on import or set low_memory=False.\n",
      "  for chunk in pd.read_csv(file_path, sep='\\t', encoding='utf-8', chunksize=chunk_size):\n"
     ]
    },
    {
     "name": "stdout",
     "output_type": "stream",
     "text": [
      "Progress: 64.20%\n"
     ]
    },
    {
     "name": "stderr",
     "output_type": "stream",
     "text": [
      "C:\\Users\\HP\\AppData\\Local\\Temp\\ipykernel_5308\\3610018773.py:15: DtypeWarning: Columns (11,72) have mixed types. Specify dtype option on import or set low_memory=False.\n",
      "  for chunk in pd.read_csv(file_path, sep='\\t', encoding='utf-8', chunksize=chunk_size):\n"
     ]
    },
    {
     "name": "stdout",
     "output_type": "stream",
     "text": [
      "Progress: 64.52%\n"
     ]
    },
    {
     "name": "stderr",
     "output_type": "stream",
     "text": [
      "C:\\Users\\HP\\AppData\\Local\\Temp\\ipykernel_5308\\3610018773.py:15: DtypeWarning: Columns (0,11,33,35) have mixed types. Specify dtype option on import or set low_memory=False.\n",
      "  for chunk in pd.read_csv(file_path, sep='\\t', encoding='utf-8', chunksize=chunk_size):\n"
     ]
    },
    {
     "name": "stdout",
     "output_type": "stream",
     "text": [
      "Progress: 64.85%\n"
     ]
    },
    {
     "name": "stderr",
     "output_type": "stream",
     "text": [
      "C:\\Users\\HP\\AppData\\Local\\Temp\\ipykernel_5308\\3610018773.py:15: DtypeWarning: Columns (0,67) have mixed types. Specify dtype option on import or set low_memory=False.\n",
      "  for chunk in pd.read_csv(file_path, sep='\\t', encoding='utf-8', chunksize=chunk_size):\n"
     ]
    },
    {
     "name": "stdout",
     "output_type": "stream",
     "text": [
      "Progress: 65.17%\n"
     ]
    },
    {
     "name": "stderr",
     "output_type": "stream",
     "text": [
      "C:\\Users\\HP\\AppData\\Local\\Temp\\ipykernel_5308\\3610018773.py:15: DtypeWarning: Columns (67) have mixed types. Specify dtype option on import or set low_memory=False.\n",
      "  for chunk in pd.read_csv(file_path, sep='\\t', encoding='utf-8', chunksize=chunk_size):\n"
     ]
    },
    {
     "name": "stdout",
     "output_type": "stream",
     "text": [
      "Progress: 65.50%\n"
     ]
    },
    {
     "name": "stderr",
     "output_type": "stream",
     "text": [
      "C:\\Users\\HP\\AppData\\Local\\Temp\\ipykernel_5308\\3610018773.py:15: DtypeWarning: Columns (0,11,67) have mixed types. Specify dtype option on import or set low_memory=False.\n",
      "  for chunk in pd.read_csv(file_path, sep='\\t', encoding='utf-8', chunksize=chunk_size):\n"
     ]
    },
    {
     "name": "stdout",
     "output_type": "stream",
     "text": [
      "Progress: 65.82%\n"
     ]
    },
    {
     "name": "stderr",
     "output_type": "stream",
     "text": [
      "C:\\Users\\HP\\AppData\\Local\\Temp\\ipykernel_5308\\3610018773.py:15: DtypeWarning: Columns (72) have mixed types. Specify dtype option on import or set low_memory=False.\n",
      "  for chunk in pd.read_csv(file_path, sep='\\t', encoding='utf-8', chunksize=chunk_size):\n"
     ]
    },
    {
     "name": "stdout",
     "output_type": "stream",
     "text": [
      "Progress: 66.15%\n"
     ]
    },
    {
     "name": "stderr",
     "output_type": "stream",
     "text": [
      "C:\\Users\\HP\\AppData\\Local\\Temp\\ipykernel_5308\\3610018773.py:15: DtypeWarning: Columns (0,11,33,35,67) have mixed types. Specify dtype option on import or set low_memory=False.\n",
      "  for chunk in pd.read_csv(file_path, sep='\\t', encoding='utf-8', chunksize=chunk_size):\n"
     ]
    },
    {
     "name": "stdout",
     "output_type": "stream",
     "text": [
      "Progress: 66.47%\n"
     ]
    },
    {
     "name": "stderr",
     "output_type": "stream",
     "text": [
      "C:\\Users\\HP\\AppData\\Local\\Temp\\ipykernel_5308\\3610018773.py:15: DtypeWarning: Columns (0,11,33,35) have mixed types. Specify dtype option on import or set low_memory=False.\n",
      "  for chunk in pd.read_csv(file_path, sep='\\t', encoding='utf-8', chunksize=chunk_size):\n"
     ]
    },
    {
     "name": "stdout",
     "output_type": "stream",
     "text": [
      "Progress: 66.79%\n"
     ]
    },
    {
     "name": "stderr",
     "output_type": "stream",
     "text": [
      "C:\\Users\\HP\\AppData\\Local\\Temp\\ipykernel_5308\\3610018773.py:15: DtypeWarning: Columns (0,11,33,35) have mixed types. Specify dtype option on import or set low_memory=False.\n",
      "  for chunk in pd.read_csv(file_path, sep='\\t', encoding='utf-8', chunksize=chunk_size):\n"
     ]
    },
    {
     "name": "stdout",
     "output_type": "stream",
     "text": [
      "Progress: 67.12%\n"
     ]
    },
    {
     "name": "stderr",
     "output_type": "stream",
     "text": [
      "C:\\Users\\HP\\AppData\\Local\\Temp\\ipykernel_5308\\3610018773.py:15: DtypeWarning: Columns (0,67) have mixed types. Specify dtype option on import or set low_memory=False.\n",
      "  for chunk in pd.read_csv(file_path, sep='\\t', encoding='utf-8', chunksize=chunk_size):\n"
     ]
    },
    {
     "name": "stdout",
     "output_type": "stream",
     "text": [
      "Progress: 67.44%\n"
     ]
    },
    {
     "name": "stderr",
     "output_type": "stream",
     "text": [
      "C:\\Users\\HP\\AppData\\Local\\Temp\\ipykernel_5308\\3610018773.py:15: DtypeWarning: Columns (72) have mixed types. Specify dtype option on import or set low_memory=False.\n",
      "  for chunk in pd.read_csv(file_path, sep='\\t', encoding='utf-8', chunksize=chunk_size):\n"
     ]
    },
    {
     "name": "stdout",
     "output_type": "stream",
     "text": [
      "Progress: 67.77%\n"
     ]
    },
    {
     "name": "stderr",
     "output_type": "stream",
     "text": [
      "C:\\Users\\HP\\AppData\\Local\\Temp\\ipykernel_5308\\3610018773.py:15: DtypeWarning: Columns (72) have mixed types. Specify dtype option on import or set low_memory=False.\n",
      "  for chunk in pd.read_csv(file_path, sep='\\t', encoding='utf-8', chunksize=chunk_size):\n"
     ]
    },
    {
     "name": "stdout",
     "output_type": "stream",
     "text": [
      "Progress: 68.09%\n"
     ]
    },
    {
     "name": "stderr",
     "output_type": "stream",
     "text": [
      "C:\\Users\\HP\\AppData\\Local\\Temp\\ipykernel_5308\\3610018773.py:15: DtypeWarning: Columns (0,11,67) have mixed types. Specify dtype option on import or set low_memory=False.\n",
      "  for chunk in pd.read_csv(file_path, sep='\\t', encoding='utf-8', chunksize=chunk_size):\n"
     ]
    },
    {
     "name": "stdout",
     "output_type": "stream",
     "text": [
      "Progress: 68.41%\n"
     ]
    },
    {
     "name": "stderr",
     "output_type": "stream",
     "text": [
      "C:\\Users\\HP\\AppData\\Local\\Temp\\ipykernel_5308\\3610018773.py:15: DtypeWarning: Columns (0,11,67,72) have mixed types. Specify dtype option on import or set low_memory=False.\n",
      "  for chunk in pd.read_csv(file_path, sep='\\t', encoding='utf-8', chunksize=chunk_size):\n"
     ]
    },
    {
     "name": "stdout",
     "output_type": "stream",
     "text": [
      "Progress: 68.74%\n"
     ]
    },
    {
     "name": "stderr",
     "output_type": "stream",
     "text": [
      "C:\\Users\\HP\\AppData\\Local\\Temp\\ipykernel_5308\\3610018773.py:15: DtypeWarning: Columns (11,67,72) have mixed types. Specify dtype option on import or set low_memory=False.\n",
      "  for chunk in pd.read_csv(file_path, sep='\\t', encoding='utf-8', chunksize=chunk_size):\n"
     ]
    },
    {
     "name": "stdout",
     "output_type": "stream",
     "text": [
      "Progress: 69.06%\n"
     ]
    },
    {
     "name": "stderr",
     "output_type": "stream",
     "text": [
      "C:\\Users\\HP\\AppData\\Local\\Temp\\ipykernel_5308\\3610018773.py:15: DtypeWarning: Columns (72) have mixed types. Specify dtype option on import or set low_memory=False.\n",
      "  for chunk in pd.read_csv(file_path, sep='\\t', encoding='utf-8', chunksize=chunk_size):\n"
     ]
    },
    {
     "name": "stdout",
     "output_type": "stream",
     "text": [
      "Progress: 69.39%\n"
     ]
    },
    {
     "name": "stderr",
     "output_type": "stream",
     "text": [
      "C:\\Users\\HP\\AppData\\Local\\Temp\\ipykernel_5308\\3610018773.py:15: DtypeWarning: Columns (0,11,67) have mixed types. Specify dtype option on import or set low_memory=False.\n",
      "  for chunk in pd.read_csv(file_path, sep='\\t', encoding='utf-8', chunksize=chunk_size):\n"
     ]
    },
    {
     "name": "stdout",
     "output_type": "stream",
     "text": [
      "Progress: 69.71%\n"
     ]
    },
    {
     "name": "stderr",
     "output_type": "stream",
     "text": [
      "C:\\Users\\HP\\AppData\\Local\\Temp\\ipykernel_5308\\3610018773.py:15: DtypeWarning: Columns (11,72) have mixed types. Specify dtype option on import or set low_memory=False.\n",
      "  for chunk in pd.read_csv(file_path, sep='\\t', encoding='utf-8', chunksize=chunk_size):\n"
     ]
    },
    {
     "name": "stdout",
     "output_type": "stream",
     "text": [
      "Progress: 70.04%\n"
     ]
    },
    {
     "name": "stderr",
     "output_type": "stream",
     "text": [
      "C:\\Users\\HP\\AppData\\Local\\Temp\\ipykernel_5308\\3610018773.py:15: DtypeWarning: Columns (0,72) have mixed types. Specify dtype option on import or set low_memory=False.\n",
      "  for chunk in pd.read_csv(file_path, sep='\\t', encoding='utf-8', chunksize=chunk_size):\n"
     ]
    },
    {
     "name": "stdout",
     "output_type": "stream",
     "text": [
      "Progress: 70.36%\n"
     ]
    },
    {
     "name": "stderr",
     "output_type": "stream",
     "text": [
      "C:\\Users\\HP\\AppData\\Local\\Temp\\ipykernel_5308\\3610018773.py:15: DtypeWarning: Columns (0,33,35) have mixed types. Specify dtype option on import or set low_memory=False.\n",
      "  for chunk in pd.read_csv(file_path, sep='\\t', encoding='utf-8', chunksize=chunk_size):\n"
     ]
    },
    {
     "name": "stdout",
     "output_type": "stream",
     "text": [
      "Progress: 70.68%\n"
     ]
    },
    {
     "name": "stderr",
     "output_type": "stream",
     "text": [
      "C:\\Users\\HP\\AppData\\Local\\Temp\\ipykernel_5308\\3610018773.py:15: DtypeWarning: Columns (0,11,33,35) have mixed types. Specify dtype option on import or set low_memory=False.\n",
      "  for chunk in pd.read_csv(file_path, sep='\\t', encoding='utf-8', chunksize=chunk_size):\n"
     ]
    },
    {
     "name": "stdout",
     "output_type": "stream",
     "text": [
      "Progress: 71.01%\n"
     ]
    },
    {
     "name": "stderr",
     "output_type": "stream",
     "text": [
      "C:\\Users\\HP\\AppData\\Local\\Temp\\ipykernel_5308\\3610018773.py:15: DtypeWarning: Columns (33,35,67) have mixed types. Specify dtype option on import or set low_memory=False.\n",
      "  for chunk in pd.read_csv(file_path, sep='\\t', encoding='utf-8', chunksize=chunk_size):\n"
     ]
    },
    {
     "name": "stdout",
     "output_type": "stream",
     "text": [
      "Progress: 71.33%\n"
     ]
    },
    {
     "name": "stderr",
     "output_type": "stream",
     "text": [
      "C:\\Users\\HP\\AppData\\Local\\Temp\\ipykernel_5308\\3610018773.py:15: DtypeWarning: Columns (11,33,35,67) have mixed types. Specify dtype option on import or set low_memory=False.\n",
      "  for chunk in pd.read_csv(file_path, sep='\\t', encoding='utf-8', chunksize=chunk_size):\n"
     ]
    },
    {
     "name": "stdout",
     "output_type": "stream",
     "text": [
      "Progress: 71.66%\n"
     ]
    },
    {
     "name": "stderr",
     "output_type": "stream",
     "text": [
      "C:\\Users\\HP\\AppData\\Local\\Temp\\ipykernel_5308\\3610018773.py:15: DtypeWarning: Columns (0,11) have mixed types. Specify dtype option on import or set low_memory=False.\n",
      "  for chunk in pd.read_csv(file_path, sep='\\t', encoding='utf-8', chunksize=chunk_size):\n"
     ]
    },
    {
     "name": "stdout",
     "output_type": "stream",
     "text": [
      "Progress: 71.98%\n"
     ]
    },
    {
     "name": "stderr",
     "output_type": "stream",
     "text": [
      "C:\\Users\\HP\\AppData\\Local\\Temp\\ipykernel_5308\\3610018773.py:15: DtypeWarning: Columns (0,17,67,72) have mixed types. Specify dtype option on import or set low_memory=False.\n",
      "  for chunk in pd.read_csv(file_path, sep='\\t', encoding='utf-8', chunksize=chunk_size):\n"
     ]
    },
    {
     "name": "stdout",
     "output_type": "stream",
     "text": [
      "Progress: 72.31%\n"
     ]
    },
    {
     "name": "stderr",
     "output_type": "stream",
     "text": [
      "C:\\Users\\HP\\AppData\\Local\\Temp\\ipykernel_5308\\3610018773.py:15: DtypeWarning: Columns (0,11,150) have mixed types. Specify dtype option on import or set low_memory=False.\n",
      "  for chunk in pd.read_csv(file_path, sep='\\t', encoding='utf-8', chunksize=chunk_size):\n"
     ]
    },
    {
     "name": "stdout",
     "output_type": "stream",
     "text": [
      "Progress: 72.63%\n"
     ]
    },
    {
     "name": "stderr",
     "output_type": "stream",
     "text": [
      "C:\\Users\\HP\\AppData\\Local\\Temp\\ipykernel_5308\\3610018773.py:15: DtypeWarning: Columns (0,11) have mixed types. Specify dtype option on import or set low_memory=False.\n",
      "  for chunk in pd.read_csv(file_path, sep='\\t', encoding='utf-8', chunksize=chunk_size):\n"
     ]
    },
    {
     "name": "stdout",
     "output_type": "stream",
     "text": [
      "Progress: 72.95%\n"
     ]
    },
    {
     "name": "stderr",
     "output_type": "stream",
     "text": [
      "C:\\Users\\HP\\AppData\\Local\\Temp\\ipykernel_5308\\3610018773.py:15: DtypeWarning: Columns (0) have mixed types. Specify dtype option on import or set low_memory=False.\n",
      "  for chunk in pd.read_csv(file_path, sep='\\t', encoding='utf-8', chunksize=chunk_size):\n"
     ]
    },
    {
     "name": "stdout",
     "output_type": "stream",
     "text": [
      "Progress: 73.28%\n"
     ]
    },
    {
     "name": "stderr",
     "output_type": "stream",
     "text": [
      "C:\\Users\\HP\\AppData\\Local\\Temp\\ipykernel_5308\\3610018773.py:15: DtypeWarning: Columns (0,33,35,72) have mixed types. Specify dtype option on import or set low_memory=False.\n",
      "  for chunk in pd.read_csv(file_path, sep='\\t', encoding='utf-8', chunksize=chunk_size):\n"
     ]
    },
    {
     "name": "stdout",
     "output_type": "stream",
     "text": [
      "Progress: 73.60%\n",
      "Progress: 73.93%\n"
     ]
    },
    {
     "name": "stderr",
     "output_type": "stream",
     "text": [
      "C:\\Users\\HP\\AppData\\Local\\Temp\\ipykernel_5308\\3610018773.py:15: DtypeWarning: Columns (11) have mixed types. Specify dtype option on import or set low_memory=False.\n",
      "  for chunk in pd.read_csv(file_path, sep='\\t', encoding='utf-8', chunksize=chunk_size):\n"
     ]
    },
    {
     "name": "stdout",
     "output_type": "stream",
     "text": [
      "Progress: 74.25%\n"
     ]
    },
    {
     "name": "stderr",
     "output_type": "stream",
     "text": [
      "C:\\Users\\HP\\AppData\\Local\\Temp\\ipykernel_5308\\3610018773.py:15: DtypeWarning: Columns (0,72) have mixed types. Specify dtype option on import or set low_memory=False.\n",
      "  for chunk in pd.read_csv(file_path, sep='\\t', encoding='utf-8', chunksize=chunk_size):\n"
     ]
    },
    {
     "name": "stdout",
     "output_type": "stream",
     "text": [
      "Progress: 74.58%\n"
     ]
    },
    {
     "name": "stderr",
     "output_type": "stream",
     "text": [
      "C:\\Users\\HP\\AppData\\Local\\Temp\\ipykernel_5308\\3610018773.py:15: DtypeWarning: Columns (33,35,72) have mixed types. Specify dtype option on import or set low_memory=False.\n",
      "  for chunk in pd.read_csv(file_path, sep='\\t', encoding='utf-8', chunksize=chunk_size):\n"
     ]
    },
    {
     "name": "stdout",
     "output_type": "stream",
     "text": [
      "Progress: 74.90%\n"
     ]
    },
    {
     "name": "stderr",
     "output_type": "stream",
     "text": [
      "C:\\Users\\HP\\AppData\\Local\\Temp\\ipykernel_5308\\3610018773.py:15: DtypeWarning: Columns (0,11,67,72) have mixed types. Specify dtype option on import or set low_memory=False.\n",
      "  for chunk in pd.read_csv(file_path, sep='\\t', encoding='utf-8', chunksize=chunk_size):\n"
     ]
    },
    {
     "name": "stdout",
     "output_type": "stream",
     "text": [
      "Progress: 75.22%\n"
     ]
    },
    {
     "name": "stderr",
     "output_type": "stream",
     "text": [
      "C:\\Users\\HP\\AppData\\Local\\Temp\\ipykernel_5308\\3610018773.py:15: DtypeWarning: Columns (11,33,35) have mixed types. Specify dtype option on import or set low_memory=False.\n",
      "  for chunk in pd.read_csv(file_path, sep='\\t', encoding='utf-8', chunksize=chunk_size):\n"
     ]
    },
    {
     "name": "stdout",
     "output_type": "stream",
     "text": [
      "Progress: 75.55%\n"
     ]
    },
    {
     "name": "stderr",
     "output_type": "stream",
     "text": [
      "C:\\Users\\HP\\AppData\\Local\\Temp\\ipykernel_5308\\3610018773.py:15: DtypeWarning: Columns (11) have mixed types. Specify dtype option on import or set low_memory=False.\n",
      "  for chunk in pd.read_csv(file_path, sep='\\t', encoding='utf-8', chunksize=chunk_size):\n"
     ]
    },
    {
     "name": "stdout",
     "output_type": "stream",
     "text": [
      "Progress: 75.87%\n"
     ]
    },
    {
     "name": "stderr",
     "output_type": "stream",
     "text": [
      "C:\\Users\\HP\\AppData\\Local\\Temp\\ipykernel_5308\\3610018773.py:15: DtypeWarning: Columns (11,33,35,72) have mixed types. Specify dtype option on import or set low_memory=False.\n",
      "  for chunk in pd.read_csv(file_path, sep='\\t', encoding='utf-8', chunksize=chunk_size):\n"
     ]
    },
    {
     "name": "stdout",
     "output_type": "stream",
     "text": [
      "Progress: 76.20%\n"
     ]
    },
    {
     "name": "stderr",
     "output_type": "stream",
     "text": [
      "C:\\Users\\HP\\AppData\\Local\\Temp\\ipykernel_5308\\3610018773.py:15: DtypeWarning: Columns (0,11,33,35,72) have mixed types. Specify dtype option on import or set low_memory=False.\n",
      "  for chunk in pd.read_csv(file_path, sep='\\t', encoding='utf-8', chunksize=chunk_size):\n"
     ]
    },
    {
     "name": "stdout",
     "output_type": "stream",
     "text": [
      "Progress: 76.52%\n"
     ]
    },
    {
     "name": "stderr",
     "output_type": "stream",
     "text": [
      "C:\\Users\\HP\\AppData\\Local\\Temp\\ipykernel_5308\\3610018773.py:15: DtypeWarning: Columns (33,35,72) have mixed types. Specify dtype option on import or set low_memory=False.\n",
      "  for chunk in pd.read_csv(file_path, sep='\\t', encoding='utf-8', chunksize=chunk_size):\n"
     ]
    },
    {
     "name": "stdout",
     "output_type": "stream",
     "text": [
      "Progress: 76.84%\n"
     ]
    },
    {
     "name": "stderr",
     "output_type": "stream",
     "text": [
      "C:\\Users\\HP\\AppData\\Local\\Temp\\ipykernel_5308\\3610018773.py:15: DtypeWarning: Columns (0,11,33,67,72) have mixed types. Specify dtype option on import or set low_memory=False.\n",
      "  for chunk in pd.read_csv(file_path, sep='\\t', encoding='utf-8', chunksize=chunk_size):\n"
     ]
    },
    {
     "name": "stdout",
     "output_type": "stream",
     "text": [
      "Progress: 77.17%\n"
     ]
    },
    {
     "name": "stderr",
     "output_type": "stream",
     "text": [
      "C:\\Users\\HP\\AppData\\Local\\Temp\\ipykernel_5308\\3610018773.py:15: DtypeWarning: Columns (33,35,72) have mixed types. Specify dtype option on import or set low_memory=False.\n",
      "  for chunk in pd.read_csv(file_path, sep='\\t', encoding='utf-8', chunksize=chunk_size):\n"
     ]
    },
    {
     "name": "stdout",
     "output_type": "stream",
     "text": [
      "Progress: 77.49%\n"
     ]
    },
    {
     "name": "stderr",
     "output_type": "stream",
     "text": [
      "C:\\Users\\HP\\AppData\\Local\\Temp\\ipykernel_5308\\3610018773.py:15: DtypeWarning: Columns (33,35,72) have mixed types. Specify dtype option on import or set low_memory=False.\n",
      "  for chunk in pd.read_csv(file_path, sep='\\t', encoding='utf-8', chunksize=chunk_size):\n"
     ]
    },
    {
     "name": "stdout",
     "output_type": "stream",
     "text": [
      "Progress: 77.82%\n"
     ]
    },
    {
     "name": "stderr",
     "output_type": "stream",
     "text": [
      "C:\\Users\\HP\\AppData\\Local\\Temp\\ipykernel_5308\\3610018773.py:15: DtypeWarning: Columns (0,33,35,67) have mixed types. Specify dtype option on import or set low_memory=False.\n",
      "  for chunk in pd.read_csv(file_path, sep='\\t', encoding='utf-8', chunksize=chunk_size):\n"
     ]
    },
    {
     "name": "stdout",
     "output_type": "stream",
     "text": [
      "Progress: 78.14%\n"
     ]
    },
    {
     "name": "stderr",
     "output_type": "stream",
     "text": [
      "C:\\Users\\HP\\AppData\\Local\\Temp\\ipykernel_5308\\3610018773.py:15: DtypeWarning: Columns (72) have mixed types. Specify dtype option on import or set low_memory=False.\n",
      "  for chunk in pd.read_csv(file_path, sep='\\t', encoding='utf-8', chunksize=chunk_size):\n"
     ]
    },
    {
     "name": "stdout",
     "output_type": "stream",
     "text": [
      "Progress: 78.47%\n"
     ]
    },
    {
     "name": "stderr",
     "output_type": "stream",
     "text": [
      "C:\\Users\\HP\\AppData\\Local\\Temp\\ipykernel_5308\\3610018773.py:15: DtypeWarning: Columns (0) have mixed types. Specify dtype option on import or set low_memory=False.\n",
      "  for chunk in pd.read_csv(file_path, sep='\\t', encoding='utf-8', chunksize=chunk_size):\n"
     ]
    },
    {
     "name": "stdout",
     "output_type": "stream",
     "text": [
      "Progress: 78.79%\n"
     ]
    },
    {
     "name": "stderr",
     "output_type": "stream",
     "text": [
      "C:\\Users\\HP\\AppData\\Local\\Temp\\ipykernel_5308\\3610018773.py:15: DtypeWarning: Columns (11,33,35,72) have mixed types. Specify dtype option on import or set low_memory=False.\n",
      "  for chunk in pd.read_csv(file_path, sep='\\t', encoding='utf-8', chunksize=chunk_size):\n"
     ]
    },
    {
     "name": "stdout",
     "output_type": "stream",
     "text": [
      "Progress: 79.11%\n"
     ]
    },
    {
     "name": "stderr",
     "output_type": "stream",
     "text": [
      "C:\\Users\\HP\\AppData\\Local\\Temp\\ipykernel_5308\\3610018773.py:15: DtypeWarning: Columns (11,33,35,67) have mixed types. Specify dtype option on import or set low_memory=False.\n",
      "  for chunk in pd.read_csv(file_path, sep='\\t', encoding='utf-8', chunksize=chunk_size):\n"
     ]
    },
    {
     "name": "stdout",
     "output_type": "stream",
     "text": [
      "Progress: 79.44%\n"
     ]
    },
    {
     "name": "stderr",
     "output_type": "stream",
     "text": [
      "C:\\Users\\HP\\AppData\\Local\\Temp\\ipykernel_5308\\3610018773.py:15: DtypeWarning: Columns (11,33,35,67) have mixed types. Specify dtype option on import or set low_memory=False.\n",
      "  for chunk in pd.read_csv(file_path, sep='\\t', encoding='utf-8', chunksize=chunk_size):\n"
     ]
    },
    {
     "name": "stdout",
     "output_type": "stream",
     "text": [
      "Progress: 79.76%\n"
     ]
    },
    {
     "name": "stderr",
     "output_type": "stream",
     "text": [
      "C:\\Users\\HP\\AppData\\Local\\Temp\\ipykernel_5308\\3610018773.py:15: DtypeWarning: Columns (0,33,35,67,72) have mixed types. Specify dtype option on import or set low_memory=False.\n",
      "  for chunk in pd.read_csv(file_path, sep='\\t', encoding='utf-8', chunksize=chunk_size):\n"
     ]
    },
    {
     "name": "stdout",
     "output_type": "stream",
     "text": [
      "Progress: 80.09%\n"
     ]
    },
    {
     "name": "stderr",
     "output_type": "stream",
     "text": [
      "C:\\Users\\HP\\AppData\\Local\\Temp\\ipykernel_5308\\3610018773.py:15: DtypeWarning: Columns (33,35,67,72) have mixed types. Specify dtype option on import or set low_memory=False.\n",
      "  for chunk in pd.read_csv(file_path, sep='\\t', encoding='utf-8', chunksize=chunk_size):\n"
     ]
    },
    {
     "name": "stdout",
     "output_type": "stream",
     "text": [
      "Progress: 80.41%\n"
     ]
    },
    {
     "name": "stderr",
     "output_type": "stream",
     "text": [
      "C:\\Users\\HP\\AppData\\Local\\Temp\\ipykernel_5308\\3610018773.py:15: DtypeWarning: Columns (33,35,72) have mixed types. Specify dtype option on import or set low_memory=False.\n",
      "  for chunk in pd.read_csv(file_path, sep='\\t', encoding='utf-8', chunksize=chunk_size):\n"
     ]
    },
    {
     "name": "stdout",
     "output_type": "stream",
     "text": [
      "Progress: 80.74%\n"
     ]
    },
    {
     "name": "stderr",
     "output_type": "stream",
     "text": [
      "C:\\Users\\HP\\AppData\\Local\\Temp\\ipykernel_5308\\3610018773.py:15: DtypeWarning: Columns (11,33,35) have mixed types. Specify dtype option on import or set low_memory=False.\n",
      "  for chunk in pd.read_csv(file_path, sep='\\t', encoding='utf-8', chunksize=chunk_size):\n"
     ]
    },
    {
     "name": "stdout",
     "output_type": "stream",
     "text": [
      "Progress: 81.06%\n"
     ]
    },
    {
     "name": "stderr",
     "output_type": "stream",
     "text": [
      "C:\\Users\\HP\\AppData\\Local\\Temp\\ipykernel_5308\\3610018773.py:15: DtypeWarning: Columns (33,35,72) have mixed types. Specify dtype option on import or set low_memory=False.\n",
      "  for chunk in pd.read_csv(file_path, sep='\\t', encoding='utf-8', chunksize=chunk_size):\n"
     ]
    },
    {
     "name": "stdout",
     "output_type": "stream",
     "text": [
      "Progress: 81.38%\n"
     ]
    },
    {
     "name": "stderr",
     "output_type": "stream",
     "text": [
      "C:\\Users\\HP\\AppData\\Local\\Temp\\ipykernel_5308\\3610018773.py:15: DtypeWarning: Columns (72) have mixed types. Specify dtype option on import or set low_memory=False.\n",
      "  for chunk in pd.read_csv(file_path, sep='\\t', encoding='utf-8', chunksize=chunk_size):\n"
     ]
    },
    {
     "name": "stdout",
     "output_type": "stream",
     "text": [
      "Progress: 81.71%\n"
     ]
    },
    {
     "name": "stderr",
     "output_type": "stream",
     "text": [
      "C:\\Users\\HP\\AppData\\Local\\Temp\\ipykernel_5308\\3610018773.py:15: DtypeWarning: Columns (33,35,67,72) have mixed types. Specify dtype option on import or set low_memory=False.\n",
      "  for chunk in pd.read_csv(file_path, sep='\\t', encoding='utf-8', chunksize=chunk_size):\n"
     ]
    },
    {
     "name": "stdout",
     "output_type": "stream",
     "text": [
      "Progress: 82.03%\n"
     ]
    },
    {
     "name": "stderr",
     "output_type": "stream",
     "text": [
      "C:\\Users\\HP\\AppData\\Local\\Temp\\ipykernel_5308\\3610018773.py:15: DtypeWarning: Columns (0,11,33,35,72) have mixed types. Specify dtype option on import or set low_memory=False.\n",
      "  for chunk in pd.read_csv(file_path, sep='\\t', encoding='utf-8', chunksize=chunk_size):\n"
     ]
    },
    {
     "name": "stdout",
     "output_type": "stream",
     "text": [
      "Progress: 82.36%\n"
     ]
    },
    {
     "name": "stderr",
     "output_type": "stream",
     "text": [
      "C:\\Users\\HP\\AppData\\Local\\Temp\\ipykernel_5308\\3610018773.py:15: DtypeWarning: Columns (33,67,72) have mixed types. Specify dtype option on import or set low_memory=False.\n",
      "  for chunk in pd.read_csv(file_path, sep='\\t', encoding='utf-8', chunksize=chunk_size):\n"
     ]
    },
    {
     "name": "stdout",
     "output_type": "stream",
     "text": [
      "Progress: 82.68%\n"
     ]
    },
    {
     "name": "stderr",
     "output_type": "stream",
     "text": [
      "C:\\Users\\HP\\AppData\\Local\\Temp\\ipykernel_5308\\3610018773.py:15: DtypeWarning: Columns (11,17,33,35,72) have mixed types. Specify dtype option on import or set low_memory=False.\n",
      "  for chunk in pd.read_csv(file_path, sep='\\t', encoding='utf-8', chunksize=chunk_size):\n"
     ]
    },
    {
     "name": "stdout",
     "output_type": "stream",
     "text": [
      "Progress: 83.01%\n"
     ]
    },
    {
     "name": "stderr",
     "output_type": "stream",
     "text": [
      "C:\\Users\\HP\\AppData\\Local\\Temp\\ipykernel_5308\\3610018773.py:15: DtypeWarning: Columns (72) have mixed types. Specify dtype option on import or set low_memory=False.\n",
      "  for chunk in pd.read_csv(file_path, sep='\\t', encoding='utf-8', chunksize=chunk_size):\n"
     ]
    },
    {
     "name": "stdout",
     "output_type": "stream",
     "text": [
      "Progress: 83.33%\n"
     ]
    },
    {
     "name": "stderr",
     "output_type": "stream",
     "text": [
      "C:\\Users\\HP\\AppData\\Local\\Temp\\ipykernel_5308\\3610018773.py:15: DtypeWarning: Columns (0,72) have mixed types. Specify dtype option on import or set low_memory=False.\n",
      "  for chunk in pd.read_csv(file_path, sep='\\t', encoding='utf-8', chunksize=chunk_size):\n"
     ]
    },
    {
     "name": "stdout",
     "output_type": "stream",
     "text": [
      "Progress: 83.65%\n"
     ]
    },
    {
     "name": "stderr",
     "output_type": "stream",
     "text": [
      "C:\\Users\\HP\\AppData\\Local\\Temp\\ipykernel_5308\\3610018773.py:15: DtypeWarning: Columns (0,11,72) have mixed types. Specify dtype option on import or set low_memory=False.\n",
      "  for chunk in pd.read_csv(file_path, sep='\\t', encoding='utf-8', chunksize=chunk_size):\n"
     ]
    },
    {
     "name": "stdout",
     "output_type": "stream",
     "text": [
      "Progress: 83.98%\n"
     ]
    },
    {
     "name": "stderr",
     "output_type": "stream",
     "text": [
      "C:\\Users\\HP\\AppData\\Local\\Temp\\ipykernel_5308\\3610018773.py:15: DtypeWarning: Columns (0,33,35,72) have mixed types. Specify dtype option on import or set low_memory=False.\n",
      "  for chunk in pd.read_csv(file_path, sep='\\t', encoding='utf-8', chunksize=chunk_size):\n"
     ]
    },
    {
     "name": "stdout",
     "output_type": "stream",
     "text": [
      "Progress: 84.30%\n"
     ]
    },
    {
     "name": "stderr",
     "output_type": "stream",
     "text": [
      "C:\\Users\\HP\\AppData\\Local\\Temp\\ipykernel_5308\\3610018773.py:15: DtypeWarning: Columns (17,33,35) have mixed types. Specify dtype option on import or set low_memory=False.\n",
      "  for chunk in pd.read_csv(file_path, sep='\\t', encoding='utf-8', chunksize=chunk_size):\n"
     ]
    },
    {
     "name": "stdout",
     "output_type": "stream",
     "text": [
      "Progress: 84.63%\n"
     ]
    },
    {
     "name": "stderr",
     "output_type": "stream",
     "text": [
      "C:\\Users\\HP\\AppData\\Local\\Temp\\ipykernel_5308\\3610018773.py:15: DtypeWarning: Columns (0,33,35,72) have mixed types. Specify dtype option on import or set low_memory=False.\n",
      "  for chunk in pd.read_csv(file_path, sep='\\t', encoding='utf-8', chunksize=chunk_size):\n"
     ]
    },
    {
     "name": "stdout",
     "output_type": "stream",
     "text": [
      "Progress: 84.95%\n"
     ]
    },
    {
     "name": "stderr",
     "output_type": "stream",
     "text": [
      "C:\\Users\\HP\\AppData\\Local\\Temp\\ipykernel_5308\\3610018773.py:15: DtypeWarning: Columns (0,11,33,35,67,72) have mixed types. Specify dtype option on import or set low_memory=False.\n",
      "  for chunk in pd.read_csv(file_path, sep='\\t', encoding='utf-8', chunksize=chunk_size):\n"
     ]
    },
    {
     "name": "stdout",
     "output_type": "stream",
     "text": [
      "Progress: 85.28%\n"
     ]
    },
    {
     "name": "stderr",
     "output_type": "stream",
     "text": [
      "C:\\Users\\HP\\AppData\\Local\\Temp\\ipykernel_5308\\3610018773.py:15: DtypeWarning: Columns (11,17,33,35,72) have mixed types. Specify dtype option on import or set low_memory=False.\n",
      "  for chunk in pd.read_csv(file_path, sep='\\t', encoding='utf-8', chunksize=chunk_size):\n"
     ]
    },
    {
     "name": "stdout",
     "output_type": "stream",
     "text": [
      "Progress: 85.60%\n"
     ]
    },
    {
     "name": "stderr",
     "output_type": "stream",
     "text": [
      "C:\\Users\\HP\\AppData\\Local\\Temp\\ipykernel_5308\\3610018773.py:15: DtypeWarning: Columns (17,33,35,72) have mixed types. Specify dtype option on import or set low_memory=False.\n",
      "  for chunk in pd.read_csv(file_path, sep='\\t', encoding='utf-8', chunksize=chunk_size):\n"
     ]
    },
    {
     "name": "stdout",
     "output_type": "stream",
     "text": [
      "Progress: 85.92%\n"
     ]
    },
    {
     "name": "stderr",
     "output_type": "stream",
     "text": [
      "C:\\Users\\HP\\AppData\\Local\\Temp\\ipykernel_5308\\3610018773.py:15: DtypeWarning: Columns (0,11) have mixed types. Specify dtype option on import or set low_memory=False.\n",
      "  for chunk in pd.read_csv(file_path, sep='\\t', encoding='utf-8', chunksize=chunk_size):\n"
     ]
    },
    {
     "name": "stdout",
     "output_type": "stream",
     "text": [
      "Progress: 86.25%\n"
     ]
    },
    {
     "name": "stderr",
     "output_type": "stream",
     "text": [
      "C:\\Users\\HP\\AppData\\Local\\Temp\\ipykernel_5308\\3610018773.py:15: DtypeWarning: Columns (0,11) have mixed types. Specify dtype option on import or set low_memory=False.\n",
      "  for chunk in pd.read_csv(file_path, sep='\\t', encoding='utf-8', chunksize=chunk_size):\n"
     ]
    },
    {
     "name": "stdout",
     "output_type": "stream",
     "text": [
      "Progress: 86.57%\n"
     ]
    },
    {
     "name": "stderr",
     "output_type": "stream",
     "text": [
      "C:\\Users\\HP\\AppData\\Local\\Temp\\ipykernel_5308\\3610018773.py:15: DtypeWarning: Columns (0,11,33,35,67) have mixed types. Specify dtype option on import or set low_memory=False.\n",
      "  for chunk in pd.read_csv(file_path, sep='\\t', encoding='utf-8', chunksize=chunk_size):\n"
     ]
    },
    {
     "name": "stdout",
     "output_type": "stream",
     "text": [
      "Progress: 86.90%\n"
     ]
    },
    {
     "name": "stderr",
     "output_type": "stream",
     "text": [
      "C:\\Users\\HP\\AppData\\Local\\Temp\\ipykernel_5308\\3610018773.py:15: DtypeWarning: Columns (0,33,67) have mixed types. Specify dtype option on import or set low_memory=False.\n",
      "  for chunk in pd.read_csv(file_path, sep='\\t', encoding='utf-8', chunksize=chunk_size):\n"
     ]
    },
    {
     "name": "stdout",
     "output_type": "stream",
     "text": [
      "Progress: 87.22%\n"
     ]
    },
    {
     "name": "stderr",
     "output_type": "stream",
     "text": [
      "C:\\Users\\HP\\AppData\\Local\\Temp\\ipykernel_5308\\3610018773.py:15: DtypeWarning: Columns (11,33,35) have mixed types. Specify dtype option on import or set low_memory=False.\n",
      "  for chunk in pd.read_csv(file_path, sep='\\t', encoding='utf-8', chunksize=chunk_size):\n"
     ]
    },
    {
     "name": "stdout",
     "output_type": "stream",
     "text": [
      "Progress: 87.54%\n"
     ]
    },
    {
     "name": "stderr",
     "output_type": "stream",
     "text": [
      "C:\\Users\\HP\\AppData\\Local\\Temp\\ipykernel_5308\\3610018773.py:15: DtypeWarning: Columns (33,35,67) have mixed types. Specify dtype option on import or set low_memory=False.\n",
      "  for chunk in pd.read_csv(file_path, sep='\\t', encoding='utf-8', chunksize=chunk_size):\n"
     ]
    },
    {
     "name": "stdout",
     "output_type": "stream",
     "text": [
      "Progress: 87.87%\n"
     ]
    },
    {
     "name": "stderr",
     "output_type": "stream",
     "text": [
      "C:\\Users\\HP\\AppData\\Local\\Temp\\ipykernel_5308\\3610018773.py:15: DtypeWarning: Columns (0,33,35,67) have mixed types. Specify dtype option on import or set low_memory=False.\n",
      "  for chunk in pd.read_csv(file_path, sep='\\t', encoding='utf-8', chunksize=chunk_size):\n"
     ]
    },
    {
     "name": "stdout",
     "output_type": "stream",
     "text": [
      "Progress: 88.19%\n"
     ]
    },
    {
     "name": "stderr",
     "output_type": "stream",
     "text": [
      "C:\\Users\\HP\\AppData\\Local\\Temp\\ipykernel_5308\\3610018773.py:15: DtypeWarning: Columns (0,33,35,67,72) have mixed types. Specify dtype option on import or set low_memory=False.\n",
      "  for chunk in pd.read_csv(file_path, sep='\\t', encoding='utf-8', chunksize=chunk_size):\n"
     ]
    },
    {
     "name": "stdout",
     "output_type": "stream",
     "text": [
      "Progress: 88.52%\n"
     ]
    },
    {
     "name": "stderr",
     "output_type": "stream",
     "text": [
      "C:\\Users\\HP\\AppData\\Local\\Temp\\ipykernel_5308\\3610018773.py:15: DtypeWarning: Columns (0,33,35,67) have mixed types. Specify dtype option on import or set low_memory=False.\n",
      "  for chunk in pd.read_csv(file_path, sep='\\t', encoding='utf-8', chunksize=chunk_size):\n"
     ]
    },
    {
     "name": "stdout",
     "output_type": "stream",
     "text": [
      "Progress: 88.84%\n"
     ]
    },
    {
     "name": "stderr",
     "output_type": "stream",
     "text": [
      "C:\\Users\\HP\\AppData\\Local\\Temp\\ipykernel_5308\\3610018773.py:15: DtypeWarning: Columns (0,33,67,72) have mixed types. Specify dtype option on import or set low_memory=False.\n",
      "  for chunk in pd.read_csv(file_path, sep='\\t', encoding='utf-8', chunksize=chunk_size):\n"
     ]
    },
    {
     "name": "stdout",
     "output_type": "stream",
     "text": [
      "Progress: 89.17%\n"
     ]
    },
    {
     "name": "stderr",
     "output_type": "stream",
     "text": [
      "C:\\Users\\HP\\AppData\\Local\\Temp\\ipykernel_5308\\3610018773.py:15: DtypeWarning: Columns (33,35) have mixed types. Specify dtype option on import or set low_memory=False.\n",
      "  for chunk in pd.read_csv(file_path, sep='\\t', encoding='utf-8', chunksize=chunk_size):\n"
     ]
    },
    {
     "name": "stdout",
     "output_type": "stream",
     "text": [
      "Progress: 89.49%\n"
     ]
    },
    {
     "name": "stderr",
     "output_type": "stream",
     "text": [
      "C:\\Users\\HP\\AppData\\Local\\Temp\\ipykernel_5308\\3610018773.py:15: DtypeWarning: Columns (0,33,35,67,72) have mixed types. Specify dtype option on import or set low_memory=False.\n",
      "  for chunk in pd.read_csv(file_path, sep='\\t', encoding='utf-8', chunksize=chunk_size):\n"
     ]
    },
    {
     "name": "stdout",
     "output_type": "stream",
     "text": [
      "Progress: 89.81%\n"
     ]
    },
    {
     "name": "stderr",
     "output_type": "stream",
     "text": [
      "C:\\Users\\HP\\AppData\\Local\\Temp\\ipykernel_5308\\3610018773.py:15: DtypeWarning: Columns (33,35,67) have mixed types. Specify dtype option on import or set low_memory=False.\n",
      "  for chunk in pd.read_csv(file_path, sep='\\t', encoding='utf-8', chunksize=chunk_size):\n"
     ]
    },
    {
     "name": "stdout",
     "output_type": "stream",
     "text": [
      "Progress: 90.14%\n"
     ]
    },
    {
     "name": "stderr",
     "output_type": "stream",
     "text": [
      "C:\\Users\\HP\\AppData\\Local\\Temp\\ipykernel_5308\\3610018773.py:15: DtypeWarning: Columns (0,33,67) have mixed types. Specify dtype option on import or set low_memory=False.\n",
      "  for chunk in pd.read_csv(file_path, sep='\\t', encoding='utf-8', chunksize=chunk_size):\n"
     ]
    },
    {
     "name": "stdout",
     "output_type": "stream",
     "text": [
      "Progress: 90.46%\n"
     ]
    },
    {
     "name": "stderr",
     "output_type": "stream",
     "text": [
      "C:\\Users\\HP\\AppData\\Local\\Temp\\ipykernel_5308\\3610018773.py:15: DtypeWarning: Columns (0,17,33,35,67,72) have mixed types. Specify dtype option on import or set low_memory=False.\n",
      "  for chunk in pd.read_csv(file_path, sep='\\t', encoding='utf-8', chunksize=chunk_size):\n"
     ]
    },
    {
     "name": "stdout",
     "output_type": "stream",
     "text": [
      "Progress: 90.79%\n"
     ]
    },
    {
     "name": "stderr",
     "output_type": "stream",
     "text": [
      "C:\\Users\\HP\\AppData\\Local\\Temp\\ipykernel_5308\\3610018773.py:15: DtypeWarning: Columns (0,11,17,33,35,67,72) have mixed types. Specify dtype option on import or set low_memory=False.\n",
      "  for chunk in pd.read_csv(file_path, sep='\\t', encoding='utf-8', chunksize=chunk_size):\n"
     ]
    },
    {
     "name": "stdout",
     "output_type": "stream",
     "text": [
      "Progress: 91.11%\n"
     ]
    },
    {
     "name": "stderr",
     "output_type": "stream",
     "text": [
      "C:\\Users\\HP\\AppData\\Local\\Temp\\ipykernel_5308\\3610018773.py:15: DtypeWarning: Columns (0,33,35,67,72) have mixed types. Specify dtype option on import or set low_memory=False.\n",
      "  for chunk in pd.read_csv(file_path, sep='\\t', encoding='utf-8', chunksize=chunk_size):\n"
     ]
    },
    {
     "name": "stdout",
     "output_type": "stream",
     "text": [
      "Progress: 91.44%\n"
     ]
    },
    {
     "name": "stderr",
     "output_type": "stream",
     "text": [
      "C:\\Users\\HP\\AppData\\Local\\Temp\\ipykernel_5308\\3610018773.py:15: DtypeWarning: Columns (0,17,33,35) have mixed types. Specify dtype option on import or set low_memory=False.\n",
      "  for chunk in pd.read_csv(file_path, sep='\\t', encoding='utf-8', chunksize=chunk_size):\n"
     ]
    },
    {
     "name": "stdout",
     "output_type": "stream",
     "text": [
      "Progress: 91.76%\n"
     ]
    },
    {
     "name": "stderr",
     "output_type": "stream",
     "text": [
      "C:\\Users\\HP\\AppData\\Local\\Temp\\ipykernel_5308\\3610018773.py:15: DtypeWarning: Columns (0,17,33,35,67,72) have mixed types. Specify dtype option on import or set low_memory=False.\n",
      "  for chunk in pd.read_csv(file_path, sep='\\t', encoding='utf-8', chunksize=chunk_size):\n"
     ]
    },
    {
     "name": "stdout",
     "output_type": "stream",
     "text": [
      "Progress: 92.08%\n"
     ]
    },
    {
     "name": "stderr",
     "output_type": "stream",
     "text": [
      "C:\\Users\\HP\\AppData\\Local\\Temp\\ipykernel_5308\\3610018773.py:15: DtypeWarning: Columns (33,35,72) have mixed types. Specify dtype option on import or set low_memory=False.\n",
      "  for chunk in pd.read_csv(file_path, sep='\\t', encoding='utf-8', chunksize=chunk_size):\n"
     ]
    },
    {
     "name": "stdout",
     "output_type": "stream",
     "text": [
      "Progress: 92.41%\n"
     ]
    },
    {
     "name": "stderr",
     "output_type": "stream",
     "text": [
      "C:\\Users\\HP\\AppData\\Local\\Temp\\ipykernel_5308\\3610018773.py:15: DtypeWarning: Columns (11,33,35) have mixed types. Specify dtype option on import or set low_memory=False.\n",
      "  for chunk in pd.read_csv(file_path, sep='\\t', encoding='utf-8', chunksize=chunk_size):\n"
     ]
    },
    {
     "name": "stdout",
     "output_type": "stream",
     "text": [
      "Progress: 92.73%\n"
     ]
    },
    {
     "name": "stderr",
     "output_type": "stream",
     "text": [
      "C:\\Users\\HP\\AppData\\Local\\Temp\\ipykernel_5308\\3610018773.py:15: DtypeWarning: Columns (0,17,67,72) have mixed types. Specify dtype option on import or set low_memory=False.\n",
      "  for chunk in pd.read_csv(file_path, sep='\\t', encoding='utf-8', chunksize=chunk_size):\n"
     ]
    },
    {
     "name": "stdout",
     "output_type": "stream",
     "text": [
      "Progress: 93.06%\n"
     ]
    },
    {
     "name": "stderr",
     "output_type": "stream",
     "text": [
      "C:\\Users\\HP\\AppData\\Local\\Temp\\ipykernel_5308\\3610018773.py:15: DtypeWarning: Columns (72) have mixed types. Specify dtype option on import or set low_memory=False.\n",
      "  for chunk in pd.read_csv(file_path, sep='\\t', encoding='utf-8', chunksize=chunk_size):\n"
     ]
    },
    {
     "name": "stdout",
     "output_type": "stream",
     "text": [
      "Progress: 93.38%\n"
     ]
    },
    {
     "name": "stderr",
     "output_type": "stream",
     "text": [
      "C:\\Users\\HP\\AppData\\Local\\Temp\\ipykernel_5308\\3610018773.py:15: DtypeWarning: Columns (0,11) have mixed types. Specify dtype option on import or set low_memory=False.\n",
      "  for chunk in pd.read_csv(file_path, sep='\\t', encoding='utf-8', chunksize=chunk_size):\n"
     ]
    },
    {
     "name": "stdout",
     "output_type": "stream",
     "text": [
      "Progress: 93.71%\n"
     ]
    },
    {
     "name": "stderr",
     "output_type": "stream",
     "text": [
      "C:\\Users\\HP\\AppData\\Local\\Temp\\ipykernel_5308\\3610018773.py:15: DtypeWarning: Columns (0,72) have mixed types. Specify dtype option on import or set low_memory=False.\n",
      "  for chunk in pd.read_csv(file_path, sep='\\t', encoding='utf-8', chunksize=chunk_size):\n"
     ]
    },
    {
     "name": "stdout",
     "output_type": "stream",
     "text": [
      "Progress: 94.03%\n"
     ]
    },
    {
     "name": "stderr",
     "output_type": "stream",
     "text": [
      "C:\\Users\\HP\\AppData\\Local\\Temp\\ipykernel_5308\\3610018773.py:15: DtypeWarning: Columns (72) have mixed types. Specify dtype option on import or set low_memory=False.\n",
      "  for chunk in pd.read_csv(file_path, sep='\\t', encoding='utf-8', chunksize=chunk_size):\n"
     ]
    },
    {
     "name": "stdout",
     "output_type": "stream",
     "text": [
      "Progress: 94.35%\n",
      "Progress: 94.68%\n",
      "Progress: 95.00%\n"
     ]
    },
    {
     "name": "stderr",
     "output_type": "stream",
     "text": [
      "C:\\Users\\HP\\AppData\\Local\\Temp\\ipykernel_5308\\3610018773.py:15: DtypeWarning: Columns (33,35) have mixed types. Specify dtype option on import or set low_memory=False.\n",
      "  for chunk in pd.read_csv(file_path, sep='\\t', encoding='utf-8', chunksize=chunk_size):\n"
     ]
    },
    {
     "name": "stdout",
     "output_type": "stream",
     "text": [
      "Progress: 95.33%\n"
     ]
    },
    {
     "name": "stderr",
     "output_type": "stream",
     "text": [
      "C:\\Users\\HP\\AppData\\Local\\Temp\\ipykernel_5308\\3610018773.py:15: DtypeWarning: Columns (11,72) have mixed types. Specify dtype option on import or set low_memory=False.\n",
      "  for chunk in pd.read_csv(file_path, sep='\\t', encoding='utf-8', chunksize=chunk_size):\n"
     ]
    },
    {
     "name": "stdout",
     "output_type": "stream",
     "text": [
      "Progress: 95.65%\n"
     ]
    },
    {
     "name": "stderr",
     "output_type": "stream",
     "text": [
      "C:\\Users\\HP\\AppData\\Local\\Temp\\ipykernel_5308\\3610018773.py:15: DtypeWarning: Columns (11) have mixed types. Specify dtype option on import or set low_memory=False.\n",
      "  for chunk in pd.read_csv(file_path, sep='\\t', encoding='utf-8', chunksize=chunk_size):\n"
     ]
    },
    {
     "name": "stdout",
     "output_type": "stream",
     "text": [
      "Progress: 95.98%\n"
     ]
    },
    {
     "name": "stderr",
     "output_type": "stream",
     "text": [
      "C:\\Users\\HP\\AppData\\Local\\Temp\\ipykernel_5308\\3610018773.py:15: DtypeWarning: Columns (0,11,72) have mixed types. Specify dtype option on import or set low_memory=False.\n",
      "  for chunk in pd.read_csv(file_path, sep='\\t', encoding='utf-8', chunksize=chunk_size):\n"
     ]
    },
    {
     "name": "stdout",
     "output_type": "stream",
     "text": [
      "Progress: 96.30%\n"
     ]
    },
    {
     "name": "stderr",
     "output_type": "stream",
     "text": [
      "C:\\Users\\HP\\AppData\\Local\\Temp\\ipykernel_5308\\3610018773.py:15: DtypeWarning: Columns (33,35,72) have mixed types. Specify dtype option on import or set low_memory=False.\n",
      "  for chunk in pd.read_csv(file_path, sep='\\t', encoding='utf-8', chunksize=chunk_size):\n"
     ]
    },
    {
     "name": "stdout",
     "output_type": "stream",
     "text": [
      "Progress: 96.62%\n"
     ]
    },
    {
     "name": "stderr",
     "output_type": "stream",
     "text": [
      "C:\\Users\\HP\\AppData\\Local\\Temp\\ipykernel_5308\\3610018773.py:15: DtypeWarning: Columns (0,11,33,35,72) have mixed types. Specify dtype option on import or set low_memory=False.\n",
      "  for chunk in pd.read_csv(file_path, sep='\\t', encoding='utf-8', chunksize=chunk_size):\n"
     ]
    },
    {
     "name": "stdout",
     "output_type": "stream",
     "text": [
      "Progress: 96.95%\n"
     ]
    },
    {
     "name": "stderr",
     "output_type": "stream",
     "text": [
      "C:\\Users\\HP\\AppData\\Local\\Temp\\ipykernel_5308\\3610018773.py:15: DtypeWarning: Columns (33,72) have mixed types. Specify dtype option on import or set low_memory=False.\n",
      "  for chunk in pd.read_csv(file_path, sep='\\t', encoding='utf-8', chunksize=chunk_size):\n"
     ]
    },
    {
     "name": "stdout",
     "output_type": "stream",
     "text": [
      "Progress: 97.27%\n"
     ]
    },
    {
     "name": "stderr",
     "output_type": "stream",
     "text": [
      "C:\\Users\\HP\\AppData\\Local\\Temp\\ipykernel_5308\\3610018773.py:15: DtypeWarning: Columns (0,33,35,67,72) have mixed types. Specify dtype option on import or set low_memory=False.\n",
      "  for chunk in pd.read_csv(file_path, sep='\\t', encoding='utf-8', chunksize=chunk_size):\n"
     ]
    },
    {
     "name": "stdout",
     "output_type": "stream",
     "text": [
      "Progress: 97.60%\n"
     ]
    },
    {
     "name": "stderr",
     "output_type": "stream",
     "text": [
      "C:\\Users\\HP\\AppData\\Local\\Temp\\ipykernel_5308\\3610018773.py:15: DtypeWarning: Columns (0,67,72) have mixed types. Specify dtype option on import or set low_memory=False.\n",
      "  for chunk in pd.read_csv(file_path, sep='\\t', encoding='utf-8', chunksize=chunk_size):\n"
     ]
    },
    {
     "name": "stdout",
     "output_type": "stream",
     "text": [
      "Progress: 97.92%\n"
     ]
    },
    {
     "name": "stderr",
     "output_type": "stream",
     "text": [
      "C:\\Users\\HP\\AppData\\Local\\Temp\\ipykernel_5308\\3610018773.py:15: DtypeWarning: Columns (0,33,35,67,72) have mixed types. Specify dtype option on import or set low_memory=False.\n",
      "  for chunk in pd.read_csv(file_path, sep='\\t', encoding='utf-8', chunksize=chunk_size):\n"
     ]
    },
    {
     "name": "stdout",
     "output_type": "stream",
     "text": [
      "Progress: 98.24%\n"
     ]
    },
    {
     "name": "stderr",
     "output_type": "stream",
     "text": [
      "C:\\Users\\HP\\AppData\\Local\\Temp\\ipykernel_5308\\3610018773.py:15: DtypeWarning: Columns (0,33,35,67) have mixed types. Specify dtype option on import or set low_memory=False.\n",
      "  for chunk in pd.read_csv(file_path, sep='\\t', encoding='utf-8', chunksize=chunk_size):\n"
     ]
    },
    {
     "name": "stdout",
     "output_type": "stream",
     "text": [
      "Progress: 98.57%\n"
     ]
    },
    {
     "name": "stderr",
     "output_type": "stream",
     "text": [
      "C:\\Users\\HP\\AppData\\Local\\Temp\\ipykernel_5308\\3610018773.py:15: DtypeWarning: Columns (0,33,35,72) have mixed types. Specify dtype option on import or set low_memory=False.\n",
      "  for chunk in pd.read_csv(file_path, sep='\\t', encoding='utf-8', chunksize=chunk_size):\n"
     ]
    },
    {
     "name": "stdout",
     "output_type": "stream",
     "text": [
      "Progress: 98.89%\n"
     ]
    },
    {
     "name": "stderr",
     "output_type": "stream",
     "text": [
      "C:\\Users\\HP\\AppData\\Local\\Temp\\ipykernel_5308\\3610018773.py:15: DtypeWarning: Columns (0,72) have mixed types. Specify dtype option on import or set low_memory=False.\n",
      "  for chunk in pd.read_csv(file_path, sep='\\t', encoding='utf-8', chunksize=chunk_size):\n"
     ]
    },
    {
     "name": "stdout",
     "output_type": "stream",
     "text": [
      "Progress: 99.22%\n"
     ]
    },
    {
     "name": "stderr",
     "output_type": "stream",
     "text": [
      "C:\\Users\\HP\\AppData\\Local\\Temp\\ipykernel_5308\\3610018773.py:15: DtypeWarning: Columns (0,72) have mixed types. Specify dtype option on import or set low_memory=False.\n",
      "  for chunk in pd.read_csv(file_path, sep='\\t', encoding='utf-8', chunksize=chunk_size):\n"
     ]
    },
    {
     "name": "stdout",
     "output_type": "stream",
     "text": [
      "Progress: 99.54%\n"
     ]
    },
    {
     "name": "stderr",
     "output_type": "stream",
     "text": [
      "C:\\Users\\HP\\AppData\\Local\\Temp\\ipykernel_5308\\3610018773.py:15: DtypeWarning: Columns (11,17,67) have mixed types. Specify dtype option on import or set low_memory=False.\n",
      "  for chunk in pd.read_csv(file_path, sep='\\t', encoding='utf-8', chunksize=chunk_size):\n"
     ]
    },
    {
     "name": "stdout",
     "output_type": "stream",
     "text": [
      "Progress: 99.87%\n",
      "Progress: 99.99%\n"
     ]
    }
   ],
   "source": [
    "# Define chunk size (number of rows to read at a time)\n",
    "chunk_size = 10000\n",
    "\n",
    "# Get the total number of rows in the file\n",
    "with open(file_path, 'r', encoding='utf-8') as file:\n",
    "    total_rows = sum(1 for _ in file)\n",
    "\n",
    "# Initialize an empty list to store chunks\n",
    "chunks = []\n",
    "\n",
    "# Initialize a counter for progress tracking\n",
    "progress = 0\n",
    "\n",
    "# Read the file in chunks\n",
    "for chunk in pd.read_csv(file_path, sep='\\t', encoding='utf-8', chunksize=chunk_size):\n",
    "    chunks.append(chunk)\n",
    "    \n",
    "    # Update progress\n",
    "    progress += len(chunk)\n",
    "    \n",
    "    # Calculate and print progress percentage\n",
    "    percent_progress = (progress / total_rows) * 100\n",
    "    print(f\"Progress: {percent_progress:.2f}%\")\n",
    "\n",
    "# Concatenate all chunks into a single DataFrame\n",
    "df = pd.concat(chunks, ignore_index=True)"
   ]
  },
  {
   "cell_type": "markdown",
   "metadata": {},
   "source": [
    "## 4. Summarize Data\n",
    "Understand the basic properties of your dataset such as the number of observations (rows) and variables (columns), data types, missing values, etc.\n",
    "\n",
    "Calculate summary statistics such as mean, median, mode, standard deviation, minimum, maximum, quartiles, etc., to get a general understanding of the data distribution.\n",
    "\n",
    "The pandas DataFrame has 3083837 entries and 206 columns. It contains mostly float64 (128 columns), int64 (2 columns), and object (76 columns) data types, consuming approximately 4.7 GB of memory."
   ]
  },
  {
   "cell_type": "code",
   "execution_count": 16,
   "metadata": {},
   "outputs": [
    {
     "name": "stdout",
     "output_type": "stream",
     "text": [
      "<class 'pandas.core.frame.DataFrame'>\n",
      "RangeIndex: 3083837 entries, 0 to 3083836\n",
      "Columns: 206 entries, code to acidity_100g\n",
      "dtypes: float64(128), int64(2), object(76)\n",
      "memory usage: 4.7+ GB\n"
     ]
    }
   ],
   "source": [
    "# get some info\n",
    "df.info()"
   ]
  },
  {
   "cell_type": "code",
   "execution_count": 19,
   "metadata": {},
   "outputs": [
    {
     "name": "stdout",
     "output_type": "stream",
     "text": [
      "nrows: 3083837, ncols: 206\n"
     ]
    }
   ],
   "source": [
    "nrows, ncols = df.shape\n",
    "print('nrows: {}, ncols: {}'.format(nrows, ncols))"
   ]
  },
  {
   "cell_type": "markdown",
   "metadata": {},
   "source": [
    "## 5. Handle Missing Values and Duplications\n",
    "Identify and handle missing values appropriately and duplications, either by imputation (replacing missing values with a reasonable estimate) or removing them if they are too numerous."
   ]
  },
  {
   "cell_type": "code",
   "execution_count": 20,
   "metadata": {},
   "outputs": [],
   "source": [
    "# Drop observations with no data (safe cleaning)\n",
    "df.dropna(how='all', inplace=True)"
   ]
  },
  {
   "cell_type": "code",
   "execution_count": 21,
   "metadata": {},
   "outputs": [],
   "source": [
    "# Drop variables with no data (safe cleaning)\n",
    "empty_variables = df.columns[df.isnull().sum() == df.shape[0]]\n",
    "df.dropna(how='all', axis=1, inplace=True)"
   ]
  },
  {
   "cell_type": "code",
   "execution_count": 22,
   "metadata": {},
   "outputs": [],
   "source": [
    "# Remove duplicates observations\n",
    "duplicates_count = df.duplicated().sum()\n",
    "df.drop_duplicates(inplace=True)"
   ]
  },
  {
   "cell_type": "code",
   "execution_count": 24,
   "metadata": {},
   "outputs": [
    {
     "name": "stdout",
     "output_type": "stream",
     "text": [
      "Number of empty observations dropped: 0\n",
      "Number of empty variables dropped: 2\n",
      "Variables dropped:\n",
      "Index(['allergens_en', 'additives'], dtype='object')\n",
      "Number of duplicates dropped: 0\n",
      "\n",
      "Dataset dimensions: (3083837, 204)\n"
     ]
    }
   ],
   "source": [
    "print('Number of empty observations dropped: {}'.format(nrows - df.shape[0]))\n",
    "print('Number of empty variables dropped: {}'.format(len(empty_variables)))\n",
    "print('Variables dropped:\\n{}'.format(empty_variables))\n",
    "print('Number of duplicates dropped: {}'.format(duplicates_count))\n",
    "print('\\nDataset dimensions: {}'.format(df.shape))"
   ]
  },
  {
   "cell_type": "markdown",
   "metadata": {},
   "source": [
    "There were 2 variables with only NaN values."
   ]
  },
  {
   "cell_type": "markdown",
   "metadata": {},
   "source": [
    "## 6. Inspect Data Structure\n",
    "For a clearer understanding of the dataset, we'll examine the variables separately, distinguishing between object and numerical types due to the numerous variables present."
   ]
  },
  {
   "cell_type": "code",
   "execution_count": 28,
   "metadata": {},
   "outputs": [
    {
     "data": {
      "text/html": [
       "<div>\n",
       "<style scoped>\n",
       "    .dataframe tbody tr th:only-of-type {\n",
       "        vertical-align: middle;\n",
       "    }\n",
       "\n",
       "    .dataframe tbody tr th {\n",
       "        vertical-align: top;\n",
       "    }\n",
       "\n",
       "    .dataframe thead th {\n",
       "        text-align: right;\n",
       "    }\n",
       "</style>\n",
       "<table border=\"1\" class=\"dataframe\">\n",
       "  <thead>\n",
       "    <tr style=\"text-align: right;\">\n",
       "      <th></th>\n",
       "      <th>count</th>\n",
       "      <th>unique</th>\n",
       "      <th>top</th>\n",
       "      <th>freq</th>\n",
       "    </tr>\n",
       "  </thead>\n",
       "  <tbody>\n",
       "    <tr>\n",
       "      <th>code</th>\n",
       "      <td>3083837</td>\n",
       "      <td>3079548</td>\n",
       "      <td>79200370213</td>\n",
       "      <td>3</td>\n",
       "    </tr>\n",
       "    <tr>\n",
       "      <th>url</th>\n",
       "      <td>3083837</td>\n",
       "      <td>3081436</td>\n",
       "      <td>http://world-en.openfoodfacts.org/product/3596...</td>\n",
       "      <td>2</td>\n",
       "    </tr>\n",
       "    <tr>\n",
       "      <th>creator</th>\n",
       "      <td>3083833</td>\n",
       "      <td>25212</td>\n",
       "      <td>kiliweb</td>\n",
       "      <td>1856096</td>\n",
       "    </tr>\n",
       "    <tr>\n",
       "      <th>created_datetime</th>\n",
       "      <td>3083837</td>\n",
       "      <td>2820739</td>\n",
       "      <td>2020-04-23T17:22:07Z</td>\n",
       "      <td>28</td>\n",
       "    </tr>\n",
       "    <tr>\n",
       "      <th>last_modified_datetime</th>\n",
       "      <td>3083837</td>\n",
       "      <td>2450691</td>\n",
       "      <td>2021-08-28T10:19:44Z</td>\n",
       "      <td>127</td>\n",
       "    </tr>\n",
       "    <tr>\n",
       "      <th>last_modified_by</th>\n",
       "      <td>2978387</td>\n",
       "      <td>29728</td>\n",
       "      <td>kiliweb</td>\n",
       "      <td>593404</td>\n",
       "    </tr>\n",
       "    <tr>\n",
       "      <th>last_updated_datetime</th>\n",
       "      <td>3059704</td>\n",
       "      <td>730573</td>\n",
       "      <td>2023-10-26T19:18:00Z</td>\n",
       "      <td>91</td>\n",
       "    </tr>\n",
       "    <tr>\n",
       "      <th>product_name</th>\n",
       "      <td>2936441</td>\n",
       "      <td>1831720</td>\n",
       "      <td>Miel</td>\n",
       "      <td>1720</td>\n",
       "    </tr>\n",
       "    <tr>\n",
       "      <th>abbreviated_product_name</th>\n",
       "      <td>24110</td>\n",
       "      <td>21630</td>\n",
       "      <td>Auchan jambon superieur dd sans cou</td>\n",
       "      <td>23</td>\n",
       "    </tr>\n",
       "    <tr>\n",
       "      <th>generic_name</th>\n",
       "      <td>153168</td>\n",
       "      <td>111352</td>\n",
       "      <td>Pâtes alimentaires de qualité supérieure</td>\n",
       "      <td>423</td>\n",
       "    </tr>\n",
       "    <tr>\n",
       "      <th>quantity</th>\n",
       "      <td>981331</td>\n",
       "      <td>53580</td>\n",
       "      <td>1pcs</td>\n",
       "      <td>38217</td>\n",
       "    </tr>\n",
       "    <tr>\n",
       "      <th>packaging</th>\n",
       "      <td>379998</td>\n",
       "      <td>62134</td>\n",
       "      <td>Plastique</td>\n",
       "      <td>11436</td>\n",
       "    </tr>\n",
       "    <tr>\n",
       "      <th>packaging_tags</th>\n",
       "      <td>379991</td>\n",
       "      <td>48897</td>\n",
       "      <td>en:plastic</td>\n",
       "      <td>45517</td>\n",
       "    </tr>\n",
       "    <tr>\n",
       "      <th>packaging_en</th>\n",
       "      <td>379982</td>\n",
       "      <td>48643</td>\n",
       "      <td>Plastic</td>\n",
       "      <td>45518</td>\n",
       "    </tr>\n",
       "    <tr>\n",
       "      <th>packaging_text</th>\n",
       "      <td>23688</td>\n",
       "      <td>12283</td>\n",
       "      <td>1 sachet plastique à jeter</td>\n",
       "      <td>734</td>\n",
       "    </tr>\n",
       "    <tr>\n",
       "      <th>brands</th>\n",
       "      <td>1646875</td>\n",
       "      <td>268405</td>\n",
       "      <td>Carrefour</td>\n",
       "      <td>21466</td>\n",
       "    </tr>\n",
       "    <tr>\n",
       "      <th>brands_tags</th>\n",
       "      <td>1646732</td>\n",
       "      <td>205053</td>\n",
       "      <td>carrefour</td>\n",
       "      <td>22575</td>\n",
       "    </tr>\n",
       "    <tr>\n",
       "      <th>categories</th>\n",
       "      <td>1380503</td>\n",
       "      <td>202037</td>\n",
       "      <td>Snacks</td>\n",
       "      <td>33645</td>\n",
       "    </tr>\n",
       "    <tr>\n",
       "      <th>categories_tags</th>\n",
       "      <td>1380496</td>\n",
       "      <td>125870</td>\n",
       "      <td>en:snacks</td>\n",
       "      <td>34750</td>\n",
       "    </tr>\n",
       "    <tr>\n",
       "      <th>categories_en</th>\n",
       "      <td>1380496</td>\n",
       "      <td>125833</td>\n",
       "      <td>Snacks</td>\n",
       "      <td>34750</td>\n",
       "    </tr>\n",
       "    <tr>\n",
       "      <th>origins</th>\n",
       "      <td>127323</td>\n",
       "      <td>18954</td>\n",
       "      <td>France</td>\n",
       "      <td>28082</td>\n",
       "    </tr>\n",
       "    <tr>\n",
       "      <th>origins_tags</th>\n",
       "      <td>127200</td>\n",
       "      <td>14962</td>\n",
       "      <td>en:france</td>\n",
       "      <td>29060</td>\n",
       "    </tr>\n",
       "    <tr>\n",
       "      <th>origins_en</th>\n",
       "      <td>127191</td>\n",
       "      <td>14920</td>\n",
       "      <td>France</td>\n",
       "      <td>29066</td>\n",
       "    </tr>\n",
       "    <tr>\n",
       "      <th>manufacturing_places</th>\n",
       "      <td>189792</td>\n",
       "      <td>35581</td>\n",
       "      <td>France</td>\n",
       "      <td>27206</td>\n",
       "    </tr>\n",
       "    <tr>\n",
       "      <th>manufacturing_places_tags</th>\n",
       "      <td>189731</td>\n",
       "      <td>31605</td>\n",
       "      <td>france</td>\n",
       "      <td>28380</td>\n",
       "    </tr>\n",
       "    <tr>\n",
       "      <th>labels</th>\n",
       "      <td>884464</td>\n",
       "      <td>131346</td>\n",
       "      <td>en:no-gluten</td>\n",
       "      <td>29118</td>\n",
       "    </tr>\n",
       "    <tr>\n",
       "      <th>labels_tags</th>\n",
       "      <td>884461</td>\n",
       "      <td>97829</td>\n",
       "      <td>en:no-gluten</td>\n",
       "      <td>77700</td>\n",
       "    </tr>\n",
       "    <tr>\n",
       "      <th>labels_en</th>\n",
       "      <td>884435</td>\n",
       "      <td>97795</td>\n",
       "      <td>No gluten</td>\n",
       "      <td>77700</td>\n",
       "    </tr>\n",
       "    <tr>\n",
       "      <th>emb_codes</th>\n",
       "      <td>166800</td>\n",
       "      <td>44067</td>\n",
       "      <td>FSC-C014047</td>\n",
       "      <td>2770</td>\n",
       "    </tr>\n",
       "    <tr>\n",
       "      <th>emb_codes_tags</th>\n",
       "      <td>166755</td>\n",
       "      <td>37747</td>\n",
       "      <td>fsc-c014047</td>\n",
       "      <td>2849</td>\n",
       "    </tr>\n",
       "    <tr>\n",
       "      <th>first_packaging_code_geo</th>\n",
       "      <td>85768</td>\n",
       "      <td>4137</td>\n",
       "      <td>47.833333,-0.333333</td>\n",
       "      <td>1498</td>\n",
       "    </tr>\n",
       "    <tr>\n",
       "      <th>cities</th>\n",
       "      <td>1</td>\n",
       "      <td>1</td>\n",
       "      <td>en:to-be-completed, en:nutrition-facts-complet...</td>\n",
       "      <td>1</td>\n",
       "    </tr>\n",
       "    <tr>\n",
       "      <th>cities_tags</th>\n",
       "      <td>92450</td>\n",
       "      <td>7972</td>\n",
       "      <td>sable-sur-sarthe-sarthe-france</td>\n",
       "      <td>1208</td>\n",
       "    </tr>\n",
       "    <tr>\n",
       "      <th>purchase_places</th>\n",
       "      <td>196767</td>\n",
       "      <td>13663</td>\n",
       "      <td>France</td>\n",
       "      <td>45756</td>\n",
       "    </tr>\n",
       "    <tr>\n",
       "      <th>stores</th>\n",
       "      <td>439955</td>\n",
       "      <td>22681</td>\n",
       "      <td>Carrefour</td>\n",
       "      <td>24169</td>\n",
       "    </tr>\n",
       "    <tr>\n",
       "      <th>countries</th>\n",
       "      <td>3058494</td>\n",
       "      <td>16319</td>\n",
       "      <td>France</td>\n",
       "      <td>463635</td>\n",
       "    </tr>\n",
       "    <tr>\n",
       "      <th>countries_tags</th>\n",
       "      <td>3058490</td>\n",
       "      <td>6324</td>\n",
       "      <td>en:france</td>\n",
       "      <td>936466</td>\n",
       "    </tr>\n",
       "    <tr>\n",
       "      <th>countries_en</th>\n",
       "      <td>3058489</td>\n",
       "      <td>6323</td>\n",
       "      <td>France</td>\n",
       "      <td>936466</td>\n",
       "    </tr>\n",
       "    <tr>\n",
       "      <th>ingredients_text</th>\n",
       "      <td>923797</td>\n",
       "      <td>789734</td>\n",
       "      <td>Poulet</td>\n",
       "      <td>501</td>\n",
       "    </tr>\n",
       "    <tr>\n",
       "      <th>ingredients_tags</th>\n",
       "      <td>922519</td>\n",
       "      <td>700390</td>\n",
       "      <td>en:honey,en:added-sugar</td>\n",
       "      <td>1798</td>\n",
       "    </tr>\n",
       "    <tr>\n",
       "      <th>ingredients_analysis_tags</th>\n",
       "      <td>981564</td>\n",
       "      <td>44</td>\n",
       "      <td>en:palm-oil-content-unknown,en:vegan-status-un...</td>\n",
       "      <td>166884</td>\n",
       "    </tr>\n",
       "    <tr>\n",
       "      <th>allergens</th>\n",
       "      <td>264520</td>\n",
       "      <td>9186</td>\n",
       "      <td>en:milk</td>\n",
       "      <td>61413</td>\n",
       "    </tr>\n",
       "    <tr>\n",
       "      <th>traces</th>\n",
       "      <td>136102</td>\n",
       "      <td>15444</td>\n",
       "      <td>en:nuts</td>\n",
       "      <td>12459</td>\n",
       "    </tr>\n",
       "    <tr>\n",
       "      <th>traces_tags</th>\n",
       "      <td>174753</td>\n",
       "      <td>15582</td>\n",
       "      <td>en:nuts</td>\n",
       "      <td>17045</td>\n",
       "    </tr>\n",
       "    <tr>\n",
       "      <th>traces_en</th>\n",
       "      <td>172617</td>\n",
       "      <td>15581</td>\n",
       "      <td>Nuts</td>\n",
       "      <td>17045</td>\n",
       "    </tr>\n",
       "    <tr>\n",
       "      <th>serving_size</th>\n",
       "      <td>654110</td>\n",
       "      <td>53869</td>\n",
       "      <td>100.0g</td>\n",
       "      <td>26878</td>\n",
       "    </tr>\n",
       "    <tr>\n",
       "      <th>no_nutrition_data</th>\n",
       "      <td>48058</td>\n",
       "      <td>5</td>\n",
       "      <td>on</td>\n",
       "      <td>26744</td>\n",
       "    </tr>\n",
       "    <tr>\n",
       "      <th>additives_n</th>\n",
       "      <td>923804.0</td>\n",
       "      <td>58.0</td>\n",
       "      <td>0.0</td>\n",
       "      <td>401426.0</td>\n",
       "    </tr>\n",
       "    <tr>\n",
       "      <th>additives_tags</th>\n",
       "      <td>521460</td>\n",
       "      <td>124554</td>\n",
       "      <td>en:e330</td>\n",
       "      <td>30335</td>\n",
       "    </tr>\n",
       "    <tr>\n",
       "      <th>additives_en</th>\n",
       "      <td>521461</td>\n",
       "      <td>124555</td>\n",
       "      <td>E330 - Citric acid</td>\n",
       "      <td>30335</td>\n",
       "    </tr>\n",
       "    <tr>\n",
       "      <th>nutriscore_score</th>\n",
       "      <td>1058136.0</td>\n",
       "      <td>99.0</td>\n",
       "      <td>0.0</td>\n",
       "      <td>60967.0</td>\n",
       "    </tr>\n",
       "    <tr>\n",
       "      <th>nutriscore_grade</th>\n",
       "      <td>2166519</td>\n",
       "      <td>8</td>\n",
       "      <td>unknown</td>\n",
       "      <td>1059552</td>\n",
       "    </tr>\n",
       "    <tr>\n",
       "      <th>pnns_groups_1</th>\n",
       "      <td>3082148</td>\n",
       "      <td>13</td>\n",
       "      <td>unknown</td>\n",
       "      <td>1971319</td>\n",
       "    </tr>\n",
       "    <tr>\n",
       "      <th>pnns_groups_2</th>\n",
       "      <td>3082149</td>\n",
       "      <td>42</td>\n",
       "      <td>unknown</td>\n",
       "      <td>1971319</td>\n",
       "    </tr>\n",
       "    <tr>\n",
       "      <th>food_groups</th>\n",
       "      <td>1120395</td>\n",
       "      <td>47</td>\n",
       "      <td>en:sweets</td>\n",
       "      <td>107140</td>\n",
       "    </tr>\n",
       "    <tr>\n",
       "      <th>food_groups_tags</th>\n",
       "      <td>1120395</td>\n",
       "      <td>47</td>\n",
       "      <td>en:sugary-snacks,en:sweets</td>\n",
       "      <td>107140</td>\n",
       "    </tr>\n",
       "    <tr>\n",
       "      <th>food_groups_en</th>\n",
       "      <td>1120394</td>\n",
       "      <td>46</td>\n",
       "      <td>Sugary snacks,Sweets</td>\n",
       "      <td>107140</td>\n",
       "    </tr>\n",
       "    <tr>\n",
       "      <th>states</th>\n",
       "      <td>3083836</td>\n",
       "      <td>6751</td>\n",
       "      <td>en:to-be-completed, en:nutrition-facts-complet...</td>\n",
       "      <td>431026</td>\n",
       "    </tr>\n",
       "    <tr>\n",
       "      <th>states_tags</th>\n",
       "      <td>3083836</td>\n",
       "      <td>6751</td>\n",
       "      <td>en:to-be-completed,en:nutrition-facts-complete...</td>\n",
       "      <td>431026</td>\n",
       "    </tr>\n",
       "    <tr>\n",
       "      <th>states_en</th>\n",
       "      <td>3083836</td>\n",
       "      <td>6751</td>\n",
       "      <td>To be completed,Nutrition facts completed,Ingr...</td>\n",
       "      <td>431026</td>\n",
       "    </tr>\n",
       "    <tr>\n",
       "      <th>brand_owner</th>\n",
       "      <td>294204</td>\n",
       "      <td>25635</td>\n",
       "      <td>Wal-Mart Stores, Inc.</td>\n",
       "      <td>5388</td>\n",
       "    </tr>\n",
       "    <tr>\n",
       "      <th>ecoscore_grade</th>\n",
       "      <td>3065977</td>\n",
       "      <td>7</td>\n",
       "      <td>unknown</td>\n",
       "      <td>2259486</td>\n",
       "    </tr>\n",
       "    <tr>\n",
       "      <th>nutrient_levels_tags</th>\n",
       "      <td>1155698</td>\n",
       "      <td>255</td>\n",
       "      <td>en:fat-in-low-quantity,en:saturated-fat-in-low...</td>\n",
       "      <td>96920</td>\n",
       "    </tr>\n",
       "    <tr>\n",
       "      <th>owner</th>\n",
       "      <td>87657</td>\n",
       "      <td>264</td>\n",
       "      <td>org-carrefour</td>\n",
       "      <td>19110</td>\n",
       "    </tr>\n",
       "    <tr>\n",
       "      <th>data_quality_errors_tags</th>\n",
       "      <td>143978</td>\n",
       "      <td>1106</td>\n",
       "      <td>en:energy-value-in-kcal-does-not-match-value-c...</td>\n",
       "      <td>107272</td>\n",
       "    </tr>\n",
       "    <tr>\n",
       "      <th>popularity_tags</th>\n",
       "      <td>1070005</td>\n",
       "      <td>325742</td>\n",
       "      <td>top-75-percent-scans-2023,top-80-percent-scans...</td>\n",
       "      <td>22410</td>\n",
       "    </tr>\n",
       "    <tr>\n",
       "      <th>last_image_datetime</th>\n",
       "      <td>2626259</td>\n",
       "      <td>2605110</td>\n",
       "      <td>2019-06-26T17:44:59Z</td>\n",
       "      <td>7</td>\n",
       "    </tr>\n",
       "    <tr>\n",
       "      <th>main_category</th>\n",
       "      <td>1380496</td>\n",
       "      <td>51149</td>\n",
       "      <td>en:groceries</td>\n",
       "      <td>70083</td>\n",
       "    </tr>\n",
       "    <tr>\n",
       "      <th>main_category_en</th>\n",
       "      <td>1380495</td>\n",
       "      <td>51108</td>\n",
       "      <td>Groceries</td>\n",
       "      <td>70083</td>\n",
       "    </tr>\n",
       "    <tr>\n",
       "      <th>image_url</th>\n",
       "      <td>2500571</td>\n",
       "      <td>2498224</td>\n",
       "      <td>https://images.openfoodfacts.org/images/produc...</td>\n",
       "      <td>49</td>\n",
       "    </tr>\n",
       "    <tr>\n",
       "      <th>image_small_url</th>\n",
       "      <td>2500571</td>\n",
       "      <td>2498224</td>\n",
       "      <td>https://images.openfoodfacts.org/images/produc...</td>\n",
       "      <td>49</td>\n",
       "    </tr>\n",
       "    <tr>\n",
       "      <th>image_ingredients_url</th>\n",
       "      <td>898640</td>\n",
       "      <td>896915</td>\n",
       "      <td>https://images.openfoodfacts.org/images/produc...</td>\n",
       "      <td>9</td>\n",
       "    </tr>\n",
       "    <tr>\n",
       "      <th>image_ingredients_small_url</th>\n",
       "      <td>898640</td>\n",
       "      <td>896915</td>\n",
       "      <td>https://images.openfoodfacts.org/images/produc...</td>\n",
       "      <td>9</td>\n",
       "    </tr>\n",
       "    <tr>\n",
       "      <th>image_nutrition_url</th>\n",
       "      <td>1755786</td>\n",
       "      <td>1754232</td>\n",
       "      <td>https://images.openfoodfacts.org/images/produc...</td>\n",
       "      <td>7</td>\n",
       "    </tr>\n",
       "    <tr>\n",
       "      <th>image_nutrition_small_url</th>\n",
       "      <td>1755786</td>\n",
       "      <td>1754232</td>\n",
       "      <td>https://images.openfoodfacts.org/images/produc...</td>\n",
       "      <td>7</td>\n",
       "    </tr>\n",
       "    <tr>\n",
       "      <th>alcohol_100g</th>\n",
       "      <td>29135.0</td>\n",
       "      <td>294.0</td>\n",
       "      <td>0.0</td>\n",
       "      <td>19352.0</td>\n",
       "    </tr>\n",
       "  </tbody>\n",
       "</table>\n",
       "</div>"
      ],
      "text/plain": [
       "                                 count   unique  \\\n",
       "code                           3083837  3079548   \n",
       "url                            3083837  3081436   \n",
       "creator                        3083833    25212   \n",
       "created_datetime               3083837  2820739   \n",
       "last_modified_datetime         3083837  2450691   \n",
       "last_modified_by               2978387    29728   \n",
       "last_updated_datetime          3059704   730573   \n",
       "product_name                   2936441  1831720   \n",
       "abbreviated_product_name         24110    21630   \n",
       "generic_name                    153168   111352   \n",
       "quantity                        981331    53580   \n",
       "packaging                       379998    62134   \n",
       "packaging_tags                  379991    48897   \n",
       "packaging_en                    379982    48643   \n",
       "packaging_text                   23688    12283   \n",
       "brands                         1646875   268405   \n",
       "brands_tags                    1646732   205053   \n",
       "categories                     1380503   202037   \n",
       "categories_tags                1380496   125870   \n",
       "categories_en                  1380496   125833   \n",
       "origins                         127323    18954   \n",
       "origins_tags                    127200    14962   \n",
       "origins_en                      127191    14920   \n",
       "manufacturing_places            189792    35581   \n",
       "manufacturing_places_tags       189731    31605   \n",
       "labels                          884464   131346   \n",
       "labels_tags                     884461    97829   \n",
       "labels_en                       884435    97795   \n",
       "emb_codes                       166800    44067   \n",
       "emb_codes_tags                  166755    37747   \n",
       "first_packaging_code_geo         85768     4137   \n",
       "cities                               1        1   \n",
       "cities_tags                      92450     7972   \n",
       "purchase_places                 196767    13663   \n",
       "stores                          439955    22681   \n",
       "countries                      3058494    16319   \n",
       "countries_tags                 3058490     6324   \n",
       "countries_en                   3058489     6323   \n",
       "ingredients_text                923797   789734   \n",
       "ingredients_tags                922519   700390   \n",
       "ingredients_analysis_tags       981564       44   \n",
       "allergens                       264520     9186   \n",
       "traces                          136102    15444   \n",
       "traces_tags                     174753    15582   \n",
       "traces_en                       172617    15581   \n",
       "serving_size                    654110    53869   \n",
       "no_nutrition_data                48058        5   \n",
       "additives_n                   923804.0     58.0   \n",
       "additives_tags                  521460   124554   \n",
       "additives_en                    521461   124555   \n",
       "nutriscore_score             1058136.0     99.0   \n",
       "nutriscore_grade               2166519        8   \n",
       "pnns_groups_1                  3082148       13   \n",
       "pnns_groups_2                  3082149       42   \n",
       "food_groups                    1120395       47   \n",
       "food_groups_tags               1120395       47   \n",
       "food_groups_en                 1120394       46   \n",
       "states                         3083836     6751   \n",
       "states_tags                    3083836     6751   \n",
       "states_en                      3083836     6751   \n",
       "brand_owner                     294204    25635   \n",
       "ecoscore_grade                 3065977        7   \n",
       "nutrient_levels_tags           1155698      255   \n",
       "owner                            87657      264   \n",
       "data_quality_errors_tags        143978     1106   \n",
       "popularity_tags                1070005   325742   \n",
       "last_image_datetime            2626259  2605110   \n",
       "main_category                  1380496    51149   \n",
       "main_category_en               1380495    51108   \n",
       "image_url                      2500571  2498224   \n",
       "image_small_url                2500571  2498224   \n",
       "image_ingredients_url           898640   896915   \n",
       "image_ingredients_small_url     898640   896915   \n",
       "image_nutrition_url            1755786  1754232   \n",
       "image_nutrition_small_url      1755786  1754232   \n",
       "alcohol_100g                   29135.0    294.0   \n",
       "\n",
       "                                                                           top  \\\n",
       "code                                                               79200370213   \n",
       "url                          http://world-en.openfoodfacts.org/product/3596...   \n",
       "creator                                                                kiliweb   \n",
       "created_datetime                                          2020-04-23T17:22:07Z   \n",
       "last_modified_datetime                                    2021-08-28T10:19:44Z   \n",
       "last_modified_by                                                       kiliweb   \n",
       "last_updated_datetime                                     2023-10-26T19:18:00Z   \n",
       "product_name                                                              Miel   \n",
       "abbreviated_product_name                   Auchan jambon superieur dd sans cou   \n",
       "generic_name                          Pâtes alimentaires de qualité supérieure   \n",
       "quantity                                                                  1pcs   \n",
       "packaging                                                            Plastique   \n",
       "packaging_tags                                                      en:plastic   \n",
       "packaging_en                                                           Plastic   \n",
       "packaging_text                                      1 sachet plastique à jeter   \n",
       "brands                                                               Carrefour   \n",
       "brands_tags                                                          carrefour   \n",
       "categories                                                              Snacks   \n",
       "categories_tags                                                      en:snacks   \n",
       "categories_en                                                           Snacks   \n",
       "origins                                                                 France   \n",
       "origins_tags                                                         en:france   \n",
       "origins_en                                                              France   \n",
       "manufacturing_places                                                    France   \n",
       "manufacturing_places_tags                                               france   \n",
       "labels                                                            en:no-gluten   \n",
       "labels_tags                                                       en:no-gluten   \n",
       "labels_en                                                            No gluten   \n",
       "emb_codes                                                          FSC-C014047   \n",
       "emb_codes_tags                                                     fsc-c014047   \n",
       "first_packaging_code_geo                                   47.833333,-0.333333   \n",
       "cities                       en:to-be-completed, en:nutrition-facts-complet...   \n",
       "cities_tags                                     sable-sur-sarthe-sarthe-france   \n",
       "purchase_places                                                         France   \n",
       "stores                                                               Carrefour   \n",
       "countries                                                               France   \n",
       "countries_tags                                                       en:france   \n",
       "countries_en                                                            France   \n",
       "ingredients_text                                                        Poulet   \n",
       "ingredients_tags                                       en:honey,en:added-sugar   \n",
       "ingredients_analysis_tags    en:palm-oil-content-unknown,en:vegan-status-un...   \n",
       "allergens                                                              en:milk   \n",
       "traces                                                                 en:nuts   \n",
       "traces_tags                                                            en:nuts   \n",
       "traces_en                                                                 Nuts   \n",
       "serving_size                                                            100.0g   \n",
       "no_nutrition_data                                                           on   \n",
       "additives_n                                                                0.0   \n",
       "additives_tags                                                         en:e330   \n",
       "additives_en                                                E330 - Citric acid   \n",
       "nutriscore_score                                                           0.0   \n",
       "nutriscore_grade                                                       unknown   \n",
       "pnns_groups_1                                                          unknown   \n",
       "pnns_groups_2                                                          unknown   \n",
       "food_groups                                                          en:sweets   \n",
       "food_groups_tags                                    en:sugary-snacks,en:sweets   \n",
       "food_groups_en                                            Sugary snacks,Sweets   \n",
       "states                       en:to-be-completed, en:nutrition-facts-complet...   \n",
       "states_tags                  en:to-be-completed,en:nutrition-facts-complete...   \n",
       "states_en                    To be completed,Nutrition facts completed,Ingr...   \n",
       "brand_owner                                              Wal-Mart Stores, Inc.   \n",
       "ecoscore_grade                                                         unknown   \n",
       "nutrient_levels_tags         en:fat-in-low-quantity,en:saturated-fat-in-low...   \n",
       "owner                                                            org-carrefour   \n",
       "data_quality_errors_tags     en:energy-value-in-kcal-does-not-match-value-c...   \n",
       "popularity_tags              top-75-percent-scans-2023,top-80-percent-scans...   \n",
       "last_image_datetime                                       2019-06-26T17:44:59Z   \n",
       "main_category                                                     en:groceries   \n",
       "main_category_en                                                     Groceries   \n",
       "image_url                    https://images.openfoodfacts.org/images/produc...   \n",
       "image_small_url              https://images.openfoodfacts.org/images/produc...   \n",
       "image_ingredients_url        https://images.openfoodfacts.org/images/produc...   \n",
       "image_ingredients_small_url  https://images.openfoodfacts.org/images/produc...   \n",
       "image_nutrition_url          https://images.openfoodfacts.org/images/produc...   \n",
       "image_nutrition_small_url    https://images.openfoodfacts.org/images/produc...   \n",
       "alcohol_100g                                                               0.0   \n",
       "\n",
       "                                 freq  \n",
       "code                                3  \n",
       "url                                 2  \n",
       "creator                       1856096  \n",
       "created_datetime                   28  \n",
       "last_modified_datetime            127  \n",
       "last_modified_by               593404  \n",
       "last_updated_datetime              91  \n",
       "product_name                     1720  \n",
       "abbreviated_product_name           23  \n",
       "generic_name                      423  \n",
       "quantity                        38217  \n",
       "packaging                       11436  \n",
       "packaging_tags                  45517  \n",
       "packaging_en                    45518  \n",
       "packaging_text                    734  \n",
       "brands                          21466  \n",
       "brands_tags                     22575  \n",
       "categories                      33645  \n",
       "categories_tags                 34750  \n",
       "categories_en                   34750  \n",
       "origins                         28082  \n",
       "origins_tags                    29060  \n",
       "origins_en                      29066  \n",
       "manufacturing_places            27206  \n",
       "manufacturing_places_tags       28380  \n",
       "labels                          29118  \n",
       "labels_tags                     77700  \n",
       "labels_en                       77700  \n",
       "emb_codes                        2770  \n",
       "emb_codes_tags                   2849  \n",
       "first_packaging_code_geo         1498  \n",
       "cities                              1  \n",
       "cities_tags                      1208  \n",
       "purchase_places                 45756  \n",
       "stores                          24169  \n",
       "countries                      463635  \n",
       "countries_tags                 936466  \n",
       "countries_en                   936466  \n",
       "ingredients_text                  501  \n",
       "ingredients_tags                 1798  \n",
       "ingredients_analysis_tags      166884  \n",
       "allergens                       61413  \n",
       "traces                          12459  \n",
       "traces_tags                     17045  \n",
       "traces_en                       17045  \n",
       "serving_size                    26878  \n",
       "no_nutrition_data               26744  \n",
       "additives_n                  401426.0  \n",
       "additives_tags                  30335  \n",
       "additives_en                    30335  \n",
       "nutriscore_score              60967.0  \n",
       "nutriscore_grade              1059552  \n",
       "pnns_groups_1                 1971319  \n",
       "pnns_groups_2                 1971319  \n",
       "food_groups                    107140  \n",
       "food_groups_tags               107140  \n",
       "food_groups_en                 107140  \n",
       "states                         431026  \n",
       "states_tags                    431026  \n",
       "states_en                      431026  \n",
       "brand_owner                      5388  \n",
       "ecoscore_grade                2259486  \n",
       "nutrient_levels_tags            96920  \n",
       "owner                           19110  \n",
       "data_quality_errors_tags       107272  \n",
       "popularity_tags                 22410  \n",
       "last_image_datetime                 7  \n",
       "main_category                   70083  \n",
       "main_category_en                70083  \n",
       "image_url                          49  \n",
       "image_small_url                    49  \n",
       "image_ingredients_url               9  \n",
       "image_ingredients_small_url         9  \n",
       "image_nutrition_url                 7  \n",
       "image_nutrition_small_url           7  \n",
       "alcohol_100g                  19352.0  "
      ]
     },
     "execution_count": 28,
     "metadata": {},
     "output_type": "execute_result"
    }
   ],
   "source": [
    "# Increase the default number of rows displayed by pandas before truncation\n",
    "pd.set_option('display.max_rows', 100)\n",
    "\n",
    "# Get summary for object variables only\n",
    "df.describe(include='object').T"
   ]
  },
  {
   "cell_type": "markdown",
   "metadata": {},
   "source": [
    "The dataset comprises over 3 million entries with 206 columns of various data types, including float64, int64, and object. It consumes approximately 4.7+ GB of memory. Many columns exhibit a wide range of unique values, suggesting diversity in the data. Some columns have sparse data, while others show frequent values, indicating common trends. Product attributes, temporal information, nutritional values, and quality control indicators are among the key aspects covered in the dataset."
   ]
  },
  {
   "cell_type": "code",
   "execution_count": 29,
   "metadata": {},
   "outputs": [
    {
     "name": "stdout",
     "output_type": "stream",
     "text": [
      "Dataset shape: (3083832, 203)\n"
     ]
    }
   ],
   "source": [
    "# Define variables subset in which we don't want missing data\n",
    "subset = [\n",
    "    'code',\n",
    "    'creator',\n",
    "    'created_datetime',\n",
    "    'last_modified_datetime',\n",
    "    'states_tags'\n",
    "]\n",
    "\n",
    "# Drop observations with missing data in this subset\n",
    "df.dropna(subset=subset, inplace=True)\n",
    "\n",
    "# Drop the new variables with missing data that appear after the previous drop\n",
    "df.dropna(how='all', axis=1, inplace=True)\n",
    "\n",
    "print('Dataset shape: {}'.format(df.shape))"
   ]
  },
  {
   "cell_type": "markdown",
   "metadata": {},
   "source": [
    "Note: 5 observations and 1 variable have been dropped."
   ]
  },
  {
   "cell_type": "code",
   "execution_count": 25,
   "metadata": {},
   "outputs": [],
   "source": [
    "# Convert 'code' column to string data type\n",
    "df['code'] = df['code'].astype(str)"
   ]
  },
  {
   "cell_type": "code",
   "execution_count": 30,
   "metadata": {},
   "outputs": [],
   "source": [
    "# Set the code as the index\n",
    "df.set_index('code', inplace=True)"
   ]
  },
  {
   "cell_type": "markdown",
   "metadata": {},
   "source": [
    "Temporal variables 'created_datetime' and 'last_modified_datetime' variables converted to datetime64 type."
   ]
  },
  {
   "cell_type": "code",
   "execution_count": 31,
   "metadata": {},
   "outputs": [
    {
     "data": {
      "text/plain": [
       "code\n",
       "00000000000000225        2021-06-16 14:53:28+00:00\n",
       "0000000000000207025004   2022-07-04 15:30:10+00:00\n",
       "00000000000003429145     2021-09-01 08:11:51+00:00\n",
       "00000000000026772226     2022-06-03 09:58:31+00:00\n",
       "0000000000017            2018-06-15 10:38:00+00:00\n",
       "Name: created_datetime, dtype: datetime64[ns, UTC]"
      ]
     },
     "execution_count": 31,
     "metadata": {},
     "output_type": "execute_result"
    }
   ],
   "source": [
    "# Convert the created_datetime & last_modified_datetime object variables to datetime variables\n",
    "df.created_datetime = pd.to_datetime(df.created_datetime)\n",
    "df.last_modified_datetime = pd.to_datetime(df.last_modified_datetime)\n",
    "\n",
    "df.created_datetime.head()"
   ]
  },
  {
   "cell_type": "code",
   "execution_count": 33,
   "metadata": {},
   "outputs": [
    {
     "data": {
      "text/html": [
       "<div>\n",
       "<style scoped>\n",
       "    .dataframe tbody tr th:only-of-type {\n",
       "        vertical-align: middle;\n",
       "    }\n",
       "\n",
       "    .dataframe tbody tr th {\n",
       "        vertical-align: top;\n",
       "    }\n",
       "\n",
       "    .dataframe thead th {\n",
       "        text-align: right;\n",
       "    }\n",
       "</style>\n",
       "<table border=\"1\" class=\"dataframe\">\n",
       "  <thead>\n",
       "    <tr style=\"text-align: right;\">\n",
       "      <th></th>\n",
       "      <th>count</th>\n",
       "      <th>mean</th>\n",
       "      <th>std</th>\n",
       "      <th>min</th>\n",
       "      <th>25%</th>\n",
       "      <th>50%</th>\n",
       "      <th>75%</th>\n",
       "      <th>max</th>\n",
       "    </tr>\n",
       "  </thead>\n",
       "  <tbody>\n",
       "    <tr>\n",
       "      <th>created_t</th>\n",
       "      <td>3083832.0</td>\n",
       "      <td>1.597946e+09</td>\n",
       "      <td>6.740188e+07</td>\n",
       "      <td>1.328021e+09</td>\n",
       "      <td>1.552071e+09</td>\n",
       "      <td>1.608139e+09</td>\n",
       "      <td>1.652639e+09</td>\n",
       "      <td>1.707716e+09</td>\n",
       "    </tr>\n",
       "    <tr>\n",
       "      <th>last_modified_t</th>\n",
       "      <td>3083832.0</td>\n",
       "      <td>1.649525e+09</td>\n",
       "      <td>4.579484e+07</td>\n",
       "      <td>1.353582e+09</td>\n",
       "      <td>1.618911e+09</td>\n",
       "      <td>1.663786e+09</td>\n",
       "      <td>1.686048e+09</td>\n",
       "      <td>1.707716e+09</td>\n",
       "    </tr>\n",
       "    <tr>\n",
       "      <th>last_updated_t</th>\n",
       "      <td>3059699.0</td>\n",
       "      <td>1.696608e+09</td>\n",
       "      <td>2.699132e+07</td>\n",
       "      <td>1.537023e+09</td>\n",
       "      <td>1.705629e+09</td>\n",
       "      <td>1.705646e+09</td>\n",
       "      <td>1.707574e+09</td>\n",
       "      <td>1.707716e+09</td>\n",
       "    </tr>\n",
       "    <tr>\n",
       "      <th>serving_quantity</th>\n",
       "      <td>640081.0</td>\n",
       "      <td>1.909691e+28</td>\n",
       "      <td>1.527849e+31</td>\n",
       "      <td>0.000000e+00</td>\n",
       "      <td>2.800000e+01</td>\n",
       "      <td>5.700000e+01</td>\n",
       "      <td>1.210000e+02</td>\n",
       "      <td>1.222357e+34</td>\n",
       "    </tr>\n",
       "    <tr>\n",
       "      <th>nova_group</th>\n",
       "      <td>848274.0</td>\n",
       "      <td>3.333581e+00</td>\n",
       "      <td>1.017417e+00</td>\n",
       "      <td>1.000000e+00</td>\n",
       "      <td>3.000000e+00</td>\n",
       "      <td>4.000000e+00</td>\n",
       "      <td>4.000000e+00</td>\n",
       "      <td>4.000000e+00</td>\n",
       "    </tr>\n",
       "    <tr>\n",
       "      <th>...</th>\n",
       "      <td>...</td>\n",
       "      <td>...</td>\n",
       "      <td>...</td>\n",
       "      <td>...</td>\n",
       "      <td>...</td>\n",
       "      <td>...</td>\n",
       "      <td>...</td>\n",
       "      <td>...</td>\n",
       "    </tr>\n",
       "    <tr>\n",
       "      <th>inositol_100g</th>\n",
       "      <td>92.0</td>\n",
       "      <td>1.782242e+00</td>\n",
       "      <td>1.102415e+01</td>\n",
       "      <td>7.000000e-04</td>\n",
       "      <td>4.675000e-03</td>\n",
       "      <td>2.400000e-02</td>\n",
       "      <td>5.100000e-02</td>\n",
       "      <td>7.500000e+01</td>\n",
       "    </tr>\n",
       "    <tr>\n",
       "      <th>carnitine_100g</th>\n",
       "      <td>50.0</td>\n",
       "      <td>4.282720e-02</td>\n",
       "      <td>1.594917e-01</td>\n",
       "      <td>8.000000e-04</td>\n",
       "      <td>7.000000e-03</td>\n",
       "      <td>1.100000e-02</td>\n",
       "      <td>1.500000e-02</td>\n",
       "      <td>1.000000e+00</td>\n",
       "    </tr>\n",
       "    <tr>\n",
       "      <th>sulphate_100g</th>\n",
       "      <td>80.0</td>\n",
       "      <td>4.377118e-02</td>\n",
       "      <td>1.515694e-01</td>\n",
       "      <td>3.000000e-06</td>\n",
       "      <td>9.725000e-04</td>\n",
       "      <td>3.250000e-03</td>\n",
       "      <td>9.625000e-03</td>\n",
       "      <td>1.121000e+00</td>\n",
       "    </tr>\n",
       "    <tr>\n",
       "      <th>nitrate_100g</th>\n",
       "      <td>102.0</td>\n",
       "      <td>4.306064e-02</td>\n",
       "      <td>2.639514e-01</td>\n",
       "      <td>0.000000e+00</td>\n",
       "      <td>5.500000e-05</td>\n",
       "      <td>3.400000e-04</td>\n",
       "      <td>1.475000e-03</td>\n",
       "      <td>2.000000e+00</td>\n",
       "    </tr>\n",
       "    <tr>\n",
       "      <th>acidity_100g</th>\n",
       "      <td>7.0</td>\n",
       "      <td>4.912857e+00</td>\n",
       "      <td>2.352266e+00</td>\n",
       "      <td>3.900000e-01</td>\n",
       "      <td>4.500000e+00</td>\n",
       "      <td>5.000000e+00</td>\n",
       "      <td>6.000000e+00</td>\n",
       "      <td>8.000000e+00</td>\n",
       "    </tr>\n",
       "  </tbody>\n",
       "</table>\n",
       "<p>128 rows × 8 columns</p>\n",
       "</div>"
      ],
      "text/plain": [
       "                      count          mean           std           min  \\\n",
       "created_t         3083832.0  1.597946e+09  6.740188e+07  1.328021e+09   \n",
       "last_modified_t   3083832.0  1.649525e+09  4.579484e+07  1.353582e+09   \n",
       "last_updated_t    3059699.0  1.696608e+09  2.699132e+07  1.537023e+09   \n",
       "serving_quantity   640081.0  1.909691e+28  1.527849e+31  0.000000e+00   \n",
       "nova_group         848274.0  3.333581e+00  1.017417e+00  1.000000e+00   \n",
       "...                     ...           ...           ...           ...   \n",
       "inositol_100g          92.0  1.782242e+00  1.102415e+01  7.000000e-04   \n",
       "carnitine_100g         50.0  4.282720e-02  1.594917e-01  8.000000e-04   \n",
       "sulphate_100g          80.0  4.377118e-02  1.515694e-01  3.000000e-06   \n",
       "nitrate_100g          102.0  4.306064e-02  2.639514e-01  0.000000e+00   \n",
       "acidity_100g            7.0  4.912857e+00  2.352266e+00  3.900000e-01   \n",
       "\n",
       "                           25%           50%           75%           max  \n",
       "created_t         1.552071e+09  1.608139e+09  1.652639e+09  1.707716e+09  \n",
       "last_modified_t   1.618911e+09  1.663786e+09  1.686048e+09  1.707716e+09  \n",
       "last_updated_t    1.705629e+09  1.705646e+09  1.707574e+09  1.707716e+09  \n",
       "serving_quantity  2.800000e+01  5.700000e+01  1.210000e+02  1.222357e+34  \n",
       "nova_group        3.000000e+00  4.000000e+00  4.000000e+00  4.000000e+00  \n",
       "...                        ...           ...           ...           ...  \n",
       "inositol_100g     4.675000e-03  2.400000e-02  5.100000e-02  7.500000e+01  \n",
       "carnitine_100g    7.000000e-03  1.100000e-02  1.500000e-02  1.000000e+00  \n",
       "sulphate_100g     9.725000e-04  3.250000e-03  9.625000e-03  1.121000e+00  \n",
       "nitrate_100g      5.500000e-05  3.400000e-04  1.475000e-03  2.000000e+00  \n",
       "acidity_100g      4.500000e+00  5.000000e+00  6.000000e+00  8.000000e+00  \n",
       "\n",
       "[128 rows x 8 columns]"
      ]
     },
     "execution_count": 33,
     "metadata": {},
     "output_type": "execute_result"
    }
   ],
   "source": [
    "# Increase the default number of rows displayed by pandas before truncation\n",
    "pd.set_option('display.max_rows', 100)\n",
    "\n",
    "# Get summary for numerical variables only\n",
    "df.describe(include='number').T"
   ]
  },
  {
   "cell_type": "markdown",
   "metadata": {},
   "source": [
    "We'll drop observations with inconsistent values. Inconsistent data are erroneous entries."
   ]
  },
  {
   "cell_type": "code",
   "execution_count": 36,
   "metadata": {},
   "outputs": [],
   "source": [
    "# Convert 'fat_100g' and 'cocoa_100g' columns to numeric\n",
    "df['fat_100g'] = pd.to_numeric(df['fat_100g'], errors='coerce')\n",
    "df['cocoa_100g'] = pd.to_numeric(df['cocoa_100g'], errors='coerce')\n",
    "\n",
    "# Drop rows where conversion to numeric failed\n",
    "df = df.dropna(subset=['fat_100g', 'cocoa_100g'])"
   ]
  },
  {
   "cell_type": "code",
   "execution_count": 44,
   "metadata": {},
   "outputs": [
    {
     "name": "stderr",
     "output_type": "stream",
     "text": [
      "C:\\Users\\HP\\AppData\\Local\\Temp\\ipykernel_5308\\1315793406.py:3: SettingWithCopyWarning: \n",
      "A value is trying to be set on a copy of a slice from a DataFrame\n",
      "\n",
      "See the caveats in the documentation: https://pandas.pydata.org/pandas-docs/stable/user_guide/indexing.html#returning-a-view-versus-a-copy\n",
      "  df.drop(df[obs_with_negative_facts].index, inplace=True)\n"
     ]
    }
   ],
   "source": [
    "# Drop observations with negative values in numeric columns\n",
    "obs_with_negative_facts = (df.loc[:, 'fat_100g':'cocoa_100g'] < 0).any(axis=1)\n",
    "df.drop(df[obs_with_negative_facts].index, inplace=True)"
   ]
  },
  {
   "cell_type": "code",
   "execution_count": 40,
   "metadata": {},
   "outputs": [],
   "source": [
    "# Drop rows where conversion to numeric failed\n",
    "obs_with_negative_facts = (df.loc[:, 'fat_100g':'cocoa_100g'] < 0).any(axis=1)\n",
    "df_copy = df.loc[~obs_with_negative_facts].copy()"
   ]
  },
  {
   "cell_type": "code",
   "execution_count": 41,
   "metadata": {},
   "outputs": [],
   "source": [
    "# Drop observations with facts that have value greater than 100g\n",
    "obs_with_facts_gt_100 = (df_copy.loc[:, 'fat_100g':'cocoa_100g'] > 100).any(axis=1)\n",
    "df_copy.drop(df_copy[obs_with_facts_gt_100].index, inplace=True)"
   ]
  },
  {
   "cell_type": "code",
   "execution_count": 42,
   "metadata": {},
   "outputs": [
    {
     "name": "stdout",
     "output_type": "stream",
     "text": [
      "Facts min value: 0.0\n",
      "Facts max value: 100.0\n",
      "Dataset shape: (7668, 202)\n"
     ]
    }
   ],
   "source": [
    "print('Facts min value: {}'.format(df_copy.describe(include='number').T.loc['fat_100g':'cocoa_100g', 'min'].min()))\n",
    "print('Facts max value: {}'.format(df_copy.describe(include='number').T.loc['fat_100g':'cocoa_100g', 'max'].max()))\n",
    "print('Dataset shape: {}'.format(df_copy.shape))"
   ]
  },
  {
   "cell_type": "markdown",
   "metadata": {},
   "source": [
    "## 7. Visualize Data\n",
    "Utilize various visualization techniques such as histograms, box plots, scatter plots, etc., to explore the distribution, relationships, and patterns within the data."
   ]
  },
  {
   "cell_type": "code",
   "execution_count": 45,
   "metadata": {},
   "outputs": [
    {
     "data": {
      "image/png": "[encoded data removed]",
      "text/plain": [
       "<Figure size 1200x600 with 1 Axes>"
      ]
     },
     "metadata": {},
     "output_type": "display_data"
    }
   ],
   "source": [
    "# Distribution of missing values per variable, stacked by type of variable\n",
    "nan_counts_object_vars = df.select_dtypes('object').isnull().sum() / df.shape[0] * 100\n",
    "nan_counts_number_vars = df.select_dtypes('number').isnull().sum() / df.shape[0] * 100\n",
    "\n",
    "pd.DataFrame({'object': nan_counts_object_vars, 'number': nan_counts_number_vars}) \\\n",
    "  .plot.hist(stacked=True, bins=20, figsize=(12, 6), color=['#B13E38', '#398524'])\n",
    "\n",
    "plt.xlabel('Percentage of NaN values')\n",
    "plt.ylabel('# Variable')\n",
    "plt.title('Distribution of NaN value per variable, stacked by type of variable')\n",
    "plt.show()"
   ]
  },
  {
   "cell_type": "code",
   "execution_count": 46,
   "metadata": {},
   "outputs": [
    {
     "data": {
      "text/html": [
       "<div>\n",
       "<style scoped>\n",
       "    .dataframe tbody tr th:only-of-type {\n",
       "        vertical-align: middle;\n",
       "    }\n",
       "\n",
       "    .dataframe tbody tr th {\n",
       "        vertical-align: top;\n",
       "    }\n",
       "\n",
       "    .dataframe thead th {\n",
       "        text-align: right;\n",
       "    }\n",
       "</style>\n",
       "<table border=\"1\" class=\"dataframe\">\n",
       "  <thead>\n",
       "    <tr style=\"text-align: right;\">\n",
       "      <th></th>\n",
       "      <th>counts</th>\n",
       "      <th>counts %</th>\n",
       "      <th>nan counts</th>\n",
       "      <th>nan counts %</th>\n",
       "    </tr>\n",
       "  </thead>\n",
       "  <tbody>\n",
       "    <tr>\n",
       "      <th>created_t</th>\n",
       "      <td>7668</td>\n",
       "      <td>100.000000</td>\n",
       "      <td>0</td>\n",
       "      <td>0.000000</td>\n",
       "    </tr>\n",
       "    <tr>\n",
       "      <th>last_modified_t</th>\n",
       "      <td>7668</td>\n",
       "      <td>100.000000</td>\n",
       "      <td>0</td>\n",
       "      <td>0.000000</td>\n",
       "    </tr>\n",
       "    <tr>\n",
       "      <th>last_updated_t</th>\n",
       "      <td>7541</td>\n",
       "      <td>98.343766</td>\n",
       "      <td>127</td>\n",
       "      <td>1.656234</td>\n",
       "    </tr>\n",
       "    <tr>\n",
       "      <th>serving_quantity</th>\n",
       "      <td>1712</td>\n",
       "      <td>22.326552</td>\n",
       "      <td>5956</td>\n",
       "      <td>77.673448</td>\n",
       "    </tr>\n",
       "    <tr>\n",
       "      <th>nova_group</th>\n",
       "      <td>5671</td>\n",
       "      <td>73.956703</td>\n",
       "      <td>1997</td>\n",
       "      <td>26.043297</td>\n",
       "    </tr>\n",
       "    <tr>\n",
       "      <th>ecoscore_score</th>\n",
       "      <td>7044</td>\n",
       "      <td>91.862285</td>\n",
       "      <td>624</td>\n",
       "      <td>8.137715</td>\n",
       "    </tr>\n",
       "    <tr>\n",
       "      <th>product_quantity</th>\n",
       "      <td>5455</td>\n",
       "      <td>71.139802</td>\n",
       "      <td>2213</td>\n",
       "      <td>28.860198</td>\n",
       "    </tr>\n",
       "    <tr>\n",
       "      <th>unique_scans_n</th>\n",
       "      <td>5512</td>\n",
       "      <td>71.883151</td>\n",
       "      <td>2156</td>\n",
       "      <td>28.116849</td>\n",
       "    </tr>\n",
       "    <tr>\n",
       "      <th>completeness</th>\n",
       "      <td>7668</td>\n",
       "      <td>100.000000</td>\n",
       "      <td>0</td>\n",
       "      <td>0.000000</td>\n",
       "    </tr>\n",
       "    <tr>\n",
       "      <th>last_image_t</th>\n",
       "      <td>7665</td>\n",
       "      <td>99.960876</td>\n",
       "      <td>3</td>\n",
       "      <td>0.039124</td>\n",
       "    </tr>\n",
       "    <tr>\n",
       "      <th>energy-kj_100g</th>\n",
       "      <td>2503</td>\n",
       "      <td>32.642149</td>\n",
       "      <td>5165</td>\n",
       "      <td>67.357851</td>\n",
       "    </tr>\n",
       "    <tr>\n",
       "      <th>energy-kcal_100g</th>\n",
       "      <td>7063</td>\n",
       "      <td>92.110068</td>\n",
       "      <td>605</td>\n",
       "      <td>7.889932</td>\n",
       "    </tr>\n",
       "    <tr>\n",
       "      <th>energy_100g</th>\n",
       "      <td>7667</td>\n",
       "      <td>99.986959</td>\n",
       "      <td>1</td>\n",
       "      <td>0.013041</td>\n",
       "    </tr>\n",
       "    <tr>\n",
       "      <th>fat_100g</th>\n",
       "      <td>7668</td>\n",
       "      <td>100.000000</td>\n",
       "      <td>0</td>\n",
       "      <td>0.000000</td>\n",
       "    </tr>\n",
       "    <tr>\n",
       "      <th>saturated-fat_100g</th>\n",
       "      <td>7631</td>\n",
       "      <td>99.517475</td>\n",
       "      <td>37</td>\n",
       "      <td>0.482525</td>\n",
       "    </tr>\n",
       "    <tr>\n",
       "      <th>carbohydrates_100g</th>\n",
       "      <td>7668</td>\n",
       "      <td>100.000000</td>\n",
       "      <td>0</td>\n",
       "      <td>0.000000</td>\n",
       "    </tr>\n",
       "    <tr>\n",
       "      <th>sugars_100g</th>\n",
       "      <td>7628</td>\n",
       "      <td>99.478352</td>\n",
       "      <td>40</td>\n",
       "      <td>0.521648</td>\n",
       "    </tr>\n",
       "    <tr>\n",
       "      <th>fiber_100g</th>\n",
       "      <td>3735</td>\n",
       "      <td>48.708920</td>\n",
       "      <td>3933</td>\n",
       "      <td>51.291080</td>\n",
       "    </tr>\n",
       "    <tr>\n",
       "      <th>proteins_100g</th>\n",
       "      <td>7667</td>\n",
       "      <td>99.986959</td>\n",
       "      <td>1</td>\n",
       "      <td>0.013041</td>\n",
       "    </tr>\n",
       "    <tr>\n",
       "      <th>salt_100g</th>\n",
       "      <td>7589</td>\n",
       "      <td>98.969744</td>\n",
       "      <td>79</td>\n",
       "      <td>1.030256</td>\n",
       "    </tr>\n",
       "    <tr>\n",
       "      <th>sodium_100g</th>\n",
       "      <td>7589</td>\n",
       "      <td>98.969744</td>\n",
       "      <td>79</td>\n",
       "      <td>1.030256</td>\n",
       "    </tr>\n",
       "    <tr>\n",
       "      <th>fruits-vegetables-nuts-estimate-from-ingredients_100g</th>\n",
       "      <td>5841</td>\n",
       "      <td>76.173709</td>\n",
       "      <td>1827</td>\n",
       "      <td>23.826291</td>\n",
       "    </tr>\n",
       "    <tr>\n",
       "      <th>cocoa_100g</th>\n",
       "      <td>7668</td>\n",
       "      <td>100.000000</td>\n",
       "      <td>0</td>\n",
       "      <td>0.000000</td>\n",
       "    </tr>\n",
       "    <tr>\n",
       "      <th>nutrition-score-fr_100g</th>\n",
       "      <td>7345</td>\n",
       "      <td>95.787689</td>\n",
       "      <td>323</td>\n",
       "      <td>4.212311</td>\n",
       "    </tr>\n",
       "  </tbody>\n",
       "</table>\n",
       "</div>"
      ],
      "text/plain": [
       "                                                    counts    counts %  \\\n",
       "created_t                                             7668  100.000000   \n",
       "last_modified_t                                       7668  100.000000   \n",
       "last_updated_t                                        7541   98.343766   \n",
       "serving_quantity                                      1712   22.326552   \n",
       "nova_group                                            5671   73.956703   \n",
       "ecoscore_score                                        7044   91.862285   \n",
       "product_quantity                                      5455   71.139802   \n",
       "unique_scans_n                                        5512   71.883151   \n",
       "completeness                                          7668  100.000000   \n",
       "last_image_t                                          7665   99.960876   \n",
       "energy-kj_100g                                        2503   32.642149   \n",
       "energy-kcal_100g                                      7063   92.110068   \n",
       "energy_100g                                           7667   99.986959   \n",
       "fat_100g                                              7668  100.000000   \n",
       "saturated-fat_100g                                    7631   99.517475   \n",
       "carbohydrates_100g                                    7668  100.000000   \n",
       "sugars_100g                                           7628   99.478352   \n",
       "fiber_100g                                            3735   48.708920   \n",
       "proteins_100g                                         7667   99.986959   \n",
       "salt_100g                                             7589   98.969744   \n",
       "sodium_100g                                           7589   98.969744   \n",
       "fruits-vegetables-nuts-estimate-from-ingredient...    5841   76.173709   \n",
       "cocoa_100g                                            7668  100.000000   \n",
       "nutrition-score-fr_100g                               7345   95.787689   \n",
       "\n",
       "                                                    nan counts  nan counts %  \n",
       "created_t                                                    0      0.000000  \n",
       "last_modified_t                                              0      0.000000  \n",
       "last_updated_t                                             127      1.656234  \n",
       "serving_quantity                                          5956     77.673448  \n",
       "nova_group                                                1997     26.043297  \n",
       "ecoscore_score                                             624      8.137715  \n",
       "product_quantity                                          2213     28.860198  \n",
       "unique_scans_n                                            2156     28.116849  \n",
       "completeness                                                 0      0.000000  \n",
       "last_image_t                                                 3      0.039124  \n",
       "energy-kj_100g                                            5165     67.357851  \n",
       "energy-kcal_100g                                           605      7.889932  \n",
       "energy_100g                                                  1      0.013041  \n",
       "fat_100g                                                     0      0.000000  \n",
       "saturated-fat_100g                                          37      0.482525  \n",
       "carbohydrates_100g                                           0      0.000000  \n",
       "sugars_100g                                                 40      0.521648  \n",
       "fiber_100g                                                3933     51.291080  \n",
       "proteins_100g                                                1      0.013041  \n",
       "salt_100g                                                   79      1.030256  \n",
       "sodium_100g                                                 79      1.030256  \n",
       "fruits-vegetables-nuts-estimate-from-ingredient...        1827     23.826291  \n",
       "cocoa_100g                                                   0      0.000000  \n",
       "nutrition-score-fr_100g                                    323      4.212311  "
      ]
     },
     "execution_count": 46,
     "metadata": {},
     "output_type": "execute_result"
    }
   ],
   "source": [
    "# Here is an utility function to facilitate the exploration : \n",
    "# Get variables for which the percentage of missing values is in the low%, high% range\n",
    "def get_variables_with_nan_in_range(data, low, high, dtypes):\n",
    "    if high >= 100:\n",
    "        high = 100.1\n",
    "        \n",
    "    nan_counts = data.select_dtypes(dtypes).isnull().sum()    \n",
    "    nan_counts_percent = nan_counts / data.shape[0] * 100\n",
    "    \n",
    "    filter = (nan_counts_percent >= low) & (nan_counts_percent < high)\n",
    "    nan_counts = nan_counts[filter]\n",
    "    nan_counts_percent = nan_counts_percent[filter]\n",
    "    counts = data.shape[0] - nan_counts\n",
    "    counts_percent = 100 - nan_counts_percent\n",
    "    \n",
    "    return pd.DataFrame({\n",
    "        'counts': counts, \n",
    "        'counts %': counts_percent, \n",
    "        'nan counts': nan_counts, \n",
    "        'nan counts %': nan_counts_percent})\n",
    "\n",
    "# Food facts with NaN\n",
    "get_variables_with_nan_in_range(df, 0, 95, 'number')"
   ]
  },
  {
   "cell_type": "markdown",
   "metadata": {},
   "source": [
    "The summary provides information about the completeness of data in various columns of the dataset. It includes the count and percentage of non-null values, as well as the count and percentage of null values for each column.\n",
    "\n",
    "Columns with a high percentage of NaN values (greater than 50%) include:\n",
    "\n",
    "- serving_quantity\n",
    "- nova_group\n",
    "- ecoscore_score\n",
    "- product_quantity\n",
    "- unique_scans_n\n",
    "- energy-kj_100g\n",
    "- fiber_100g\n",
    "- fruits-vegetables-nuts-estimate-from-ingredients_100g"
   ]
  },
  {
   "cell_type": "code",
   "execution_count": 47,
   "metadata": {},
   "outputs": [
    {
     "data": {
      "image/png": "[encoded data removed]",
      "text/plain": [
       "<Figure size 1200x600 with 1 Axes>"
      ]
     },
     "metadata": {},
     "output_type": "display_data"
    }
   ],
   "source": [
    "# Distribution of missing values per observation\n",
    "nan_counts_obs = df.isnull().sum(axis=1) / df.shape[1] * 100\n",
    "nan_counts_obs.hist(bins=20, figsize=(12, 6), color=['#4352a2'])\n",
    "\n",
    "plt.xlim((0, 100))\n",
    "plt.ylim((0, 120000))\n",
    "plt.xlabel('Percentage of NaN values')\n",
    "plt.ylabel('# Observations')\n",
    "plt.title('Distribution of NaN value per observation')\n",
    "plt.show()"
   ]
  },
  {
   "cell_type": "code",
   "execution_count": 48,
   "metadata": {},
   "outputs": [],
   "source": [
    "# Utility function: \n",
    "# Get the top occurencies \n",
    "def get_top_occurencies(df, cols, n=10):\n",
    "    count = df.groupby(cols).size().sort_values(ascending=False)\n",
    "    count_percent = round(count / df.shape[0] * 100, 2)\n",
    "    return pd.DataFrame({'count': count, 'count %': count_percent}).head(n)\n",
    "\n",
    "# Utility function: \n",
    "# Get the top occurencies containing a regexp/string\n",
    "def get_top_occurencies_containing(df, col, value, n=10):\n",
    "    occurences = get_top_occurencies(df, col, df.shape[0])\n",
    "    return occurences[occurences.index.str.contains(r'{}'.format(value))].head(n)"
   ]
  },
  {
   "cell_type": "code",
   "execution_count": 49,
   "metadata": {},
   "outputs": [
    {
     "data": {
      "text/html": [
       "<div>\n",
       "<style scoped>\n",
       "    .dataframe tbody tr th:only-of-type {\n",
       "        vertical-align: middle;\n",
       "    }\n",
       "\n",
       "    .dataframe tbody tr th {\n",
       "        vertical-align: top;\n",
       "    }\n",
       "\n",
       "    .dataframe thead th {\n",
       "        text-align: right;\n",
       "    }\n",
       "</style>\n",
       "<table border=\"1\" class=\"dataframe\">\n",
       "  <thead>\n",
       "    <tr style=\"text-align: right;\">\n",
       "      <th></th>\n",
       "      <th>count</th>\n",
       "      <th>count %</th>\n",
       "    </tr>\n",
       "    <tr>\n",
       "      <th>creator</th>\n",
       "      <th></th>\n",
       "      <th></th>\n",
       "    </tr>\n",
       "  </thead>\n",
       "  <tbody>\n",
       "    <tr>\n",
       "      <th>kiliweb</th>\n",
       "      <td>4543</td>\n",
       "      <td>59.25</td>\n",
       "    </tr>\n",
       "    <tr>\n",
       "      <th>openfoodfacts-contributors</th>\n",
       "      <td>988</td>\n",
       "      <td>12.88</td>\n",
       "    </tr>\n",
       "    <tr>\n",
       "      <th>elcoco</th>\n",
       "      <td>140</td>\n",
       "      <td>1.83</td>\n",
       "    </tr>\n",
       "    <tr>\n",
       "      <th>javichu</th>\n",
       "      <td>135</td>\n",
       "      <td>1.76</td>\n",
       "    </tr>\n",
       "    <tr>\n",
       "      <th>tacite</th>\n",
       "      <td>135</td>\n",
       "      <td>1.76</td>\n",
       "    </tr>\n",
       "    <tr>\n",
       "      <th>sebleouf</th>\n",
       "      <td>133</td>\n",
       "      <td>1.73</td>\n",
       "    </tr>\n",
       "    <tr>\n",
       "      <th>moon-rabbit</th>\n",
       "      <td>102</td>\n",
       "      <td>1.33</td>\n",
       "    </tr>\n",
       "    <tr>\n",
       "      <th>openfood-ch-import</th>\n",
       "      <td>84</td>\n",
       "      <td>1.10</td>\n",
       "    </tr>\n",
       "    <tr>\n",
       "      <th>twoflower</th>\n",
       "      <td>79</td>\n",
       "      <td>1.03</td>\n",
       "    </tr>\n",
       "    <tr>\n",
       "      <th>miles67off</th>\n",
       "      <td>57</td>\n",
       "      <td>0.74</td>\n",
       "    </tr>\n",
       "  </tbody>\n",
       "</table>\n",
       "</div>"
      ],
      "text/plain": [
       "                            count  count %\n",
       "creator                                   \n",
       "kiliweb                      4543    59.25\n",
       "openfoodfacts-contributors    988    12.88\n",
       "elcoco                        140     1.83\n",
       "javichu                       135     1.76\n",
       "tacite                        135     1.76\n",
       "sebleouf                      133     1.73\n",
       "moon-rabbit                   102     1.33\n",
       "openfood-ch-import             84     1.10\n",
       "twoflower                      79     1.03\n",
       "miles67off                     57     0.74"
      ]
     },
     "execution_count": 49,
     "metadata": {},
     "output_type": "execute_result"
    }
   ],
   "source": [
    "# Get the top contributors\n",
    "get_top_occurencies(df, 'creator', n=10)"
   ]
  },
  {
   "cell_type": "code",
   "execution_count": 50,
   "metadata": {},
   "outputs": [
    {
     "data": {
      "text/html": [
       "<div>\n",
       "<style scoped>\n",
       "    .dataframe tbody tr th:only-of-type {\n",
       "        vertical-align: middle;\n",
       "    }\n",
       "\n",
       "    .dataframe tbody tr th {\n",
       "        vertical-align: top;\n",
       "    }\n",
       "\n",
       "    .dataframe thead th {\n",
       "        text-align: right;\n",
       "    }\n",
       "</style>\n",
       "<table border=\"1\" class=\"dataframe\">\n",
       "  <thead>\n",
       "    <tr style=\"text-align: right;\">\n",
       "      <th></th>\n",
       "      <th>count</th>\n",
       "      <th>count %</th>\n",
       "    </tr>\n",
       "    <tr>\n",
       "      <th>creator</th>\n",
       "      <th></th>\n",
       "      <th></th>\n",
       "    </tr>\n",
       "  </thead>\n",
       "  <tbody>\n",
       "    <tr>\n",
       "      <th>openfoodfacts-contributors</th>\n",
       "      <td>988</td>\n",
       "      <td>12.88</td>\n",
       "    </tr>\n",
       "    <tr>\n",
       "      <th>moon-rabbit</th>\n",
       "      <td>102</td>\n",
       "      <td>1.33</td>\n",
       "    </tr>\n",
       "    <tr>\n",
       "      <th>openfood-ch-import</th>\n",
       "      <td>84</td>\n",
       "      <td>1.10</td>\n",
       "    </tr>\n",
       "    <tr>\n",
       "      <th>date-limite-app</th>\n",
       "      <td>32</td>\n",
       "      <td>0.42</td>\n",
       "    </tr>\n",
       "    <tr>\n",
       "      <th>smoothie-app</th>\n",
       "      <td>27</td>\n",
       "      <td>0.35</td>\n",
       "    </tr>\n",
       "    <tr>\n",
       "      <th>waistline-app</th>\n",
       "      <td>15</td>\n",
       "      <td>0.20</td>\n",
       "    </tr>\n",
       "    <tr>\n",
       "      <th>usda-ndb-import</th>\n",
       "      <td>12</td>\n",
       "      <td>0.16</td>\n",
       "    </tr>\n",
       "    <tr>\n",
       "      <th>halal-app-chakib</th>\n",
       "      <td>9</td>\n",
       "      <td>0.12</td>\n",
       "    </tr>\n",
       "    <tr>\n",
       "      <th>sophie-turbigo</th>\n",
       "      <td>7</td>\n",
       "      <td>0.09</td>\n",
       "    </tr>\n",
       "    <tr>\n",
       "      <th>mmu-man</th>\n",
       "      <td>7</td>\n",
       "      <td>0.09</td>\n",
       "    </tr>\n",
       "    <tr>\n",
       "      <th>julie-yuka</th>\n",
       "      <td>4</td>\n",
       "      <td>0.05</td>\n",
       "    </tr>\n",
       "    <tr>\n",
       "      <th>org-app-foodbowel</th>\n",
       "      <td>4</td>\n",
       "      <td>0.05</td>\n",
       "    </tr>\n",
       "    <tr>\n",
       "      <th>lopij-0</th>\n",
       "      <td>3</td>\n",
       "      <td>0.04</td>\n",
       "    </tr>\n",
       "    <tr>\n",
       "      <th>swipe-studio</th>\n",
       "      <td>3</td>\n",
       "      <td>0.04</td>\n",
       "    </tr>\n",
       "    <tr>\n",
       "      <th>4ef6dbaf-504d</th>\n",
       "      <td>2</td>\n",
       "      <td>0.03</td>\n",
       "    </tr>\n",
       "    <tr>\n",
       "      <th>lbe-dev</th>\n",
       "      <td>2</td>\n",
       "      <td>0.03</td>\n",
       "    </tr>\n",
       "    <tr>\n",
       "      <th>org-database-usda</th>\n",
       "      <td>2</td>\n",
       "      <td>0.03</td>\n",
       "    </tr>\n",
       "    <tr>\n",
       "      <th>crochet-david</th>\n",
       "      <td>2</td>\n",
       "      <td>0.03</td>\n",
       "    </tr>\n",
       "    <tr>\n",
       "      <th>org-auchan-apaw</th>\n",
       "      <td>1</td>\n",
       "      <td>0.01</td>\n",
       "    </tr>\n",
       "    <tr>\n",
       "      <th>org-ferrero-france-commerciale</th>\n",
       "      <td>1</td>\n",
       "      <td>0.01</td>\n",
       "    </tr>\n",
       "  </tbody>\n",
       "</table>\n",
       "</div>"
      ],
      "text/plain": [
       "                                count  count %\n",
       "creator                                       \n",
       "openfoodfacts-contributors        988    12.88\n",
       "moon-rabbit                       102     1.33\n",
       "openfood-ch-import                 84     1.10\n",
       "date-limite-app                    32     0.42\n",
       "smoothie-app                       27     0.35\n",
       "waistline-app                      15     0.20\n",
       "usda-ndb-import                    12     0.16\n",
       "halal-app-chakib                    9     0.12\n",
       "sophie-turbigo                      7     0.09\n",
       "mmu-man                             7     0.09\n",
       "julie-yuka                          4     0.05\n",
       "org-app-foodbowel                   4     0.05\n",
       "lopij-0                             3     0.04\n",
       "swipe-studio                        3     0.04\n",
       "4ef6dbaf-504d                       2     0.03\n",
       "lbe-dev                             2     0.03\n",
       "org-database-usda                   2     0.03\n",
       "crochet-david                       2     0.03\n",
       "org-auchan-apaw                     1     0.01\n",
       "org-ferrero-france-commerciale      1     0.01"
      ]
     },
     "execution_count": 50,
     "metadata": {},
     "output_type": "execute_result"
    }
   ],
   "source": [
    "# Check if there are other data from external databases\n",
    "get_top_occurencies_containing(df, 'creator', value='import|load|dump|database|db|\\-', n=20)"
   ]
  },
  {
   "cell_type": "code",
   "execution_count": 52,
   "metadata": {},
   "outputs": [
    {
     "name": "stdout",
     "output_type": "stream",
     "text": [
      "source\n",
      "openfoodfacts    7572\n",
      "foodrepo           84\n",
      "usda               12\n",
      "Name: count, dtype: int64\n"
     ]
    },
    {
     "name": "stderr",
     "output_type": "stream",
     "text": [
      "C:\\Users\\HP\\AppData\\Local\\Temp\\ipykernel_5308\\3027788824.py:11: FutureWarning: A value is trying to be set on a copy of a DataFrame or Series through chained assignment using an inplace method.\n",
      "The behavior will change in pandas 3.0. This inplace method will never work because the intermediate object on which we are setting values always behaves as a copy.\n",
      "\n",
      "For example, when doing 'df[col].method(value, inplace=True)', try using 'df.method({col: value}, inplace=True)' or df[col] = df[col].method(value) instead, to perform the operation inplace on the original object.\n",
      "\n",
      "\n",
      "  df['source'].fillna(value='openfoodfacts', inplace=True)\n",
      "C:\\Users\\HP\\AppData\\Local\\Temp\\ipykernel_5308\\3027788824.py:11: SettingWithCopyWarning: \n",
      "A value is trying to be set on a copy of a slice from a DataFrame\n",
      "\n",
      "See the caveats in the documentation: https://pandas.pydata.org/pandas-docs/stable/user_guide/indexing.html#returning-a-view-versus-a-copy\n",
      "  df['source'].fillna(value='openfoodfacts', inplace=True)\n"
     ]
    }
   ],
   "source": [
    "# Define the mapping\n",
    "mapping = {\n",
    "    'usda-ndb-import': 'usda',\n",
    "    'openfood-ch-import': 'foodrepo'\n",
    "}\n",
    "\n",
    "# Create the 'source' column based on the mapping\n",
    "df.loc[:, 'source'] = df['creator'].map(mapping)\n",
    "\n",
    "# Fill missing values in 'source' column with 'openfoodfacts'\n",
    "df['source'].fillna(value='openfoodfacts', inplace=True)\n",
    "\n",
    "# Define a function to get top occurrences\n",
    "def get_top_occurrences(dataframe, column):\n",
    "    return dataframe[column].value_counts()\n",
    "\n",
    "# Call the function to get top occurrences of 'source'\n",
    "top_source_occurrences = get_top_occurrences(df, 'source')\n",
    "\n",
    "print(top_source_occurrences)"
   ]
  },
  {
   "cell_type": "code",
   "execution_count": 53,
   "metadata": {},
   "outputs": [
    {
     "data": {
      "text/html": [
       "<div>\n",
       "<style scoped>\n",
       "    .dataframe tbody tr th:only-of-type {\n",
       "        vertical-align: middle;\n",
       "    }\n",
       "\n",
       "    .dataframe tbody tr th {\n",
       "        vertical-align: top;\n",
       "    }\n",
       "\n",
       "    .dataframe thead th {\n",
       "        text-align: right;\n",
       "    }\n",
       "</style>\n",
       "<table border=\"1\" class=\"dataframe\">\n",
       "  <thead>\n",
       "    <tr style=\"text-align: right;\">\n",
       "      <th></th>\n",
       "      <th></th>\n",
       "      <th>count</th>\n",
       "      <th>count %</th>\n",
       "    </tr>\n",
       "    <tr>\n",
       "      <th>source</th>\n",
       "      <th>countries</th>\n",
       "      <th></th>\n",
       "      <th></th>\n",
       "    </tr>\n",
       "  </thead>\n",
       "  <tbody>\n",
       "    <tr>\n",
       "      <th rowspan=\"10\" valign=\"top\">openfoodfacts</th>\n",
       "      <th>France</th>\n",
       "      <td>3792</td>\n",
       "      <td>49.45</td>\n",
       "    </tr>\n",
       "    <tr>\n",
       "      <th>Spain</th>\n",
       "      <td>420</td>\n",
       "      <td>5.48</td>\n",
       "    </tr>\n",
       "    <tr>\n",
       "      <th>Italy</th>\n",
       "      <td>373</td>\n",
       "      <td>4.86</td>\n",
       "    </tr>\n",
       "    <tr>\n",
       "      <th>Germany</th>\n",
       "      <td>280</td>\n",
       "      <td>3.65</td>\n",
       "    </tr>\n",
       "    <tr>\n",
       "      <th>España</th>\n",
       "      <td>267</td>\n",
       "      <td>3.48</td>\n",
       "    </tr>\n",
       "    <tr>\n",
       "      <th>Deutschland</th>\n",
       "      <td>179</td>\n",
       "      <td>2.33</td>\n",
       "    </tr>\n",
       "    <tr>\n",
       "      <th>Belgium</th>\n",
       "      <td>151</td>\n",
       "      <td>1.97</td>\n",
       "    </tr>\n",
       "    <tr>\n",
       "      <th>United Kingdom</th>\n",
       "      <td>114</td>\n",
       "      <td>1.49</td>\n",
       "    </tr>\n",
       "    <tr>\n",
       "      <th>Switzerland</th>\n",
       "      <td>74</td>\n",
       "      <td>0.97</td>\n",
       "    </tr>\n",
       "    <tr>\n",
       "      <th>France,Germany</th>\n",
       "      <td>57</td>\n",
       "      <td>0.74</td>\n",
       "    </tr>\n",
       "  </tbody>\n",
       "</table>\n",
       "</div>"
      ],
      "text/plain": [
       "                              count  count %\n",
       "source        countries                     \n",
       "openfoodfacts France           3792    49.45\n",
       "              Spain             420     5.48\n",
       "              Italy             373     4.86\n",
       "              Germany           280     3.65\n",
       "              España            267     3.48\n",
       "              Deutschland       179     2.33\n",
       "              Belgium           151     1.97\n",
       "              United Kingdom    114     1.49\n",
       "              Switzerland        74     0.97\n",
       "              France,Germany     57     0.74"
      ]
     },
     "execution_count": 53,
     "metadata": {},
     "output_type": "execute_result"
    }
   ],
   "source": [
    "# More common countries grouped by source\n",
    "get_top_occurencies(df, ['source', 'countries'], n=10)"
   ]
  },
  {
   "cell_type": "code",
   "execution_count": 54,
   "metadata": {},
   "outputs": [
    {
     "data": {
      "text/html": [
       "<div>\n",
       "<style scoped>\n",
       "    .dataframe tbody tr th:only-of-type {\n",
       "        vertical-align: middle;\n",
       "    }\n",
       "\n",
       "    .dataframe tbody tr th {\n",
       "        vertical-align: top;\n",
       "    }\n",
       "\n",
       "    .dataframe thead th {\n",
       "        text-align: right;\n",
       "    }\n",
       "</style>\n",
       "<table border=\"1\" class=\"dataframe\">\n",
       "  <thead>\n",
       "    <tr style=\"text-align: right;\">\n",
       "      <th></th>\n",
       "      <th>count</th>\n",
       "      <th>count %</th>\n",
       "    </tr>\n",
       "    <tr>\n",
       "      <th>states_tags</th>\n",
       "      <th></th>\n",
       "      <th></th>\n",
       "    </tr>\n",
       "  </thead>\n",
       "  <tbody>\n",
       "    <tr>\n",
       "      <th>en:to-be-completed,en:nutrition-facts-completed,en:ingredients-completed,en:expiration-date-completed,en:packaging-code-to-be-completed,en:characteristics-to-be-completed,en:origins-to-be-completed,en:categories-completed,en:brands-completed,en:packaging-completed,en:quantity-completed,en:product-name-completed,en:photos-to-be-validated,en:packaging-photo-to-be-selected,en:nutrition-photo-selected,en:ingredients-photo-selected,en:front-photo-selected,en:photos-uploaded</th>\n",
       "      <td>1125</td>\n",
       "      <td>14.67</td>\n",
       "    </tr>\n",
       "    <tr>\n",
       "      <th>en:to-be-completed,en:nutrition-facts-completed,en:ingredients-completed,en:expiration-date-to-be-completed,en:packaging-code-to-be-completed,en:characteristics-to-be-completed,en:origins-to-be-completed,en:categories-completed,en:brands-completed,en:packaging-to-be-completed,en:quantity-completed,en:product-name-completed,en:photos-to-be-validated,en:packaging-photo-to-be-selected,en:nutrition-photo-selected,en:ingredients-photo-selected,en:front-photo-selected,en:photos-uploaded</th>\n",
       "      <td>688</td>\n",
       "      <td>8.97</td>\n",
       "    </tr>\n",
       "    <tr>\n",
       "      <th>en:to-be-completed,en:nutrition-facts-completed,en:ingredients-to-be-completed,en:expiration-date-to-be-completed,en:packaging-code-to-be-completed,en:characteristics-to-be-completed,en:origins-to-be-completed,en:categories-completed,en:brands-completed,en:packaging-to-be-completed,en:quantity-to-be-completed,en:product-name-completed,en:photos-to-be-validated,en:packaging-photo-to-be-selected,en:nutrition-photo-selected,en:ingredients-photo-to-be-selected,en:front-photo-selected,en:photos-uploaded</th>\n",
       "      <td>654</td>\n",
       "      <td>8.53</td>\n",
       "    </tr>\n",
       "    <tr>\n",
       "      <th>en:to-be-completed,en:nutrition-facts-completed,en:ingredients-completed,en:expiration-date-to-be-completed,en:packaging-code-to-be-completed,en:characteristics-to-be-completed,en:origins-to-be-completed,en:categories-completed,en:brands-completed,en:packaging-completed,en:quantity-completed,en:product-name-completed,en:photos-to-be-validated,en:packaging-photo-to-be-selected,en:nutrition-photo-selected,en:ingredients-photo-selected,en:front-photo-selected,en:photos-uploaded</th>\n",
       "      <td>515</td>\n",
       "      <td>6.72</td>\n",
       "    </tr>\n",
       "    <tr>\n",
       "      <th>en:to-be-completed,en:nutrition-facts-completed,en:ingredients-completed,en:expiration-date-to-be-completed,en:packaging-code-to-be-completed,en:characteristics-to-be-completed,en:origins-to-be-completed,en:categories-completed,en:brands-completed,en:packaging-to-be-completed,en:quantity-to-be-completed,en:product-name-completed,en:photos-to-be-validated,en:packaging-photo-to-be-selected,en:nutrition-photo-selected,en:ingredients-photo-selected,en:front-photo-selected,en:photos-uploaded</th>\n",
       "      <td>419</td>\n",
       "      <td>5.46</td>\n",
       "    </tr>\n",
       "  </tbody>\n",
       "</table>\n",
       "</div>"
      ],
      "text/plain": [
       "                                                    count  count %\n",
       "states_tags                                                       \n",
       "en:to-be-completed,en:nutrition-facts-completed...   1125    14.67\n",
       "en:to-be-completed,en:nutrition-facts-completed...    688     8.97\n",
       "en:to-be-completed,en:nutrition-facts-completed...    654     8.53\n",
       "en:to-be-completed,en:nutrition-facts-completed...    515     6.72\n",
       "en:to-be-completed,en:nutrition-facts-completed...    419     5.46"
      ]
     },
     "execution_count": 54,
     "metadata": {},
     "output_type": "execute_result"
    }
   ],
   "source": [
    "# Get some examples of states_tags values\n",
    "get_top_occurencies(df, 'states_tags', 5)"
   ]
  },
  {
   "cell_type": "code",
   "execution_count": 55,
   "metadata": {},
   "outputs": [
    {
     "data": {
      "text/html": [
       "<div>\n",
       "<style scoped>\n",
       "    .dataframe tbody tr th:only-of-type {\n",
       "        vertical-align: middle;\n",
       "    }\n",
       "\n",
       "    .dataframe tbody tr th {\n",
       "        vertical-align: top;\n",
       "    }\n",
       "\n",
       "    .dataframe thead th {\n",
       "        text-align: right;\n",
       "    }\n",
       "</style>\n",
       "<table border=\"1\" class=\"dataframe\">\n",
       "  <thead>\n",
       "    <tr style=\"text-align: right;\">\n",
       "      <th></th>\n",
       "      <th></th>\n",
       "      <th>states</th>\n",
       "    </tr>\n",
       "    <tr>\n",
       "      <th>code</th>\n",
       "      <th>match</th>\n",
       "      <th></th>\n",
       "    </tr>\n",
       "  </thead>\n",
       "  <tbody>\n",
       "    <tr>\n",
       "      <th rowspan=\"5\" valign=\"top\">0000101209159</th>\n",
       "      <th>0</th>\n",
       "      <td>to-be-completed</td>\n",
       "    </tr>\n",
       "    <tr>\n",
       "      <th>1</th>\n",
       "      <td>nutrition-facts-completed</td>\n",
       "    </tr>\n",
       "    <tr>\n",
       "      <th>2</th>\n",
       "      <td>ingredients-to-be-completed</td>\n",
       "    </tr>\n",
       "    <tr>\n",
       "      <th>3</th>\n",
       "      <td>expiration-date-completed</td>\n",
       "    </tr>\n",
       "    <tr>\n",
       "      <th>4</th>\n",
       "      <td>packaging-code-to-be-completed</td>\n",
       "    </tr>\n",
       "  </tbody>\n",
       "</table>\n",
       "</div>"
      ],
      "text/plain": [
       "                                             states\n",
       "code          match                                \n",
       "0000101209159 0                     to-be-completed\n",
       "              1           nutrition-facts-completed\n",
       "              2         ingredients-to-be-completed\n",
       "              3           expiration-date-completed\n",
       "              4      packaging-code-to-be-completed"
      ]
     },
     "execution_count": 55,
     "metadata": {},
     "output_type": "execute_result"
    }
   ],
   "source": [
    "# 1. Extract all the states (return a multi-indexed Series with extracted states as value, <code + match> | state)\n",
    "# During extraction, we give the name: states to the extracted group\n",
    "df_states = df.states.str.extractall(r\"en:(?P<states>[^,]+)\")\n",
    "df_states.head()"
   ]
  },
  {
   "cell_type": "code",
   "execution_count": 56,
   "metadata": {},
   "outputs": [
    {
     "data": {
      "text/html": [
       "<div>\n",
       "<style scoped>\n",
       "    .dataframe tbody tr th:only-of-type {\n",
       "        vertical-align: middle;\n",
       "    }\n",
       "\n",
       "    .dataframe tbody tr th {\n",
       "        vertical-align: top;\n",
       "    }\n",
       "\n",
       "    .dataframe thead th {\n",
       "        text-align: right;\n",
       "    }\n",
       "</style>\n",
       "<table border=\"1\" class=\"dataframe\">\n",
       "  <thead>\n",
       "    <tr style=\"text-align: right;\">\n",
       "      <th>states</th>\n",
       "      <th>brands-completed</th>\n",
       "      <th>brands-to-be-completed</th>\n",
       "      <th>categories-completed</th>\n",
       "      <th>categories-to-be-completed</th>\n",
       "      <th>characteristics-completed</th>\n",
       "      <th>characteristics-to-be-completed</th>\n",
       "      <th>checked</th>\n",
       "      <th>complete</th>\n",
       "      <th>expiration-date-completed</th>\n",
       "      <th>expiration-date-to-be-completed</th>\n",
       "      <th>...</th>\n",
       "      <th>photos-to-be-uploaded</th>\n",
       "      <th>photos-to-be-validated</th>\n",
       "      <th>photos-uploaded</th>\n",
       "      <th>photos-validated</th>\n",
       "      <th>product-name-completed</th>\n",
       "      <th>product-name-to-be-completed</th>\n",
       "      <th>quantity-completed</th>\n",
       "      <th>quantity-to-be-completed</th>\n",
       "      <th>to-be-checked</th>\n",
       "      <th>to-be-completed</th>\n",
       "    </tr>\n",
       "    <tr>\n",
       "      <th>code</th>\n",
       "      <th></th>\n",
       "      <th></th>\n",
       "      <th></th>\n",
       "      <th></th>\n",
       "      <th></th>\n",
       "      <th></th>\n",
       "      <th></th>\n",
       "      <th></th>\n",
       "      <th></th>\n",
       "      <th></th>\n",
       "      <th></th>\n",
       "      <th></th>\n",
       "      <th></th>\n",
       "      <th></th>\n",
       "      <th></th>\n",
       "      <th></th>\n",
       "      <th></th>\n",
       "      <th></th>\n",
       "      <th></th>\n",
       "      <th></th>\n",
       "      <th></th>\n",
       "    </tr>\n",
       "  </thead>\n",
       "  <tbody>\n",
       "    <tr>\n",
       "      <th>0000101209159</th>\n",
       "      <td>1.0</td>\n",
       "      <td>0.0</td>\n",
       "      <td>1.0</td>\n",
       "      <td>0.0</td>\n",
       "      <td>0.0</td>\n",
       "      <td>1.0</td>\n",
       "      <td>0.0</td>\n",
       "      <td>0.0</td>\n",
       "      <td>1.0</td>\n",
       "      <td>0.0</td>\n",
       "      <td>...</td>\n",
       "      <td>0.0</td>\n",
       "      <td>1.0</td>\n",
       "      <td>1.0</td>\n",
       "      <td>0.0</td>\n",
       "      <td>1.0</td>\n",
       "      <td>0.0</td>\n",
       "      <td>1.0</td>\n",
       "      <td>0.0</td>\n",
       "      <td>0.0</td>\n",
       "      <td>1.0</td>\n",
       "    </tr>\n",
       "    <tr>\n",
       "      <th>00071185</th>\n",
       "      <td>1.0</td>\n",
       "      <td>0.0</td>\n",
       "      <td>1.0</td>\n",
       "      <td>0.0</td>\n",
       "      <td>0.0</td>\n",
       "      <td>1.0</td>\n",
       "      <td>0.0</td>\n",
       "      <td>0.0</td>\n",
       "      <td>1.0</td>\n",
       "      <td>0.0</td>\n",
       "      <td>...</td>\n",
       "      <td>0.0</td>\n",
       "      <td>1.0</td>\n",
       "      <td>1.0</td>\n",
       "      <td>0.0</td>\n",
       "      <td>1.0</td>\n",
       "      <td>0.0</td>\n",
       "      <td>1.0</td>\n",
       "      <td>0.0</td>\n",
       "      <td>0.0</td>\n",
       "      <td>1.0</td>\n",
       "    </tr>\n",
       "    <tr>\n",
       "      <th>0009542005979</th>\n",
       "      <td>1.0</td>\n",
       "      <td>0.0</td>\n",
       "      <td>1.0</td>\n",
       "      <td>0.0</td>\n",
       "      <td>0.0</td>\n",
       "      <td>1.0</td>\n",
       "      <td>0.0</td>\n",
       "      <td>0.0</td>\n",
       "      <td>0.0</td>\n",
       "      <td>1.0</td>\n",
       "      <td>...</td>\n",
       "      <td>0.0</td>\n",
       "      <td>1.0</td>\n",
       "      <td>1.0</td>\n",
       "      <td>0.0</td>\n",
       "      <td>1.0</td>\n",
       "      <td>0.0</td>\n",
       "      <td>1.0</td>\n",
       "      <td>0.0</td>\n",
       "      <td>0.0</td>\n",
       "      <td>1.0</td>\n",
       "    </tr>\n",
       "    <tr>\n",
       "      <th>0009542009984</th>\n",
       "      <td>1.0</td>\n",
       "      <td>0.0</td>\n",
       "      <td>1.0</td>\n",
       "      <td>0.0</td>\n",
       "      <td>1.0</td>\n",
       "      <td>0.0</td>\n",
       "      <td>0.0</td>\n",
       "      <td>0.0</td>\n",
       "      <td>0.0</td>\n",
       "      <td>1.0</td>\n",
       "      <td>...</td>\n",
       "      <td>0.0</td>\n",
       "      <td>1.0</td>\n",
       "      <td>1.0</td>\n",
       "      <td>0.0</td>\n",
       "      <td>1.0</td>\n",
       "      <td>0.0</td>\n",
       "      <td>1.0</td>\n",
       "      <td>0.0</td>\n",
       "      <td>0.0</td>\n",
       "      <td>1.0</td>\n",
       "    </tr>\n",
       "    <tr>\n",
       "      <th>0009542037949</th>\n",
       "      <td>1.0</td>\n",
       "      <td>0.0</td>\n",
       "      <td>1.0</td>\n",
       "      <td>0.0</td>\n",
       "      <td>0.0</td>\n",
       "      <td>1.0</td>\n",
       "      <td>0.0</td>\n",
       "      <td>0.0</td>\n",
       "      <td>0.0</td>\n",
       "      <td>1.0</td>\n",
       "      <td>...</td>\n",
       "      <td>0.0</td>\n",
       "      <td>1.0</td>\n",
       "      <td>1.0</td>\n",
       "      <td>0.0</td>\n",
       "      <td>1.0</td>\n",
       "      <td>0.0</td>\n",
       "      <td>1.0</td>\n",
       "      <td>0.0</td>\n",
       "      <td>0.0</td>\n",
       "      <td>1.0</td>\n",
       "    </tr>\n",
       "  </tbody>\n",
       "</table>\n",
       "<p>5 rows × 37 columns</p>\n",
       "</div>"
      ],
      "text/plain": [
       "states         brands-completed  brands-to-be-completed  categories-completed  \\\n",
       "code                                                                            \n",
       "0000101209159               1.0                     0.0                   1.0   \n",
       "00071185                    1.0                     0.0                   1.0   \n",
       "0009542005979               1.0                     0.0                   1.0   \n",
       "0009542009984               1.0                     0.0                   1.0   \n",
       "0009542037949               1.0                     0.0                   1.0   \n",
       "\n",
       "states         categories-to-be-completed  characteristics-completed  \\\n",
       "code                                                                   \n",
       "0000101209159                         0.0                        0.0   \n",
       "00071185                              0.0                        0.0   \n",
       "0009542005979                         0.0                        0.0   \n",
       "0009542009984                         0.0                        1.0   \n",
       "0009542037949                         0.0                        0.0   \n",
       "\n",
       "states         characteristics-to-be-completed  checked  complete  \\\n",
       "code                                                                \n",
       "0000101209159                              1.0      0.0       0.0   \n",
       "00071185                                   1.0      0.0       0.0   \n",
       "0009542005979                              1.0      0.0       0.0   \n",
       "0009542009984                              0.0      0.0       0.0   \n",
       "0009542037949                              1.0      0.0       0.0   \n",
       "\n",
       "states         expiration-date-completed  expiration-date-to-be-completed  \\\n",
       "code                                                                        \n",
       "0000101209159                        1.0                              0.0   \n",
       "00071185                             1.0                              0.0   \n",
       "0009542005979                        0.0                              1.0   \n",
       "0009542009984                        0.0                              1.0   \n",
       "0009542037949                        0.0                              1.0   \n",
       "\n",
       "states         ...  photos-to-be-uploaded  photos-to-be-validated  \\\n",
       "code           ...                                                  \n",
       "0000101209159  ...                    0.0                     1.0   \n",
       "00071185       ...                    0.0                     1.0   \n",
       "0009542005979  ...                    0.0                     1.0   \n",
       "0009542009984  ...                    0.0                     1.0   \n",
       "0009542037949  ...                    0.0                     1.0   \n",
       "\n",
       "states         photos-uploaded  photos-validated  product-name-completed  \\\n",
       "code                                                                       \n",
       "0000101209159              1.0               0.0                     1.0   \n",
       "00071185                   1.0               0.0                     1.0   \n",
       "0009542005979              1.0               0.0                     1.0   \n",
       "0009542009984              1.0               0.0                     1.0   \n",
       "0009542037949              1.0               0.0                     1.0   \n",
       "\n",
       "states         product-name-to-be-completed  quantity-completed  \\\n",
       "code                                                              \n",
       "0000101209159                           0.0                 1.0   \n",
       "00071185                                0.0                 1.0   \n",
       "0009542005979                           0.0                 1.0   \n",
       "0009542009984                           0.0                 1.0   \n",
       "0009542037949                           0.0                 1.0   \n",
       "\n",
       "states         quantity-to-be-completed  to-be-checked  to-be-completed  \n",
       "code                                                                     \n",
       "0000101209159                       0.0            0.0              1.0  \n",
       "00071185                            0.0            0.0              1.0  \n",
       "0009542005979                       0.0            0.0              1.0  \n",
       "0009542009984                       0.0            0.0              1.0  \n",
       "0009542037949                       0.0            0.0              1.0  \n",
       "\n",
       "[5 rows x 37 columns]"
      ]
     },
     "execution_count": 56,
     "metadata": {},
     "output_type": "execute_result"
    }
   ],
   "source": [
    "# 2. Pivot the table to have one variable for each individual state \n",
    "# (we need to reset the index and create a column value to pivot the table)\n",
    "df_states.reset_index(inplace=True)\n",
    "df_states['values'] = 1\n",
    "df_states = df_states.pivot_table(index='code', columns='states', values='values', fill_value=0)\n",
    "df_states.head()"
   ]
  },
  {
   "cell_type": "code",
   "execution_count": 57,
   "metadata": {},
   "outputs": [
    {
     "data": {
      "text/html": [
       "<div>\n",
       "<style scoped>\n",
       "    .dataframe tbody tr th:only-of-type {\n",
       "        vertical-align: middle;\n",
       "    }\n",
       "\n",
       "    .dataframe tbody tr th {\n",
       "        vertical-align: top;\n",
       "    }\n",
       "\n",
       "    .dataframe thead th {\n",
       "        text-align: right;\n",
       "    }\n",
       "</style>\n",
       "<table border=\"1\" class=\"dataframe\">\n",
       "  <thead>\n",
       "    <tr style=\"text-align: right;\">\n",
       "      <th>states</th>\n",
       "      <th>brands-completed</th>\n",
       "      <th>categories-completed</th>\n",
       "      <th>characteristics-completed</th>\n",
       "      <th>checked</th>\n",
       "      <th>complete</th>\n",
       "      <th>expiration-date-completed</th>\n",
       "      <th>front-photo-selected</th>\n",
       "      <th>ingredients-completed</th>\n",
       "      <th>ingredients-photo-selected</th>\n",
       "      <th>nutrition-facts-completed</th>\n",
       "      <th>nutrition-photo-selected</th>\n",
       "      <th>origins-completed</th>\n",
       "      <th>packaging-code-completed</th>\n",
       "      <th>packaging-completed</th>\n",
       "      <th>packaging-photo-selected</th>\n",
       "      <th>photos-uploaded</th>\n",
       "      <th>photos-validated</th>\n",
       "      <th>product-name-completed</th>\n",
       "      <th>quantity-completed</th>\n",
       "    </tr>\n",
       "    <tr>\n",
       "      <th>code</th>\n",
       "      <th></th>\n",
       "      <th></th>\n",
       "      <th></th>\n",
       "      <th></th>\n",
       "      <th></th>\n",
       "      <th></th>\n",
       "      <th></th>\n",
       "      <th></th>\n",
       "      <th></th>\n",
       "      <th></th>\n",
       "      <th></th>\n",
       "      <th></th>\n",
       "      <th></th>\n",
       "      <th></th>\n",
       "      <th></th>\n",
       "      <th></th>\n",
       "      <th></th>\n",
       "      <th></th>\n",
       "      <th></th>\n",
       "    </tr>\n",
       "  </thead>\n",
       "  <tbody>\n",
       "    <tr>\n",
       "      <th>0000101209159</th>\n",
       "      <td>1.0</td>\n",
       "      <td>1.0</td>\n",
       "      <td>0.0</td>\n",
       "      <td>0.0</td>\n",
       "      <td>0.0</td>\n",
       "      <td>1.0</td>\n",
       "      <td>1.0</td>\n",
       "      <td>0.0</td>\n",
       "      <td>1.0</td>\n",
       "      <td>1.0</td>\n",
       "      <td>1.0</td>\n",
       "      <td>0.0</td>\n",
       "      <td>0.0</td>\n",
       "      <td>0.0</td>\n",
       "      <td>0.0</td>\n",
       "      <td>1.0</td>\n",
       "      <td>0.0</td>\n",
       "      <td>1.0</td>\n",
       "      <td>1.0</td>\n",
       "    </tr>\n",
       "    <tr>\n",
       "      <th>00071185</th>\n",
       "      <td>1.0</td>\n",
       "      <td>1.0</td>\n",
       "      <td>0.0</td>\n",
       "      <td>0.0</td>\n",
       "      <td>0.0</td>\n",
       "      <td>1.0</td>\n",
       "      <td>1.0</td>\n",
       "      <td>1.0</td>\n",
       "      <td>1.0</td>\n",
       "      <td>1.0</td>\n",
       "      <td>0.0</td>\n",
       "      <td>0.0</td>\n",
       "      <td>0.0</td>\n",
       "      <td>1.0</td>\n",
       "      <td>0.0</td>\n",
       "      <td>1.0</td>\n",
       "      <td>0.0</td>\n",
       "      <td>1.0</td>\n",
       "      <td>1.0</td>\n",
       "    </tr>\n",
       "    <tr>\n",
       "      <th>0009542005979</th>\n",
       "      <td>1.0</td>\n",
       "      <td>1.0</td>\n",
       "      <td>0.0</td>\n",
       "      <td>0.0</td>\n",
       "      <td>0.0</td>\n",
       "      <td>0.0</td>\n",
       "      <td>1.0</td>\n",
       "      <td>1.0</td>\n",
       "      <td>1.0</td>\n",
       "      <td>1.0</td>\n",
       "      <td>0.0</td>\n",
       "      <td>0.0</td>\n",
       "      <td>0.0</td>\n",
       "      <td>0.0</td>\n",
       "      <td>0.0</td>\n",
       "      <td>1.0</td>\n",
       "      <td>0.0</td>\n",
       "      <td>1.0</td>\n",
       "      <td>1.0</td>\n",
       "    </tr>\n",
       "    <tr>\n",
       "      <th>0009542009984</th>\n",
       "      <td>1.0</td>\n",
       "      <td>1.0</td>\n",
       "      <td>1.0</td>\n",
       "      <td>0.0</td>\n",
       "      <td>0.0</td>\n",
       "      <td>0.0</td>\n",
       "      <td>1.0</td>\n",
       "      <td>1.0</td>\n",
       "      <td>1.0</td>\n",
       "      <td>1.0</td>\n",
       "      <td>1.0</td>\n",
       "      <td>1.0</td>\n",
       "      <td>1.0</td>\n",
       "      <td>1.0</td>\n",
       "      <td>0.0</td>\n",
       "      <td>1.0</td>\n",
       "      <td>0.0</td>\n",
       "      <td>1.0</td>\n",
       "      <td>1.0</td>\n",
       "    </tr>\n",
       "    <tr>\n",
       "      <th>0009542037949</th>\n",
       "      <td>1.0</td>\n",
       "      <td>1.0</td>\n",
       "      <td>0.0</td>\n",
       "      <td>0.0</td>\n",
       "      <td>0.0</td>\n",
       "      <td>0.0</td>\n",
       "      <td>1.0</td>\n",
       "      <td>1.0</td>\n",
       "      <td>0.0</td>\n",
       "      <td>1.0</td>\n",
       "      <td>0.0</td>\n",
       "      <td>1.0</td>\n",
       "      <td>1.0</td>\n",
       "      <td>0.0</td>\n",
       "      <td>0.0</td>\n",
       "      <td>1.0</td>\n",
       "      <td>0.0</td>\n",
       "      <td>1.0</td>\n",
       "      <td>1.0</td>\n",
       "    </tr>\n",
       "  </tbody>\n",
       "</table>\n",
       "</div>"
      ],
      "text/plain": [
       "states         brands-completed  categories-completed  \\\n",
       "code                                                    \n",
       "0000101209159               1.0                   1.0   \n",
       "00071185                    1.0                   1.0   \n",
       "0009542005979               1.0                   1.0   \n",
       "0009542009984               1.0                   1.0   \n",
       "0009542037949               1.0                   1.0   \n",
       "\n",
       "states         characteristics-completed  checked  complete  \\\n",
       "code                                                          \n",
       "0000101209159                        0.0      0.0       0.0   \n",
       "00071185                             0.0      0.0       0.0   \n",
       "0009542005979                        0.0      0.0       0.0   \n",
       "0009542009984                        1.0      0.0       0.0   \n",
       "0009542037949                        0.0      0.0       0.0   \n",
       "\n",
       "states         expiration-date-completed  front-photo-selected  \\\n",
       "code                                                             \n",
       "0000101209159                        1.0                   1.0   \n",
       "00071185                             1.0                   1.0   \n",
       "0009542005979                        0.0                   1.0   \n",
       "0009542009984                        0.0                   1.0   \n",
       "0009542037949                        0.0                   1.0   \n",
       "\n",
       "states         ingredients-completed  ingredients-photo-selected  \\\n",
       "code                                                               \n",
       "0000101209159                    0.0                         1.0   \n",
       "00071185                         1.0                         1.0   \n",
       "0009542005979                    1.0                         1.0   \n",
       "0009542009984                    1.0                         1.0   \n",
       "0009542037949                    1.0                         0.0   \n",
       "\n",
       "states         nutrition-facts-completed  nutrition-photo-selected  \\\n",
       "code                                                                 \n",
       "0000101209159                        1.0                       1.0   \n",
       "00071185                             1.0                       0.0   \n",
       "0009542005979                        1.0                       0.0   \n",
       "0009542009984                        1.0                       1.0   \n",
       "0009542037949                        1.0                       0.0   \n",
       "\n",
       "states         origins-completed  packaging-code-completed  \\\n",
       "code                                                         \n",
       "0000101209159                0.0                       0.0   \n",
       "00071185                     0.0                       0.0   \n",
       "0009542005979                0.0                       0.0   \n",
       "0009542009984                1.0                       1.0   \n",
       "0009542037949                1.0                       1.0   \n",
       "\n",
       "states         packaging-completed  packaging-photo-selected  photos-uploaded  \\\n",
       "code                                                                            \n",
       "0000101209159                  0.0                       0.0              1.0   \n",
       "00071185                       1.0                       0.0              1.0   \n",
       "0009542005979                  0.0                       0.0              1.0   \n",
       "0009542009984                  1.0                       0.0              1.0   \n",
       "0009542037949                  0.0                       0.0              1.0   \n",
       "\n",
       "states         photos-validated  product-name-completed  quantity-completed  \n",
       "code                                                                         \n",
       "0000101209159               0.0                     1.0                 1.0  \n",
       "00071185                    0.0                     1.0                 1.0  \n",
       "0009542005979               0.0                     1.0                 1.0  \n",
       "0009542009984               0.0                     1.0                 1.0  \n",
       "0009542037949               0.0                     1.0                 1.0  "
      ]
     },
     "execution_count": 57,
     "metadata": {},
     "output_type": "execute_result"
    }
   ],
   "source": [
    "# 3. Keep only the completed states (remove the empty state and states containing to-be)\n",
    "columns_to_drop = df_states.columns[df_states.columns.str.contains(r'to-be|empty')]\n",
    "df_states.drop(axis=1, columns=columns_to_drop, inplace=True)\n",
    "df_states.head()"
   ]
  },
  {
   "cell_type": "code",
   "execution_count": 58,
   "metadata": {},
   "outputs": [],
   "source": [
    "# Join the source variable\n",
    "df_states = df_states.join(df.source, how='inner')"
   ]
  },
  {
   "cell_type": "markdown",
   "metadata": {},
   "source": [
    "## Saved Dataframe for future use"
   ]
  },
  {
   "cell_type": "code",
   "execution_count": null,
   "metadata": {},
   "outputs": [],
   "source": [
    "# Save DataFrame to Parquet format\n",
    "df.to_parquet('saved_dataframe.parquet')"
   ]
  }
 ],
 "metadata": {
  "kernelspec": {
   "display_name": "Python 3",
   "language": "python",
   "name": "python3"
  },
  "language_info": {
   "codemirror_mode": {
    "name": "ipython",
    "version": 3
   },
   "file_extension": ".py",
   "mimetype": "text/x-python",
   "name": "python",
   "nbconvert_exporter": "python",
   "pygments_lexer": "ipython3",
   "version": "3.11.8"
  }
 },
 "nbformat": 4,
 "nbformat_minor": 2
}
